{
 "cells": [
  {
   "cell_type": "markdown",
   "id": "b8c72197",
   "metadata": {},
   "source": [
    "# The Progressors: Class of 2021/22\n",
    "\n",
    "Finishers are responsible for scoring goals. Creators are responsible for getting the ball to the finishers (assisting the finisher). I would like to suggest another key type of player in a side's attack: the progressors. The progressor's primary responsibility is to move the ball towards the goal. Without getting the ball into advanced positions on the pitch, there is no chance of scoring goals. This role is integral. You could describe the entire game of football simply as the repeated attempt to get the ball as near to the opponent's goal as possible. \n",
    "\n",
    "There are fundamentally two ways of progressing the ball: passing and carrying. There are progressors in the middle of the pitch (that move the ball into the final third) and progressors in more advanced positions (that move the ball into the penalty box). \n",
    "\n",
    "Goals and assists are the standard metrics we use to judge finishers and creators respectively. Thanks to the development of advanced metrics, we also have simple, publicly available metrics to measure progressor output. The below graphs illustrate the progression metrics for the top progressors in Europe's big five leagues and illuminate some of the ways in which progressors may differ from each other. There are four metrics covered:\n",
    "\n",
    "* Number of Passes into the Final Third\n",
    "* Number of Carries into the Final Third\n",
    "* Number of Passes into the 18 Yard Box\n",
    "* Number of Carries into the 18 Yard Box\n",
    "\n",
    "All data has been downloaded from FBref. For the purposes of this season review I have opted to include metrics that have *not* been adjusted per 90. This is because we are specifically looking at who had the best progression output over the season. We focusing on which players progressed the ball the most for their side, rather than a player's rate of progression. This is much like how the Golden Boot winner is the player that scored the most goals over the season, regardless of how many minutes he played. Nonetheless, I have included per 90 metrics which can be viewed upon hovering if you're interested.\n",
    "\n",
    "For the purposes of these graphs, we are looking at the top 50 progressors. The bar chart at the end contains the top 25 progressors when taking into account all four metrics."
   ]
  },
  {
   "cell_type": "code",
   "execution_count": 170,
   "id": "a6284918",
   "metadata": {},
   "outputs": [
    {
     "data": {
      "text/html": [
       "<script>\n",
       "    function luc21893_refresh_cell(cell) {\n",
       "        if( cell.luc21893 ) return;\n",
       "        cell.luc21893 = true;\n",
       "        console.debug('New code cell found...' );\n",
       "        \n",
       "        var div = document.createElement('DIV');            \n",
       "        cell.parentNode.insertBefore( div, cell.nextSibling );\n",
       "        div.style.textAlign = 'right';\n",
       "        var a = document.createElement('A');\n",
       "        div.appendChild(a);\n",
       "        a.href='#'\n",
       "        a.luc21893 = cell;\n",
       "        a.setAttribute( 'onclick', \"luc21893_toggle(this); return false;\" );\n",
       "\n",
       "        cell.style.visibility='hidden';\n",
       "        cell.style.position='absolute';\n",
       "        a.innerHTML = '[show code]';        \n",
       "                \n",
       "    }\n",
       "    function luc21893_refresh() {                \n",
       "        if( document.querySelector('.code_cell .input') == null ) {            \n",
       "            // it apeears that I am in a exported html\n",
       "            // hide this code\n",
       "            var codeCells = document.querySelectorAll('.jp-InputArea')\n",
       "            codeCells[0].style.visibility = 'hidden';\n",
       "            codeCells[0].style.position = 'absolute';                        \n",
       "            for( var i = 1; i < codeCells.length; i++ ) {\n",
       "                luc21893_refresh_cell(codeCells[i].parentNode)\n",
       "            }\n",
       "            window.onload = luc21893_refresh;\n",
       "        }                 \n",
       "        else {\n",
       "            // it apperas that I am in a jupyter editor\n",
       "            var codeCells = document.querySelectorAll('.code_cell .input')\n",
       "            for( var i = 0; i < codeCells.length; i++ ) {\n",
       "                luc21893_refresh_cell(codeCells[i])\n",
       "            }            \n",
       "            window.setTimeout( luc21893_refresh, 1000 )\n",
       "        }        \n",
       "    }\n",
       "    \n",
       "    function luc21893_toggle(a) {\n",
       "        if( a.luc21893.style.visibility=='hidden' ) {\n",
       "            a.luc21893.style.visibility='visible';        \n",
       "            a.luc21893.style.position='';\n",
       "            a.innerHTML = '[hide code]';\n",
       "        }\n",
       "        else {\n",
       "            a.luc21893.style.visibility='hidden';        \n",
       "            a.luc21893.style.position='absolute';\n",
       "            a.innerHTML = '[show code]';\n",
       "        }\n",
       "    }\n",
       "    \n",
       "    luc21893_refresh()\n",
       "</script>\n"
      ],
      "text/plain": [
       "<IPython.core.display.HTML object>"
      ]
     },
     "metadata": {},
     "output_type": "display_data"
    }
   ],
   "source": [
    "%%HTML \n",
    "<script>\n",
    "    function luc21893_refresh_cell(cell) {\n",
    "        if( cell.luc21893 ) return;\n",
    "        cell.luc21893 = true;\n",
    "        console.debug('New code cell found...' );\n",
    "        \n",
    "        var div = document.createElement('DIV');            \n",
    "        cell.parentNode.insertBefore( div, cell.nextSibling );\n",
    "        div.style.textAlign = 'right';\n",
    "        var a = document.createElement('A');\n",
    "        div.appendChild(a);\n",
    "        a.href='#'\n",
    "        a.luc21893 = cell;\n",
    "        a.setAttribute( 'onclick', \"luc21893_toggle(this); return false;\" );\n",
    "\n",
    "        cell.style.visibility='hidden';\n",
    "        cell.style.position='absolute';\n",
    "        a.innerHTML = '[show code]';        \n",
    "                \n",
    "    }\n",
    "    function luc21893_refresh() {                \n",
    "        if( document.querySelector('.code_cell .input') == null ) {            \n",
    "            // it apeears that I am in a exported html\n",
    "            // hide this code\n",
    "            var codeCells = document.querySelectorAll('.jp-InputArea')\n",
    "            codeCells[0].style.visibility = 'hidden';\n",
    "            codeCells[0].style.position = 'absolute';                        \n",
    "            for( var i = 1; i < codeCells.length; i++ ) {\n",
    "                luc21893_refresh_cell(codeCells[i].parentNode)\n",
    "            }\n",
    "            window.onload = luc21893_refresh;\n",
    "        }                 \n",
    "        else {\n",
    "            // it apperas that I am in a jupyter editor\n",
    "            var codeCells = document.querySelectorAll('.code_cell .input')\n",
    "            for( var i = 0; i < codeCells.length; i++ ) {\n",
    "                luc21893_refresh_cell(codeCells[i])\n",
    "            }            \n",
    "            window.setTimeout( luc21893_refresh, 1000 )\n",
    "        }        \n",
    "    }\n",
    "    \n",
    "    function luc21893_toggle(a) {\n",
    "        if( a.luc21893.style.visibility=='hidden' ) {\n",
    "            a.luc21893.style.visibility='visible';        \n",
    "            a.luc21893.style.position='';\n",
    "            a.innerHTML = '[hide code]';\n",
    "        }\n",
    "        else {\n",
    "            a.luc21893.style.visibility='hidden';        \n",
    "            a.luc21893.style.position='absolute';\n",
    "            a.innerHTML = '[show code]';\n",
    "        }\n",
    "    }\n",
    "    \n",
    "    luc21893_refresh()\n",
    "</script>"
   ]
  },
  {
   "cell_type": "code",
   "execution_count": 171,
   "id": "75b62ae2",
   "metadata": {},
   "outputs": [],
   "source": [
    "from statsbombpy import sb\n",
    "%matplotlib inline\n",
    "import json\n",
    "from pandas.io.json import json_normalize\n",
    "import numpy as np\n",
    "import seaborn as sns\n",
    "import pandas as pd\n",
    "import matplotlib.pyplot as plt\n",
    "from matplotlib.patches import Arc, Rectangle, ConnectionPatch\n",
    "from matplotlib.offsetbox import  OffsetImage\n",
    "import matplotlib.patches as mpatches\n",
    "from functools import reduce\n",
    "import plotly.graph_objects as px\n",
    "import plotly.express as px\n",
    "import plotly.graph_objs as go\n",
    "import warnings\n",
    "from plotly.validators.scatter.marker import SymbolValidator"
   ]
  },
  {
   "cell_type": "code",
   "execution_count": 172,
   "id": "59b13639",
   "metadata": {},
   "outputs": [],
   "source": [
    "#read csv files --- data from fbref\n",
    "carry18_df = pd.read_csv (r'carry18box.csv')\n",
    "carry18_df['Player'] = carry18_df['Player'].str.split(\"\\\\\").str[0]\n",
    "carry18_df = carry18_df[[\"Player\", \"Squad\", \"Comp\", \"CPA\", \"90s\"]]\n",
    "carry18_df.rename(columns = {'CPA':'Carry18'}, inplace = True)\n",
    "\n",
    "carry3rd_df = pd.read_csv (r'carry3rd.csv')\n",
    "carry3rd_df['Player'] = carry3rd_df['Player'].str.split(\"\\\\\").str[0]\n",
    "carry3rd_df = carry3rd_df[[\"Player\", \"Squad\", \"Comp\", \"1/3\", \"90s\"]]\n",
    "carry3rd_df.rename(columns = {'1/3':'Carry3rd'}, inplace = True)\n",
    "\n",
    "pass18_df = pd.read_csv (r'pass18box.csv')\n",
    "pass18_df['Player'] = pass18_df['Player'].str.split(\"\\\\\").str[0]\n",
    "pass18_df = pass18_df[[\"Player\", \"Squad\", \"Comp\", \"xA\", \"PPA\"]]\n",
    "pass18_df.rename(columns = {'PPA':'Pass18'}, inplace = True)\n",
    "\n",
    "pass3rd_df = pd.read_csv (r'pass3rd.csv')\n",
    "pass3rd_df['Player'] = pass3rd_df['Player'].str.split(\"\\\\\").str[0]\n",
    "pass3rd_df = pass3rd_df[[\"Player\", \"Squad\", \"Comp\", \"1/3\"]]\n",
    "pass3rd_df.rename(columns = {'1/3':'Pass3rd'}, inplace = True)\n",
    "\n",
    "final3rd_df = pd.merge(carry3rd_df, pass3rd_df)\n",
    "box18_df = pd.merge(carry18_df, pass18_df)\n",
    "\n",
    "pd.options.mode.chained_assignment = None"
   ]
  },
  {
   "cell_type": "markdown",
   "id": "60a7f5eb",
   "metadata": {},
   "source": [
    "## Moving into the final third\n",
    "\n",
    "João Cancelo (top right) sticks out as a particularly impressive final third progressor, with a high number of passes and carries into this area. Fellow Manchester City teammate Aymeric Laporte (bottom right) is also an accomplished progressor, but one with a distinct preference for passing the ball into that zone, rather than carrying it. Another noteworthy Manchester City progressor is Bernardo Silva (on the upper far left), who carries the ball into the final third a lot, but passes it in that direction less often than his peers.\n",
    "\n",
    "Outside of the Premier League champions, West Ham's young captain, Declan Rice, produces a significant number of progressions into the final third, as well as the perennial Leo Messi. In the bottom right, you might also notice two La Liga veterans, Kroos and Busquets, who still shoulder significant responsibility for progression, but almost exclusively through passing."
   ]
  },
  {
   "cell_type": "code",
   "execution_count": 173,
   "id": "91476d93",
   "metadata": {},
   "outputs": [
    {
     "data": {
      "application/vnd.plotly.v1+json": {
       "config": {
        "plotlyServerURL": "https://plot.ly"
       },
       "data": [
        {
         "customdata": [
          [
           "João Cancelo",
           "Manchester City",
           "eng Premier League",
           7.409,
           3.844
          ],
          [
           "Aymeric Laporte",
           "Manchester City",
           "eng Premier League",
           10.064,
           1.943
          ],
          [
           "Declan Rice",
           "West Ham",
           "eng Premier League",
           6.856,
           2.606
          ],
          [
           "Lionel Messi",
           "Paris S-G",
           "fr Ligue 1",
           8.075,
           4.728
          ],
          [
           "Toni Kroos",
           "Real Madrid",
           "es La Liga",
           11.496,
           1.581
          ],
          [
           "Mattéo Guendouzi",
           "Marseille",
           "fr Ligue 1",
           6.286,
           2.4
          ],
          [
           "Sergio Busquets",
           "Barcelona",
           "es La Liga",
           7.324,
           1.07
          ],
          [
           "Luis Alberto",
           "Lazio",
           "it Serie A",
           7.893,
           3.487
          ],
          [
           "Trent Alexander-Arnold",
           "Liverpool",
           "eng Premier League",
           7.287,
           2.082
          ],
          [
           "Maxime Lopez",
           "Sassuolo",
           "it Serie A",
           6.84,
           2.025
          ],
          [
           "Rodri",
           "Manchester City",
           "eng Premier League",
           7.562,
           1.375
          ],
          [
           "Antonio Rüdiger",
           "Chelsea",
           "eng Premier League",
           6.528,
           1.869
          ],
          [
           "Marcelo Brozović",
           "Inter",
           "it Serie A",
           6.81,
           1.748
          ],
          [
           "Jordi Alba",
           "Barcelona",
           "es La Liga",
           7.857,
           1.497
          ],
          [
           "Joël Matip",
           "Liverpool",
           "eng Premier League",
           6.323,
           2.419
          ],
          [
           "Pierre Højbjerg",
           "Tottenham",
           "eng Premier League",
           6.394,
           1.099
          ],
          [
           "Bryan Cristante",
           "Roma",
           "it Serie A",
           7.517,
           1.275
          ],
          [
           "Joshua Kimmich",
           "Bayern Munich",
           "de Bundesliga",
           7.927,
           1.564
          ],
          [
           "Jordan Ferri",
           "Montpellier",
           "fr Ligue 1",
           6.656,
           1.362
          ],
          [
           "Cheick Doucouré",
           "Lens",
           "fr Ligue 1",
           5.719,
           2.018
          ],
          [
           "Daniel Parejo",
           "Villarreal",
           "es La Liga",
           7.4,
           0.933
          ],
          [
           "Sergi Darder",
           "Espanyol",
           "es La Liga",
           5.072,
           2.104
          ],
          [
           "Marco Verratti",
           "Paris S-G",
           "fr Ligue 1",
           8.047,
           3.488
          ],
          [
           "Denis Suárez",
           "Celta Vigo",
           "es La Liga",
           5.335,
           2.588
          ],
          [
           "Jonathan Gradit",
           "Lens",
           "fr Ligue 1",
           5.66,
           1.554
          ],
          [
           "Jordan Henderson",
           "Liverpool",
           "eng Premier League",
           6.471,
           2.042
          ],
          [
           "Thiago Alcántara",
           "Liverpool",
           "eng Premier League",
           11.706,
           2.765
          ],
          [
           "Fabián Ruiz Peña",
           "Napoli",
           "it Serie A",
           6.906,
           2.302
          ],
          [
           "Nicolò Barella",
           "Inter",
           "it Serie A",
           4.568,
           2.685
          ],
          [
           "Rúben Neves",
           "Wolves",
           "eng Premier League",
           6.622,
           1.25
          ],
          [
           "Johan Gastien",
           "Clermont Foot",
           "fr Ligue 1",
           6.656,
           0.951
          ],
          [
           "Sergio Canales",
           "Betis",
           "es La Liga",
           4.774,
           2.645
          ],
          [
           "Bruno Fernandes",
           "Manchester Utd",
           "eng Premier League",
           4.48,
           2.168
          ],
          [
           "Giovanni Di Lorenzo",
           "Napoli",
           "it Serie A",
           4.639,
           2.539
          ],
          [
           "Antonio Candreva",
           "Sampdoria",
           "it Serie A",
           3.689,
           2.68
          ],
          [
           "Pedro Chirivella",
           "Nantes",
           "fr Ligue 1",
           6.758,
           0.785
          ],
          [
           "Frenkie de Jong",
           "Barcelona",
           "es La Liga",
           5.6,
           2.4
          ],
          [
           "Sergej Milinković-Savić",
           "Lazio",
           "it Serie A",
           4.797,
           1.512
          ],
          [
           "Luka Modrić",
           "Real Madrid",
           "es La Liga",
           7.699,
           1.858
          ],
          [
           "Thiago Silva",
           "Chelsea",
           "eng Premier League",
           6.531,
           0.816
          ],
          [
           "Dayot Upamecano",
           "Bayern Munich",
           "de Bundesliga",
           7.48,
           1.26
          ],
          [
           "Benjamin Pavard",
           "Bayern Munich",
           "de Bundesliga",
           7.576,
           1.645
          ],
          [
           "Remo Freuler",
           "Atalanta",
           "it Serie A",
           5.894,
           2.205
          ],
          [
           "Kevin De Bruyne",
           "Manchester City",
           "eng Premier League",
           5.388,
           3.306
          ],
          [
           "Pau Torres",
           "Villarreal",
           "es La Liga",
           5.426,
           1.293
          ],
          [
           "Lucas Hernández",
           "Bayern Munich",
           "de Bundesliga",
           7.655,
           1.726
          ],
          [
           "Hakan Çalhanoğlu",
           "Inter",
           "it Serie A",
           5.362,
           2.319
          ],
          [
           "Kyle Walker",
           "Manchester City",
           "eng Premier League",
           8.974,
           1.846
          ],
          [
           "Boubacar Kamara",
           "Marseille",
           "fr Ligue 1",
           5.922,
           0.906
          ],
          [
           "Bernardo Silva",
           "Manchester City",
           "eng Premier League",
           3.218,
           3.407
          ]
         ],
         "hovertemplate": "Passes=%{x}<br>Carries=%{y}<br>Player=%{customdata[0]}<br>Squad=%{customdata[1]}<br>Comp=%{customdata[2]}<br>Passes p90=%{customdata[3]}<br>Carries p90=%{customdata[4]}<br>Total=%{marker.color}<extra></extra>",
         "legendgroup": "",
         "marker": {
          "color": [
           404,
           377,
           334,
           306,
           306,
           304,
           298,
           297,
           297,
           289,
           286,
           283,
           279,
           275,
           271,
           266,
           262,
           261,
           259,
           253,
           250,
           249,
           248,
           248,
           246,
           246,
           246,
           244,
           235,
           233,
           232,
           230,
           230,
           229,
           221,
           221,
           220,
           217,
           216,
           216,
           215,
           213,
           213,
           213,
           213,
           212,
           212,
           211,
           211,
           210
          ],
          "coloraxis": "coloraxis",
          "symbol": "circle"
         },
         "mode": "markers",
         "name": "",
         "orientation": "v",
         "showlegend": false,
         "type": "scatter",
         "x": [
          266,
          316,
          242,
          193,
          269,
          220,
          260,
          206,
          231,
          223,
          242,
          220,
          222,
          231,
          196,
          227,
          224,
          218,
          215,
          187,
          222,
          176,
          173,
          167,
          193,
          187,
          199,
          183,
          148,
          196,
          203,
          148,
          155,
          148,
          128,
          198,
          154,
          165,
          174,
          192,
          184,
          175,
          155,
          132,
          172,
          173,
          148,
          175,
          183,
          102
         ],
         "xaxis": "x",
         "y": [
          138,
          61,
          92,
          113,
          37,
          84,
          38,
          91,
          66,
          66,
          44,
          63,
          57,
          44,
          75,
          39,
          38,
          43,
          44,
          66,
          28,
          73,
          75,
          81,
          53,
          59,
          47,
          61,
          87,
          37,
          29,
          82,
          75,
          81,
          93,
          23,
          66,
          52,
          42,
          24,
          31,
          38,
          58,
          81,
          41,
          39,
          64,
          36,
          28,
          108
         ],
         "yaxis": "y"
        }
       ],
       "layout": {
        "coloraxis": {
         "colorbar": {
          "title": {
           "text": "Total"
          }
         },
         "colorscale": [
          [
           0,
           "rgb(150,0,90)"
          ],
          [
           0.125,
           "rgb(0,0,200)"
          ],
          [
           0.25,
           "rgb(0,25,255)"
          ],
          [
           0.375,
           "rgb(0,152,255)"
          ],
          [
           0.5,
           "rgb(44,255,150)"
          ],
          [
           0.625,
           "rgb(151,255,0)"
          ],
          [
           0.75,
           "rgb(255,234,0)"
          ],
          [
           0.875,
           "rgb(255,111,0)"
          ],
          [
           1,
           "rgb(255,0,0)"
          ]
         ]
        },
        "legend": {
         "tracegroupgap": 0
        },
        "template": {
         "data": {
          "bar": [
           {
            "error_x": {
             "color": "#2a3f5f"
            },
            "error_y": {
             "color": "#2a3f5f"
            },
            "marker": {
             "line": {
              "color": "#E5ECF6",
              "width": 0.5
             },
             "pattern": {
              "fillmode": "overlay",
              "size": 10,
              "solidity": 0.2
             }
            },
            "type": "bar"
           }
          ],
          "barpolar": [
           {
            "marker": {
             "line": {
              "color": "#E5ECF6",
              "width": 0.5
             },
             "pattern": {
              "fillmode": "overlay",
              "size": 10,
              "solidity": 0.2
             }
            },
            "type": "barpolar"
           }
          ],
          "carpet": [
           {
            "aaxis": {
             "endlinecolor": "#2a3f5f",
             "gridcolor": "white",
             "linecolor": "white",
             "minorgridcolor": "white",
             "startlinecolor": "#2a3f5f"
            },
            "baxis": {
             "endlinecolor": "#2a3f5f",
             "gridcolor": "white",
             "linecolor": "white",
             "minorgridcolor": "white",
             "startlinecolor": "#2a3f5f"
            },
            "type": "carpet"
           }
          ],
          "choropleth": [
           {
            "colorbar": {
             "outlinewidth": 0,
             "ticks": ""
            },
            "type": "choropleth"
           }
          ],
          "contour": [
           {
            "colorbar": {
             "outlinewidth": 0,
             "ticks": ""
            },
            "colorscale": [
             [
              0,
              "#0d0887"
             ],
             [
              0.1111111111111111,
              "#46039f"
             ],
             [
              0.2222222222222222,
              "#7201a8"
             ],
             [
              0.3333333333333333,
              "#9c179e"
             ],
             [
              0.4444444444444444,
              "#bd3786"
             ],
             [
              0.5555555555555556,
              "#d8576b"
             ],
             [
              0.6666666666666666,
              "#ed7953"
             ],
             [
              0.7777777777777778,
              "#fb9f3a"
             ],
             [
              0.8888888888888888,
              "#fdca26"
             ],
             [
              1,
              "#f0f921"
             ]
            ],
            "type": "contour"
           }
          ],
          "contourcarpet": [
           {
            "colorbar": {
             "outlinewidth": 0,
             "ticks": ""
            },
            "type": "contourcarpet"
           }
          ],
          "heatmap": [
           {
            "colorbar": {
             "outlinewidth": 0,
             "ticks": ""
            },
            "colorscale": [
             [
              0,
              "#0d0887"
             ],
             [
              0.1111111111111111,
              "#46039f"
             ],
             [
              0.2222222222222222,
              "#7201a8"
             ],
             [
              0.3333333333333333,
              "#9c179e"
             ],
             [
              0.4444444444444444,
              "#bd3786"
             ],
             [
              0.5555555555555556,
              "#d8576b"
             ],
             [
              0.6666666666666666,
              "#ed7953"
             ],
             [
              0.7777777777777778,
              "#fb9f3a"
             ],
             [
              0.8888888888888888,
              "#fdca26"
             ],
             [
              1,
              "#f0f921"
             ]
            ],
            "type": "heatmap"
           }
          ],
          "heatmapgl": [
           {
            "colorbar": {
             "outlinewidth": 0,
             "ticks": ""
            },
            "colorscale": [
             [
              0,
              "#0d0887"
             ],
             [
              0.1111111111111111,
              "#46039f"
             ],
             [
              0.2222222222222222,
              "#7201a8"
             ],
             [
              0.3333333333333333,
              "#9c179e"
             ],
             [
              0.4444444444444444,
              "#bd3786"
             ],
             [
              0.5555555555555556,
              "#d8576b"
             ],
             [
              0.6666666666666666,
              "#ed7953"
             ],
             [
              0.7777777777777778,
              "#fb9f3a"
             ],
             [
              0.8888888888888888,
              "#fdca26"
             ],
             [
              1,
              "#f0f921"
             ]
            ],
            "type": "heatmapgl"
           }
          ],
          "histogram": [
           {
            "marker": {
             "pattern": {
              "fillmode": "overlay",
              "size": 10,
              "solidity": 0.2
             }
            },
            "type": "histogram"
           }
          ],
          "histogram2d": [
           {
            "colorbar": {
             "outlinewidth": 0,
             "ticks": ""
            },
            "colorscale": [
             [
              0,
              "#0d0887"
             ],
             [
              0.1111111111111111,
              "#46039f"
             ],
             [
              0.2222222222222222,
              "#7201a8"
             ],
             [
              0.3333333333333333,
              "#9c179e"
             ],
             [
              0.4444444444444444,
              "#bd3786"
             ],
             [
              0.5555555555555556,
              "#d8576b"
             ],
             [
              0.6666666666666666,
              "#ed7953"
             ],
             [
              0.7777777777777778,
              "#fb9f3a"
             ],
             [
              0.8888888888888888,
              "#fdca26"
             ],
             [
              1,
              "#f0f921"
             ]
            ],
            "type": "histogram2d"
           }
          ],
          "histogram2dcontour": [
           {
            "colorbar": {
             "outlinewidth": 0,
             "ticks": ""
            },
            "colorscale": [
             [
              0,
              "#0d0887"
             ],
             [
              0.1111111111111111,
              "#46039f"
             ],
             [
              0.2222222222222222,
              "#7201a8"
             ],
             [
              0.3333333333333333,
              "#9c179e"
             ],
             [
              0.4444444444444444,
              "#bd3786"
             ],
             [
              0.5555555555555556,
              "#d8576b"
             ],
             [
              0.6666666666666666,
              "#ed7953"
             ],
             [
              0.7777777777777778,
              "#fb9f3a"
             ],
             [
              0.8888888888888888,
              "#fdca26"
             ],
             [
              1,
              "#f0f921"
             ]
            ],
            "type": "histogram2dcontour"
           }
          ],
          "mesh3d": [
           {
            "colorbar": {
             "outlinewidth": 0,
             "ticks": ""
            },
            "type": "mesh3d"
           }
          ],
          "parcoords": [
           {
            "line": {
             "colorbar": {
              "outlinewidth": 0,
              "ticks": ""
             }
            },
            "type": "parcoords"
           }
          ],
          "pie": [
           {
            "automargin": true,
            "type": "pie"
           }
          ],
          "scatter": [
           {
            "marker": {
             "colorbar": {
              "outlinewidth": 0,
              "ticks": ""
             }
            },
            "type": "scatter"
           }
          ],
          "scatter3d": [
           {
            "line": {
             "colorbar": {
              "outlinewidth": 0,
              "ticks": ""
             }
            },
            "marker": {
             "colorbar": {
              "outlinewidth": 0,
              "ticks": ""
             }
            },
            "type": "scatter3d"
           }
          ],
          "scattercarpet": [
           {
            "marker": {
             "colorbar": {
              "outlinewidth": 0,
              "ticks": ""
             }
            },
            "type": "scattercarpet"
           }
          ],
          "scattergeo": [
           {
            "marker": {
             "colorbar": {
              "outlinewidth": 0,
              "ticks": ""
             }
            },
            "type": "scattergeo"
           }
          ],
          "scattergl": [
           {
            "marker": {
             "colorbar": {
              "outlinewidth": 0,
              "ticks": ""
             }
            },
            "type": "scattergl"
           }
          ],
          "scattermapbox": [
           {
            "marker": {
             "colorbar": {
              "outlinewidth": 0,
              "ticks": ""
             }
            },
            "type": "scattermapbox"
           }
          ],
          "scatterpolar": [
           {
            "marker": {
             "colorbar": {
              "outlinewidth": 0,
              "ticks": ""
             }
            },
            "type": "scatterpolar"
           }
          ],
          "scatterpolargl": [
           {
            "marker": {
             "colorbar": {
              "outlinewidth": 0,
              "ticks": ""
             }
            },
            "type": "scatterpolargl"
           }
          ],
          "scatterternary": [
           {
            "marker": {
             "colorbar": {
              "outlinewidth": 0,
              "ticks": ""
             }
            },
            "type": "scatterternary"
           }
          ],
          "surface": [
           {
            "colorbar": {
             "outlinewidth": 0,
             "ticks": ""
            },
            "colorscale": [
             [
              0,
              "#0d0887"
             ],
             [
              0.1111111111111111,
              "#46039f"
             ],
             [
              0.2222222222222222,
              "#7201a8"
             ],
             [
              0.3333333333333333,
              "#9c179e"
             ],
             [
              0.4444444444444444,
              "#bd3786"
             ],
             [
              0.5555555555555556,
              "#d8576b"
             ],
             [
              0.6666666666666666,
              "#ed7953"
             ],
             [
              0.7777777777777778,
              "#fb9f3a"
             ],
             [
              0.8888888888888888,
              "#fdca26"
             ],
             [
              1,
              "#f0f921"
             ]
            ],
            "type": "surface"
           }
          ],
          "table": [
           {
            "cells": {
             "fill": {
              "color": "#EBF0F8"
             },
             "line": {
              "color": "white"
             }
            },
            "header": {
             "fill": {
              "color": "#C8D4E3"
             },
             "line": {
              "color": "white"
             }
            },
            "type": "table"
           }
          ]
         },
         "layout": {
          "annotationdefaults": {
           "arrowcolor": "#2a3f5f",
           "arrowhead": 0,
           "arrowwidth": 1
          },
          "autotypenumbers": "strict",
          "coloraxis": {
           "colorbar": {
            "outlinewidth": 0,
            "ticks": ""
           }
          },
          "colorscale": {
           "diverging": [
            [
             0,
             "#8e0152"
            ],
            [
             0.1,
             "#c51b7d"
            ],
            [
             0.2,
             "#de77ae"
            ],
            [
             0.3,
             "#f1b6da"
            ],
            [
             0.4,
             "#fde0ef"
            ],
            [
             0.5,
             "#f7f7f7"
            ],
            [
             0.6,
             "#e6f5d0"
            ],
            [
             0.7,
             "#b8e186"
            ],
            [
             0.8,
             "#7fbc41"
            ],
            [
             0.9,
             "#4d9221"
            ],
            [
             1,
             "#276419"
            ]
           ],
           "sequential": [
            [
             0,
             "#0d0887"
            ],
            [
             0.1111111111111111,
             "#46039f"
            ],
            [
             0.2222222222222222,
             "#7201a8"
            ],
            [
             0.3333333333333333,
             "#9c179e"
            ],
            [
             0.4444444444444444,
             "#bd3786"
            ],
            [
             0.5555555555555556,
             "#d8576b"
            ],
            [
             0.6666666666666666,
             "#ed7953"
            ],
            [
             0.7777777777777778,
             "#fb9f3a"
            ],
            [
             0.8888888888888888,
             "#fdca26"
            ],
            [
             1,
             "#f0f921"
            ]
           ],
           "sequentialminus": [
            [
             0,
             "#0d0887"
            ],
            [
             0.1111111111111111,
             "#46039f"
            ],
            [
             0.2222222222222222,
             "#7201a8"
            ],
            [
             0.3333333333333333,
             "#9c179e"
            ],
            [
             0.4444444444444444,
             "#bd3786"
            ],
            [
             0.5555555555555556,
             "#d8576b"
            ],
            [
             0.6666666666666666,
             "#ed7953"
            ],
            [
             0.7777777777777778,
             "#fb9f3a"
            ],
            [
             0.8888888888888888,
             "#fdca26"
            ],
            [
             1,
             "#f0f921"
            ]
           ]
          },
          "colorway": [
           "#636efa",
           "#EF553B",
           "#00cc96",
           "#ab63fa",
           "#FFA15A",
           "#19d3f3",
           "#FF6692",
           "#B6E880",
           "#FF97FF",
           "#FECB52"
          ],
          "font": {
           "color": "#2a3f5f"
          },
          "geo": {
           "bgcolor": "white",
           "lakecolor": "white",
           "landcolor": "#E5ECF6",
           "showlakes": true,
           "showland": true,
           "subunitcolor": "white"
          },
          "hoverlabel": {
           "align": "left"
          },
          "hovermode": "closest",
          "mapbox": {
           "style": "light"
          },
          "paper_bgcolor": "white",
          "plot_bgcolor": "#E5ECF6",
          "polar": {
           "angularaxis": {
            "gridcolor": "white",
            "linecolor": "white",
            "ticks": ""
           },
           "bgcolor": "#E5ECF6",
           "radialaxis": {
            "gridcolor": "white",
            "linecolor": "white",
            "ticks": ""
           }
          },
          "scene": {
           "xaxis": {
            "backgroundcolor": "#E5ECF6",
            "gridcolor": "white",
            "gridwidth": 2,
            "linecolor": "white",
            "showbackground": true,
            "ticks": "",
            "zerolinecolor": "white"
           },
           "yaxis": {
            "backgroundcolor": "#E5ECF6",
            "gridcolor": "white",
            "gridwidth": 2,
            "linecolor": "white",
            "showbackground": true,
            "ticks": "",
            "zerolinecolor": "white"
           },
           "zaxis": {
            "backgroundcolor": "#E5ECF6",
            "gridcolor": "white",
            "gridwidth": 2,
            "linecolor": "white",
            "showbackground": true,
            "ticks": "",
            "zerolinecolor": "white"
           }
          },
          "shapedefaults": {
           "line": {
            "color": "#2a3f5f"
           }
          },
          "ternary": {
           "aaxis": {
            "gridcolor": "white",
            "linecolor": "white",
            "ticks": ""
           },
           "baxis": {
            "gridcolor": "white",
            "linecolor": "white",
            "ticks": ""
           },
           "bgcolor": "#E5ECF6",
           "caxis": {
            "gridcolor": "white",
            "linecolor": "white",
            "ticks": ""
           }
          },
          "title": {
           "x": 0.05
          },
          "xaxis": {
           "automargin": true,
           "gridcolor": "white",
           "linecolor": "white",
           "ticks": "",
           "title": {
            "standoff": 15
           },
           "zerolinecolor": "white",
           "zerolinewidth": 2
          },
          "yaxis": {
           "automargin": true,
           "gridcolor": "white",
           "linecolor": "white",
           "ticks": "",
           "title": {
            "standoff": 15
           },
           "zerolinecolor": "white",
           "zerolinewidth": 2
          }
         }
        },
        "title": {
         "text": "Big 5 2021/22: passes into final 3rd vs carries into final 3rd"
        },
        "xaxis": {
         "anchor": "y",
         "domain": [
          0,
          1
         ],
         "title": {
          "text": "Passes"
         }
        },
        "yaxis": {
         "anchor": "x",
         "domain": [
          0,
          1
         ],
         "title": {
          "text": "Carries"
         }
        }
       }
      },
      "text/html": [
       "<div>                            <div id=\"b58c1cf3-dc63-46da-904f-871844bc1e00\" class=\"plotly-graph-div\" style=\"height:525px; width:100%;\"></div>            <script type=\"text/javascript\">                require([\"plotly\"], function(Plotly) {                    window.PLOTLYENV=window.PLOTLYENV || {};                                    if (document.getElementById(\"b58c1cf3-dc63-46da-904f-871844bc1e00\")) {                    Plotly.newPlot(                        \"b58c1cf3-dc63-46da-904f-871844bc1e00\",                        [{\"customdata\":[[\"Jo\\u00e3o Cancelo\",\"Manchester City\",\"eng Premier League\",7.409,3.844],[\"Aymeric Laporte\",\"Manchester City\",\"eng Premier League\",10.064,1.943],[\"Declan Rice\",\"West Ham\",\"eng Premier League\",6.856,2.606],[\"Lionel Messi\",\"Paris S-G\",\"fr Ligue 1\",8.075,4.728],[\"Toni Kroos\",\"Real Madrid\",\"es La Liga\",11.496,1.581],[\"Matt\\u00e9o Guendouzi\",\"Marseille\",\"fr Ligue 1\",6.286,2.4],[\"Sergio Busquets\",\"Barcelona\",\"es La Liga\",7.324,1.07],[\"Luis Alberto\",\"Lazio\",\"it Serie A\",7.893,3.487],[\"Trent Alexander-Arnold\",\"Liverpool\",\"eng Premier League\",7.287,2.082],[\"Maxime Lopez\",\"Sassuolo\",\"it Serie A\",6.84,2.025],[\"Rodri\",\"Manchester City\",\"eng Premier League\",7.562,1.375],[\"Antonio R\\u00fcdiger\",\"Chelsea\",\"eng Premier League\",6.528,1.869],[\"Marcelo Brozovi\\u0107\",\"Inter\",\"it Serie A\",6.81,1.748],[\"Jordi Alba\",\"Barcelona\",\"es La Liga\",7.857,1.497],[\"Jo\\u00ebl Matip\",\"Liverpool\",\"eng Premier League\",6.323,2.419],[\"Pierre H\\u00f8jbjerg\",\"Tottenham\",\"eng Premier League\",6.394,1.099],[\"Bryan Cristante\",\"Roma\",\"it Serie A\",7.517,1.275],[\"Joshua Kimmich\",\"Bayern Munich\",\"de Bundesliga\",7.927,1.564],[\"Jordan Ferri\",\"Montpellier\",\"fr Ligue 1\",6.656,1.362],[\"Cheick Doucour\\u00e9\",\"Lens\",\"fr Ligue 1\",5.719,2.018],[\"Daniel Parejo\",\"Villarreal\",\"es La Liga\",7.4,0.933],[\"Sergi Darder\",\"Espanyol\",\"es La Liga\",5.072,2.104],[\"Marco Verratti\",\"Paris S-G\",\"fr Ligue 1\",8.047,3.488],[\"Denis Su\\u00e1rez\",\"Celta Vigo\",\"es La Liga\",5.335,2.588],[\"Jonathan Gradit\",\"Lens\",\"fr Ligue 1\",5.66,1.554],[\"Jordan Henderson\",\"Liverpool\",\"eng Premier League\",6.471,2.042],[\"Thiago Alc\\u00e1ntara\",\"Liverpool\",\"eng Premier League\",11.706,2.765],[\"Fabi\\u00e1n Ruiz Pe\\u00f1a\",\"Napoli\",\"it Serie A\",6.906,2.302],[\"Nicol\\u00f2 Barella\",\"Inter\",\"it Serie A\",4.568,2.685],[\"R\\u00faben Neves\",\"Wolves\",\"eng Premier League\",6.622,1.25],[\"Johan Gastien\",\"Clermont Foot\",\"fr Ligue 1\",6.656,0.951],[\"Sergio Canales\",\"Betis\",\"es La Liga\",4.774,2.645],[\"Bruno Fernandes\",\"Manchester Utd\",\"eng Premier League\",4.48,2.168],[\"Giovanni Di Lorenzo\",\"Napoli\",\"it Serie A\",4.639,2.539],[\"Antonio Candreva\",\"Sampdoria\",\"it Serie A\",3.689,2.68],[\"Pedro Chirivella\",\"Nantes\",\"fr Ligue 1\",6.758,0.785],[\"Frenkie de Jong\",\"Barcelona\",\"es La Liga\",5.6,2.4],[\"Sergej Milinkovi\\u0107-Savi\\u0107\",\"Lazio\",\"it Serie A\",4.797,1.512],[\"Luka Modri\\u0107\",\"Real Madrid\",\"es La Liga\",7.699,1.858],[\"Thiago Silva\",\"Chelsea\",\"eng Premier League\",6.531,0.816],[\"Dayot Upamecano\",\"Bayern Munich\",\"de Bundesliga\",7.48,1.26],[\"Benjamin Pavard\",\"Bayern Munich\",\"de Bundesliga\",7.576,1.645],[\"Remo Freuler\",\"Atalanta\",\"it Serie A\",5.894,2.205],[\"Kevin De Bruyne\",\"Manchester City\",\"eng Premier League\",5.388,3.306],[\"Pau Torres\",\"Villarreal\",\"es La Liga\",5.426,1.293],[\"Lucas Hern\\u00e1ndez\",\"Bayern Munich\",\"de Bundesliga\",7.655,1.726],[\"Hakan \\u00c7alhano\\u011flu\",\"Inter\",\"it Serie A\",5.362,2.319],[\"Kyle Walker\",\"Manchester City\",\"eng Premier League\",8.974,1.846],[\"Boubacar Kamara\",\"Marseille\",\"fr Ligue 1\",5.922,0.906],[\"Bernardo Silva\",\"Manchester City\",\"eng Premier League\",3.218,3.407]],\"hovertemplate\":\"Passes=%{x}<br>Carries=%{y}<br>Player=%{customdata[0]}<br>Squad=%{customdata[1]}<br>Comp=%{customdata[2]}<br>Passes p90=%{customdata[3]}<br>Carries p90=%{customdata[4]}<br>Total=%{marker.color}<extra></extra>\",\"legendgroup\":\"\",\"marker\":{\"color\":[404,377,334,306,306,304,298,297,297,289,286,283,279,275,271,266,262,261,259,253,250,249,248,248,246,246,246,244,235,233,232,230,230,229,221,221,220,217,216,216,215,213,213,213,213,212,212,211,211,210],\"coloraxis\":\"coloraxis\",\"symbol\":\"circle\"},\"mode\":\"markers\",\"name\":\"\",\"orientation\":\"v\",\"showlegend\":false,\"x\":[266,316,242,193,269,220,260,206,231,223,242,220,222,231,196,227,224,218,215,187,222,176,173,167,193,187,199,183,148,196,203,148,155,148,128,198,154,165,174,192,184,175,155,132,172,173,148,175,183,102],\"xaxis\":\"x\",\"y\":[138,61,92,113,37,84,38,91,66,66,44,63,57,44,75,39,38,43,44,66,28,73,75,81,53,59,47,61,87,37,29,82,75,81,93,23,66,52,42,24,31,38,58,81,41,39,64,36,28,108],\"yaxis\":\"y\",\"type\":\"scatter\"}],                        {\"template\":{\"data\":{\"bar\":[{\"error_x\":{\"color\":\"#2a3f5f\"},\"error_y\":{\"color\":\"#2a3f5f\"},\"marker\":{\"line\":{\"color\":\"#E5ECF6\",\"width\":0.5},\"pattern\":{\"fillmode\":\"overlay\",\"size\":10,\"solidity\":0.2}},\"type\":\"bar\"}],\"barpolar\":[{\"marker\":{\"line\":{\"color\":\"#E5ECF6\",\"width\":0.5},\"pattern\":{\"fillmode\":\"overlay\",\"size\":10,\"solidity\":0.2}},\"type\":\"barpolar\"}],\"carpet\":[{\"aaxis\":{\"endlinecolor\":\"#2a3f5f\",\"gridcolor\":\"white\",\"linecolor\":\"white\",\"minorgridcolor\":\"white\",\"startlinecolor\":\"#2a3f5f\"},\"baxis\":{\"endlinecolor\":\"#2a3f5f\",\"gridcolor\":\"white\",\"linecolor\":\"white\",\"minorgridcolor\":\"white\",\"startlinecolor\":\"#2a3f5f\"},\"type\":\"carpet\"}],\"choropleth\":[{\"colorbar\":{\"outlinewidth\":0,\"ticks\":\"\"},\"type\":\"choropleth\"}],\"contour\":[{\"colorbar\":{\"outlinewidth\":0,\"ticks\":\"\"},\"colorscale\":[[0.0,\"#0d0887\"],[0.1111111111111111,\"#46039f\"],[0.2222222222222222,\"#7201a8\"],[0.3333333333333333,\"#9c179e\"],[0.4444444444444444,\"#bd3786\"],[0.5555555555555556,\"#d8576b\"],[0.6666666666666666,\"#ed7953\"],[0.7777777777777778,\"#fb9f3a\"],[0.8888888888888888,\"#fdca26\"],[1.0,\"#f0f921\"]],\"type\":\"contour\"}],\"contourcarpet\":[{\"colorbar\":{\"outlinewidth\":0,\"ticks\":\"\"},\"type\":\"contourcarpet\"}],\"heatmap\":[{\"colorbar\":{\"outlinewidth\":0,\"ticks\":\"\"},\"colorscale\":[[0.0,\"#0d0887\"],[0.1111111111111111,\"#46039f\"],[0.2222222222222222,\"#7201a8\"],[0.3333333333333333,\"#9c179e\"],[0.4444444444444444,\"#bd3786\"],[0.5555555555555556,\"#d8576b\"],[0.6666666666666666,\"#ed7953\"],[0.7777777777777778,\"#fb9f3a\"],[0.8888888888888888,\"#fdca26\"],[1.0,\"#f0f921\"]],\"type\":\"heatmap\"}],\"heatmapgl\":[{\"colorbar\":{\"outlinewidth\":0,\"ticks\":\"\"},\"colorscale\":[[0.0,\"#0d0887\"],[0.1111111111111111,\"#46039f\"],[0.2222222222222222,\"#7201a8\"],[0.3333333333333333,\"#9c179e\"],[0.4444444444444444,\"#bd3786\"],[0.5555555555555556,\"#d8576b\"],[0.6666666666666666,\"#ed7953\"],[0.7777777777777778,\"#fb9f3a\"],[0.8888888888888888,\"#fdca26\"],[1.0,\"#f0f921\"]],\"type\":\"heatmapgl\"}],\"histogram\":[{\"marker\":{\"pattern\":{\"fillmode\":\"overlay\",\"size\":10,\"solidity\":0.2}},\"type\":\"histogram\"}],\"histogram2d\":[{\"colorbar\":{\"outlinewidth\":0,\"ticks\":\"\"},\"colorscale\":[[0.0,\"#0d0887\"],[0.1111111111111111,\"#46039f\"],[0.2222222222222222,\"#7201a8\"],[0.3333333333333333,\"#9c179e\"],[0.4444444444444444,\"#bd3786\"],[0.5555555555555556,\"#d8576b\"],[0.6666666666666666,\"#ed7953\"],[0.7777777777777778,\"#fb9f3a\"],[0.8888888888888888,\"#fdca26\"],[1.0,\"#f0f921\"]],\"type\":\"histogram2d\"}],\"histogram2dcontour\":[{\"colorbar\":{\"outlinewidth\":0,\"ticks\":\"\"},\"colorscale\":[[0.0,\"#0d0887\"],[0.1111111111111111,\"#46039f\"],[0.2222222222222222,\"#7201a8\"],[0.3333333333333333,\"#9c179e\"],[0.4444444444444444,\"#bd3786\"],[0.5555555555555556,\"#d8576b\"],[0.6666666666666666,\"#ed7953\"],[0.7777777777777778,\"#fb9f3a\"],[0.8888888888888888,\"#fdca26\"],[1.0,\"#f0f921\"]],\"type\":\"histogram2dcontour\"}],\"mesh3d\":[{\"colorbar\":{\"outlinewidth\":0,\"ticks\":\"\"},\"type\":\"mesh3d\"}],\"parcoords\":[{\"line\":{\"colorbar\":{\"outlinewidth\":0,\"ticks\":\"\"}},\"type\":\"parcoords\"}],\"pie\":[{\"automargin\":true,\"type\":\"pie\"}],\"scatter\":[{\"marker\":{\"colorbar\":{\"outlinewidth\":0,\"ticks\":\"\"}},\"type\":\"scatter\"}],\"scatter3d\":[{\"line\":{\"colorbar\":{\"outlinewidth\":0,\"ticks\":\"\"}},\"marker\":{\"colorbar\":{\"outlinewidth\":0,\"ticks\":\"\"}},\"type\":\"scatter3d\"}],\"scattercarpet\":[{\"marker\":{\"colorbar\":{\"outlinewidth\":0,\"ticks\":\"\"}},\"type\":\"scattercarpet\"}],\"scattergeo\":[{\"marker\":{\"colorbar\":{\"outlinewidth\":0,\"ticks\":\"\"}},\"type\":\"scattergeo\"}],\"scattergl\":[{\"marker\":{\"colorbar\":{\"outlinewidth\":0,\"ticks\":\"\"}},\"type\":\"scattergl\"}],\"scattermapbox\":[{\"marker\":{\"colorbar\":{\"outlinewidth\":0,\"ticks\":\"\"}},\"type\":\"scattermapbox\"}],\"scatterpolar\":[{\"marker\":{\"colorbar\":{\"outlinewidth\":0,\"ticks\":\"\"}},\"type\":\"scatterpolar\"}],\"scatterpolargl\":[{\"marker\":{\"colorbar\":{\"outlinewidth\":0,\"ticks\":\"\"}},\"type\":\"scatterpolargl\"}],\"scatterternary\":[{\"marker\":{\"colorbar\":{\"outlinewidth\":0,\"ticks\":\"\"}},\"type\":\"scatterternary\"}],\"surface\":[{\"colorbar\":{\"outlinewidth\":0,\"ticks\":\"\"},\"colorscale\":[[0.0,\"#0d0887\"],[0.1111111111111111,\"#46039f\"],[0.2222222222222222,\"#7201a8\"],[0.3333333333333333,\"#9c179e\"],[0.4444444444444444,\"#bd3786\"],[0.5555555555555556,\"#d8576b\"],[0.6666666666666666,\"#ed7953\"],[0.7777777777777778,\"#fb9f3a\"],[0.8888888888888888,\"#fdca26\"],[1.0,\"#f0f921\"]],\"type\":\"surface\"}],\"table\":[{\"cells\":{\"fill\":{\"color\":\"#EBF0F8\"},\"line\":{\"color\":\"white\"}},\"header\":{\"fill\":{\"color\":\"#C8D4E3\"},\"line\":{\"color\":\"white\"}},\"type\":\"table\"}]},\"layout\":{\"annotationdefaults\":{\"arrowcolor\":\"#2a3f5f\",\"arrowhead\":0,\"arrowwidth\":1},\"autotypenumbers\":\"strict\",\"coloraxis\":{\"colorbar\":{\"outlinewidth\":0,\"ticks\":\"\"}},\"colorscale\":{\"diverging\":[[0,\"#8e0152\"],[0.1,\"#c51b7d\"],[0.2,\"#de77ae\"],[0.3,\"#f1b6da\"],[0.4,\"#fde0ef\"],[0.5,\"#f7f7f7\"],[0.6,\"#e6f5d0\"],[0.7,\"#b8e186\"],[0.8,\"#7fbc41\"],[0.9,\"#4d9221\"],[1,\"#276419\"]],\"sequential\":[[0.0,\"#0d0887\"],[0.1111111111111111,\"#46039f\"],[0.2222222222222222,\"#7201a8\"],[0.3333333333333333,\"#9c179e\"],[0.4444444444444444,\"#bd3786\"],[0.5555555555555556,\"#d8576b\"],[0.6666666666666666,\"#ed7953\"],[0.7777777777777778,\"#fb9f3a\"],[0.8888888888888888,\"#fdca26\"],[1.0,\"#f0f921\"]],\"sequentialminus\":[[0.0,\"#0d0887\"],[0.1111111111111111,\"#46039f\"],[0.2222222222222222,\"#7201a8\"],[0.3333333333333333,\"#9c179e\"],[0.4444444444444444,\"#bd3786\"],[0.5555555555555556,\"#d8576b\"],[0.6666666666666666,\"#ed7953\"],[0.7777777777777778,\"#fb9f3a\"],[0.8888888888888888,\"#fdca26\"],[1.0,\"#f0f921\"]]},\"colorway\":[\"#636efa\",\"#EF553B\",\"#00cc96\",\"#ab63fa\",\"#FFA15A\",\"#19d3f3\",\"#FF6692\",\"#B6E880\",\"#FF97FF\",\"#FECB52\"],\"font\":{\"color\":\"#2a3f5f\"},\"geo\":{\"bgcolor\":\"white\",\"lakecolor\":\"white\",\"landcolor\":\"#E5ECF6\",\"showlakes\":true,\"showland\":true,\"subunitcolor\":\"white\"},\"hoverlabel\":{\"align\":\"left\"},\"hovermode\":\"closest\",\"mapbox\":{\"style\":\"light\"},\"paper_bgcolor\":\"white\",\"plot_bgcolor\":\"#E5ECF6\",\"polar\":{\"angularaxis\":{\"gridcolor\":\"white\",\"linecolor\":\"white\",\"ticks\":\"\"},\"bgcolor\":\"#E5ECF6\",\"radialaxis\":{\"gridcolor\":\"white\",\"linecolor\":\"white\",\"ticks\":\"\"}},\"scene\":{\"xaxis\":{\"backgroundcolor\":\"#E5ECF6\",\"gridcolor\":\"white\",\"gridwidth\":2,\"linecolor\":\"white\",\"showbackground\":true,\"ticks\":\"\",\"zerolinecolor\":\"white\"},\"yaxis\":{\"backgroundcolor\":\"#E5ECF6\",\"gridcolor\":\"white\",\"gridwidth\":2,\"linecolor\":\"white\",\"showbackground\":true,\"ticks\":\"\",\"zerolinecolor\":\"white\"},\"zaxis\":{\"backgroundcolor\":\"#E5ECF6\",\"gridcolor\":\"white\",\"gridwidth\":2,\"linecolor\":\"white\",\"showbackground\":true,\"ticks\":\"\",\"zerolinecolor\":\"white\"}},\"shapedefaults\":{\"line\":{\"color\":\"#2a3f5f\"}},\"ternary\":{\"aaxis\":{\"gridcolor\":\"white\",\"linecolor\":\"white\",\"ticks\":\"\"},\"baxis\":{\"gridcolor\":\"white\",\"linecolor\":\"white\",\"ticks\":\"\"},\"bgcolor\":\"#E5ECF6\",\"caxis\":{\"gridcolor\":\"white\",\"linecolor\":\"white\",\"ticks\":\"\"}},\"title\":{\"x\":0.05},\"xaxis\":{\"automargin\":true,\"gridcolor\":\"white\",\"linecolor\":\"white\",\"ticks\":\"\",\"title\":{\"standoff\":15},\"zerolinecolor\":\"white\",\"zerolinewidth\":2},\"yaxis\":{\"automargin\":true,\"gridcolor\":\"white\",\"linecolor\":\"white\",\"ticks\":\"\",\"title\":{\"standoff\":15},\"zerolinecolor\":\"white\",\"zerolinewidth\":2}}},\"xaxis\":{\"anchor\":\"y\",\"domain\":[0.0,1.0],\"title\":{\"text\":\"Passes\"}},\"yaxis\":{\"anchor\":\"x\",\"domain\":[0.0,1.0],\"title\":{\"text\":\"Carries\"}},\"coloraxis\":{\"colorbar\":{\"title\":{\"text\":\"Total\"}},\"colorscale\":[[0.0,\"rgb(150,0,90)\"],[0.125,\"rgb(0,0,200)\"],[0.25,\"rgb(0,25,255)\"],[0.375,\"rgb(0,152,255)\"],[0.5,\"rgb(44,255,150)\"],[0.625,\"rgb(151,255,0)\"],[0.75,\"rgb(255,234,0)\"],[0.875,\"rgb(255,111,0)\"],[1.0,\"rgb(255,0,0)\"]]},\"legend\":{\"tracegroupgap\":0},\"title\":{\"text\":\"Big 5 2021/22: passes into final 3rd vs carries into final 3rd\"}},                        {\"responsive\": true}                    ).then(function(){\n",
       "                            \n",
       "var gd = document.getElementById('b58c1cf3-dc63-46da-904f-871844bc1e00');\n",
       "var x = new MutationObserver(function (mutations, observer) {{\n",
       "        var display = window.getComputedStyle(gd).display;\n",
       "        if (!display || display === 'none') {{\n",
       "            console.log([gd, 'removed!']);\n",
       "            Plotly.purge(gd);\n",
       "            observer.disconnect();\n",
       "        }}\n",
       "}});\n",
       "\n",
       "// Listen for the removal of the full notebook cells\n",
       "var notebookContainer = gd.closest('#notebook-container');\n",
       "if (notebookContainer) {{\n",
       "    x.observe(notebookContainer, {childList: true});\n",
       "}}\n",
       "\n",
       "// Listen for the clearing of the current output cell\n",
       "var outputEl = gd.closest('.output');\n",
       "if (outputEl) {{\n",
       "    x.observe(outputEl, {childList: true});\n",
       "}}\n",
       "\n",
       "                        })                };                });            </script>        </div>"
      ]
     },
     "metadata": {},
     "output_type": "display_data"
    }
   ],
   "source": [
    "final3rd_df = pd.merge(carry3rd_df, pass3rd_df)\n",
    "final3rd_df['total3rd'] = final3rd_df['Carry3rd'] + final3rd_df['Pass3rd']\n",
    "final3rd_df['total3rd'] = final3rd_df['Carry3rd'] + final3rd_df['Pass3rd']\n",
    "final3rd_df['cp90'] = final3rd_df['Carry3rd'] / final3rd_df['90s']\n",
    "final3rd_df['pp90'] = final3rd_df['Pass3rd'] / final3rd_df['90s']\n",
    "final3rd_df.sort_values(by='total3rd', inplace=True, ascending=False)\n",
    "#keep only top 50\n",
    "prog3_df = final3rd_df.head(50)\n",
    "prog3_df['cp90'] = prog3_df['cp90'].round(decimals = 3)\n",
    "prog3_df['pp90'] = prog3_df['pp90'].round(decimals = 3)\n",
    "prog3_df.rename(columns = {'Carry3rd':'Carries', 'Pass3rd':'Passes', 'total3rd':'Total', 'cp90':'Carries p90', 'pp90':'Passes p90'}, inplace = True)\n",
    "fig = px.scatter(prog3_df, x=\"Passes\", y=\"Carries\", color=\"Total\", hover_data=['Player', 'Squad', 'Comp', 'Passes p90', 'Carries p90'], color_continuous_scale=px.colors.sequential.Rainbow, title=\"Big 5 2021/22: passes into final 3rd vs carries into final 3rd\")\n",
    "fig.show()"
   ]
  },
  {
   "cell_type": "markdown",
   "id": "62c9f96d",
   "metadata": {},
   "source": [
    "## Progression in advanced positions\n",
    "\n",
    "Vinícius Júnior's outstanding breakthrough season is reflected here. His ability to progress the ball into the penalty box is unmatched by any other player. He has registered a respectable number of passes into the box, but his primary method of progression into the box is through carries. Two other elite carriers of the ball into the box are Kylian Mbappé and Jack Grealish, with the latter particularly disinclined to pass the ball into the box. \n",
    "\n",
    "Stand out final third progressor João Cancelo also stands out for advanced progression. Although he produced an impressive number of final third carries, when it comes to progressing the ball into the box, Cancelo prefers to pass it (you'll find him on the far right of the chart). Current Ballon D'or winner Leo Messi and Ballon D'or hopeful Karim Benzema can also be found in this area of the chart, as can Alexander-Arnold, Benjamin Bourigeaud, and Bruno Fernandes. \n",
    "\n",
    "Perhaps more surprisingly, Gerard Deulofeu, a La Masia graduate who has never found his place in the Spanish national team, had an outstanding season as a progressor for Serie A side Udinese (he's at the upper right of the chart and is second only to Vini Jr for progression into the box)."
   ]
  },
  {
   "cell_type": "code",
   "execution_count": 174,
   "id": "4d507c87",
   "metadata": {},
   "outputs": [
    {
     "data": {
      "application/vnd.plotly.v1+json": {
       "config": {
        "plotlyServerURL": "https://plot.ly"
       },
       "data": [
        {
         "customdata": [
          [
           "Vinicius Júnior",
           "Real Madrid",
           "es La Liga",
           2.241,
           3.378
          ],
          [
           "Gerard Deulofeu",
           "Udinese",
           "it Serie A",
           2.749,
           2.612
          ],
          [
           "Kylian Mbappé",
           "Paris S-G",
           "fr Ligue 1",
           1.786,
           2.679
          ],
          [
           "Mohamed Salah",
           "Liverpool",
           "eng Premier League",
           1.987,
           2.313
          ],
          [
           "João Cancelo",
           "Manchester City",
           "eng Premier League",
           2.646,
           0.975
          ],
          [
           "Karim Benzema",
           "Real Madrid",
           "es La Liga",
           2.917,
           1.597
          ],
          [
           "Jack Grealish",
           "Manchester City",
           "eng Premier League",
           1.925,
           4.131
          ],
          [
           "Rafael Leão",
           "Milan",
           "it Serie A",
           1.765,
           2.422
          ],
          [
           "Lionel Messi",
           "Paris S-G",
           "fr Ligue 1",
           3.766,
           1.13
          ],
          [
           "Wilfried Zaha",
           "Crystal Palace",
           "eng Premier League",
           2.117,
           1.661
          ],
          [
           "Gianluca Caprari",
           "Hellas Verona",
           "it Serie A",
           2.171,
           1.579
          ],
          [
           "Felipe Anderson",
           "Lazio",
           "it Serie A",
           1.994,
           1.495
          ],
          [
           "Sadio Mané",
           "Liverpool",
           "eng Premier League",
           1.725,
           1.725
          ],
          [
           "Serge Gnabry",
           "Bayern Munich",
           "de Bundesliga",
           2.798,
           1.646
          ],
          [
           "Bruno Fernandes",
           "Manchester Utd",
           "eng Premier League",
           2.457,
           0.665
          ],
          [
           "Álvaro García",
           "Rayo Vallecano",
           "es La Liga",
           1.471,
           1.742
          ],
          [
           "Raheem Sterling",
           "Manchester City",
           "eng Premier League",
           2.331,
           2.203
          ],
          [
           "Ivan Perišić",
           "Inter",
           "it Serie A",
           1.949,
           1.374
          ],
          [
           "Benjamin Bourigeaud",
           "Rennes",
           "fr Ligue 1",
           2.479,
           0.423
          ],
          [
           "Nicolò Barella",
           "Inter",
           "it Serie A",
           2.469,
           0.71
          ],
          [
           "Trent Alexander-Arnold",
           "Liverpool",
           "eng Premier League",
           2.808,
           0.347
          ],
          [
           "Filip Kostić",
           "Eint Frankfurt",
           "de Bundesliga",
           2.286,
           1.286
          ],
          [
           "Moussa Diaby",
           "Leverkusen",
           "de Bundesliga",
           1.987,
           1.27
          ],
          [
           "Antonio Candreva",
           "Sampdoria",
           "it Serie A",
           2.075,
           0.807
          ],
          [
           "Yannick Carrasco",
           "Atlético Madrid",
           "es La Liga",
           1.638,
           1.812
          ],
          [
           "Son Heung-min",
           "Tottenham",
           "eng Premier League",
           1.347,
           1.587
          ],
          [
           "Leandro Trossard",
           "Brighton",
           "eng Premier League",
           1.859,
           1.282
          ],
          [
           "Iago Aspas",
           "Celta Vigo",
           "es La Liga",
           1.224,
           1.603
          ],
          [
           "Christopher Nkunku",
           "RB Leipzig",
           "de Bundesliga",
           1.914,
           1.287
          ],
          [
           "Lorenzo Insigne",
           "Napoli",
           "it Serie A",
           2.087,
           1.654
          ],
          [
           "Dimitri Payet",
           "Marseille",
           "fr Ligue 1",
           2.431,
           0.868
          ],
          [
           "Nabil Fekir",
           "Betis",
           "es La Liga",
           1.355,
           1.677
          ],
          [
           "Bukayo Saka",
           "Arsenal",
           "eng Premier League",
           0.967,
           1.843
          ],
          [
           "David Raum",
           "Hoffenheim",
           "de Bundesliga",
           2.451,
           0.556
          ],
          [
           "Iker Muniain",
           "Athletic Club",
           "es La Liga",
           2.33,
           0.647
          ],
          [
           "Domenico Berardi",
           "Sassuolo",
           "it Serie A",
           1.821,
           1.086
          ],
          [
           "Darko Lazović",
           "Hellas Verona",
           "it Serie A",
           1.759,
           1.14
          ],
          [
           "Kevin De Bruyne",
           "Manchester City",
           "eng Premier League",
           2.735,
           0.898
          ],
          [
           "Franck Honorat",
           "Brest",
           "fr Ligue 1",
           1.491,
           1.242
          ],
          [
           "Jadon Sancho",
           "Manchester Utd",
           "eng Premier League",
           1.706,
           2.464
          ],
          [
           "José Luis Morales",
           "Levante",
           "es La Liga",
           1.06,
           1.821
          ],
          [
           "Allan Saint-Maximin",
           "Newcastle Utd",
           "eng Premier League",
           1.026,
           1.699
          ],
          [
           "Ousmane Dembélé",
           "Barcelona",
           "es La Liga",
           2.675,
           2.739
          ],
          [
           "Mason Mount",
           "Chelsea",
           "eng Premier League",
           2.053,
           1.141
          ],
          [
           "Moses Simon",
           "Nantes",
           "fr Ligue 1",
           1.39,
           1.853
          ],
          [
           "Vincenzo Grifo",
           "Freiburg",
           "de Bundesliga",
           2.078,
           0.584
          ],
          [
           "Raphael Dias Belloli",
           "Leeds United",
           "eng Premier League",
           1.481,
           1.019
          ],
          [
           "Bernardo Silva",
           "Manchester City",
           "eng Premier League",
           1.325,
           1.23
          ],
          [
           "Cengiz Ünder",
           "Marseille",
           "fr Ligue 1",
           1.762,
           1.516
          ],
          [
           "Petar Stojanović",
           "Empoli",
           "it Serie A",
           2.138,
           0.461
          ]
         ],
         "hovertemplate": "Passes=%{x}<br>Carries=%{y}<br>Player=%{customdata[0]}<br>Squad=%{customdata[1]}<br>Comp=%{customdata[2]}<br>Passes p90=%{customdata[3]}<br>Carries p90=%{customdata[4]}<br>Total=%{marker.color}<extra></extra>",
         "legendgroup": "",
         "marker": {
          "color": [
           168,
           156,
           150,
           132,
           130,
           130,
           129,
           121,
           117,
           116,
           114,
           112,
           108,
           108,
           108,
           107,
           107,
           104,
           103,
           103,
           100,
           100,
           100,
           100,
           99,
           98,
           98,
           97,
           97,
           95,
           95,
           94,
           93,
           92,
           92,
           91,
           89,
           89,
           88,
           88,
           87,
           85,
           85,
           84,
           84,
           82,
           81,
           81,
           80,
           79
          ],
          "coloraxis": "coloraxis",
          "symbol": "circle"
         },
         "mode": "markers",
         "name": "",
         "orientation": "v",
         "showlegend": false,
         "type": "scatter",
         "x": [
          67,
          80,
          60,
          61,
          95,
          84,
          41,
          51,
          90,
          65,
          66,
          64,
          54,
          68,
          85,
          49,
          55,
          61,
          88,
          80,
          89,
          64,
          61,
          72,
          47,
          45,
          58,
          42,
          58,
          53,
          70,
          42,
          32,
          75,
          72,
          57,
          54,
          67,
          48,
          36,
          32,
          32,
          42,
          54,
          36,
          64,
          48,
          42,
          43,
          65
         ],
         "xaxis": "x",
         "y": [
          101,
          76,
          90,
          71,
          35,
          46,
          88,
          70,
          27,
          51,
          48,
          48,
          54,
          40,
          23,
          58,
          52,
          43,
          15,
          23,
          11,
          36,
          39,
          28,
          52,
          53,
          40,
          55,
          39,
          42,
          25,
          52,
          61,
          17,
          20,
          34,
          35,
          22,
          40,
          52,
          55,
          53,
          43,
          30,
          48,
          18,
          33,
          39,
          37,
          14
         ],
         "yaxis": "y"
        }
       ],
       "layout": {
        "coloraxis": {
         "colorbar": {
          "title": {
           "text": "Total"
          }
         },
         "colorscale": [
          [
           0,
           "rgb(150,0,90)"
          ],
          [
           0.125,
           "rgb(0,0,200)"
          ],
          [
           0.25,
           "rgb(0,25,255)"
          ],
          [
           0.375,
           "rgb(0,152,255)"
          ],
          [
           0.5,
           "rgb(44,255,150)"
          ],
          [
           0.625,
           "rgb(151,255,0)"
          ],
          [
           0.75,
           "rgb(255,234,0)"
          ],
          [
           0.875,
           "rgb(255,111,0)"
          ],
          [
           1,
           "rgb(255,0,0)"
          ]
         ]
        },
        "legend": {
         "tracegroupgap": 0
        },
        "template": {
         "data": {
          "bar": [
           {
            "error_x": {
             "color": "#2a3f5f"
            },
            "error_y": {
             "color": "#2a3f5f"
            },
            "marker": {
             "line": {
              "color": "#E5ECF6",
              "width": 0.5
             },
             "pattern": {
              "fillmode": "overlay",
              "size": 10,
              "solidity": 0.2
             }
            },
            "type": "bar"
           }
          ],
          "barpolar": [
           {
            "marker": {
             "line": {
              "color": "#E5ECF6",
              "width": 0.5
             },
             "pattern": {
              "fillmode": "overlay",
              "size": 10,
              "solidity": 0.2
             }
            },
            "type": "barpolar"
           }
          ],
          "carpet": [
           {
            "aaxis": {
             "endlinecolor": "#2a3f5f",
             "gridcolor": "white",
             "linecolor": "white",
             "minorgridcolor": "white",
             "startlinecolor": "#2a3f5f"
            },
            "baxis": {
             "endlinecolor": "#2a3f5f",
             "gridcolor": "white",
             "linecolor": "white",
             "minorgridcolor": "white",
             "startlinecolor": "#2a3f5f"
            },
            "type": "carpet"
           }
          ],
          "choropleth": [
           {
            "colorbar": {
             "outlinewidth": 0,
             "ticks": ""
            },
            "type": "choropleth"
           }
          ],
          "contour": [
           {
            "colorbar": {
             "outlinewidth": 0,
             "ticks": ""
            },
            "colorscale": [
             [
              0,
              "#0d0887"
             ],
             [
              0.1111111111111111,
              "#46039f"
             ],
             [
              0.2222222222222222,
              "#7201a8"
             ],
             [
              0.3333333333333333,
              "#9c179e"
             ],
             [
              0.4444444444444444,
              "#bd3786"
             ],
             [
              0.5555555555555556,
              "#d8576b"
             ],
             [
              0.6666666666666666,
              "#ed7953"
             ],
             [
              0.7777777777777778,
              "#fb9f3a"
             ],
             [
              0.8888888888888888,
              "#fdca26"
             ],
             [
              1,
              "#f0f921"
             ]
            ],
            "type": "contour"
           }
          ],
          "contourcarpet": [
           {
            "colorbar": {
             "outlinewidth": 0,
             "ticks": ""
            },
            "type": "contourcarpet"
           }
          ],
          "heatmap": [
           {
            "colorbar": {
             "outlinewidth": 0,
             "ticks": ""
            },
            "colorscale": [
             [
              0,
              "#0d0887"
             ],
             [
              0.1111111111111111,
              "#46039f"
             ],
             [
              0.2222222222222222,
              "#7201a8"
             ],
             [
              0.3333333333333333,
              "#9c179e"
             ],
             [
              0.4444444444444444,
              "#bd3786"
             ],
             [
              0.5555555555555556,
              "#d8576b"
             ],
             [
              0.6666666666666666,
              "#ed7953"
             ],
             [
              0.7777777777777778,
              "#fb9f3a"
             ],
             [
              0.8888888888888888,
              "#fdca26"
             ],
             [
              1,
              "#f0f921"
             ]
            ],
            "type": "heatmap"
           }
          ],
          "heatmapgl": [
           {
            "colorbar": {
             "outlinewidth": 0,
             "ticks": ""
            },
            "colorscale": [
             [
              0,
              "#0d0887"
             ],
             [
              0.1111111111111111,
              "#46039f"
             ],
             [
              0.2222222222222222,
              "#7201a8"
             ],
             [
              0.3333333333333333,
              "#9c179e"
             ],
             [
              0.4444444444444444,
              "#bd3786"
             ],
             [
              0.5555555555555556,
              "#d8576b"
             ],
             [
              0.6666666666666666,
              "#ed7953"
             ],
             [
              0.7777777777777778,
              "#fb9f3a"
             ],
             [
              0.8888888888888888,
              "#fdca26"
             ],
             [
              1,
              "#f0f921"
             ]
            ],
            "type": "heatmapgl"
           }
          ],
          "histogram": [
           {
            "marker": {
             "pattern": {
              "fillmode": "overlay",
              "size": 10,
              "solidity": 0.2
             }
            },
            "type": "histogram"
           }
          ],
          "histogram2d": [
           {
            "colorbar": {
             "outlinewidth": 0,
             "ticks": ""
            },
            "colorscale": [
             [
              0,
              "#0d0887"
             ],
             [
              0.1111111111111111,
              "#46039f"
             ],
             [
              0.2222222222222222,
              "#7201a8"
             ],
             [
              0.3333333333333333,
              "#9c179e"
             ],
             [
              0.4444444444444444,
              "#bd3786"
             ],
             [
              0.5555555555555556,
              "#d8576b"
             ],
             [
              0.6666666666666666,
              "#ed7953"
             ],
             [
              0.7777777777777778,
              "#fb9f3a"
             ],
             [
              0.8888888888888888,
              "#fdca26"
             ],
             [
              1,
              "#f0f921"
             ]
            ],
            "type": "histogram2d"
           }
          ],
          "histogram2dcontour": [
           {
            "colorbar": {
             "outlinewidth": 0,
             "ticks": ""
            },
            "colorscale": [
             [
              0,
              "#0d0887"
             ],
             [
              0.1111111111111111,
              "#46039f"
             ],
             [
              0.2222222222222222,
              "#7201a8"
             ],
             [
              0.3333333333333333,
              "#9c179e"
             ],
             [
              0.4444444444444444,
              "#bd3786"
             ],
             [
              0.5555555555555556,
              "#d8576b"
             ],
             [
              0.6666666666666666,
              "#ed7953"
             ],
             [
              0.7777777777777778,
              "#fb9f3a"
             ],
             [
              0.8888888888888888,
              "#fdca26"
             ],
             [
              1,
              "#f0f921"
             ]
            ],
            "type": "histogram2dcontour"
           }
          ],
          "mesh3d": [
           {
            "colorbar": {
             "outlinewidth": 0,
             "ticks": ""
            },
            "type": "mesh3d"
           }
          ],
          "parcoords": [
           {
            "line": {
             "colorbar": {
              "outlinewidth": 0,
              "ticks": ""
             }
            },
            "type": "parcoords"
           }
          ],
          "pie": [
           {
            "automargin": true,
            "type": "pie"
           }
          ],
          "scatter": [
           {
            "marker": {
             "colorbar": {
              "outlinewidth": 0,
              "ticks": ""
             }
            },
            "type": "scatter"
           }
          ],
          "scatter3d": [
           {
            "line": {
             "colorbar": {
              "outlinewidth": 0,
              "ticks": ""
             }
            },
            "marker": {
             "colorbar": {
              "outlinewidth": 0,
              "ticks": ""
             }
            },
            "type": "scatter3d"
           }
          ],
          "scattercarpet": [
           {
            "marker": {
             "colorbar": {
              "outlinewidth": 0,
              "ticks": ""
             }
            },
            "type": "scattercarpet"
           }
          ],
          "scattergeo": [
           {
            "marker": {
             "colorbar": {
              "outlinewidth": 0,
              "ticks": ""
             }
            },
            "type": "scattergeo"
           }
          ],
          "scattergl": [
           {
            "marker": {
             "colorbar": {
              "outlinewidth": 0,
              "ticks": ""
             }
            },
            "type": "scattergl"
           }
          ],
          "scattermapbox": [
           {
            "marker": {
             "colorbar": {
              "outlinewidth": 0,
              "ticks": ""
             }
            },
            "type": "scattermapbox"
           }
          ],
          "scatterpolar": [
           {
            "marker": {
             "colorbar": {
              "outlinewidth": 0,
              "ticks": ""
             }
            },
            "type": "scatterpolar"
           }
          ],
          "scatterpolargl": [
           {
            "marker": {
             "colorbar": {
              "outlinewidth": 0,
              "ticks": ""
             }
            },
            "type": "scatterpolargl"
           }
          ],
          "scatterternary": [
           {
            "marker": {
             "colorbar": {
              "outlinewidth": 0,
              "ticks": ""
             }
            },
            "type": "scatterternary"
           }
          ],
          "surface": [
           {
            "colorbar": {
             "outlinewidth": 0,
             "ticks": ""
            },
            "colorscale": [
             [
              0,
              "#0d0887"
             ],
             [
              0.1111111111111111,
              "#46039f"
             ],
             [
              0.2222222222222222,
              "#7201a8"
             ],
             [
              0.3333333333333333,
              "#9c179e"
             ],
             [
              0.4444444444444444,
              "#bd3786"
             ],
             [
              0.5555555555555556,
              "#d8576b"
             ],
             [
              0.6666666666666666,
              "#ed7953"
             ],
             [
              0.7777777777777778,
              "#fb9f3a"
             ],
             [
              0.8888888888888888,
              "#fdca26"
             ],
             [
              1,
              "#f0f921"
             ]
            ],
            "type": "surface"
           }
          ],
          "table": [
           {
            "cells": {
             "fill": {
              "color": "#EBF0F8"
             },
             "line": {
              "color": "white"
             }
            },
            "header": {
             "fill": {
              "color": "#C8D4E3"
             },
             "line": {
              "color": "white"
             }
            },
            "type": "table"
           }
          ]
         },
         "layout": {
          "annotationdefaults": {
           "arrowcolor": "#2a3f5f",
           "arrowhead": 0,
           "arrowwidth": 1
          },
          "autotypenumbers": "strict",
          "coloraxis": {
           "colorbar": {
            "outlinewidth": 0,
            "ticks": ""
           }
          },
          "colorscale": {
           "diverging": [
            [
             0,
             "#8e0152"
            ],
            [
             0.1,
             "#c51b7d"
            ],
            [
             0.2,
             "#de77ae"
            ],
            [
             0.3,
             "#f1b6da"
            ],
            [
             0.4,
             "#fde0ef"
            ],
            [
             0.5,
             "#f7f7f7"
            ],
            [
             0.6,
             "#e6f5d0"
            ],
            [
             0.7,
             "#b8e186"
            ],
            [
             0.8,
             "#7fbc41"
            ],
            [
             0.9,
             "#4d9221"
            ],
            [
             1,
             "#276419"
            ]
           ],
           "sequential": [
            [
             0,
             "#0d0887"
            ],
            [
             0.1111111111111111,
             "#46039f"
            ],
            [
             0.2222222222222222,
             "#7201a8"
            ],
            [
             0.3333333333333333,
             "#9c179e"
            ],
            [
             0.4444444444444444,
             "#bd3786"
            ],
            [
             0.5555555555555556,
             "#d8576b"
            ],
            [
             0.6666666666666666,
             "#ed7953"
            ],
            [
             0.7777777777777778,
             "#fb9f3a"
            ],
            [
             0.8888888888888888,
             "#fdca26"
            ],
            [
             1,
             "#f0f921"
            ]
           ],
           "sequentialminus": [
            [
             0,
             "#0d0887"
            ],
            [
             0.1111111111111111,
             "#46039f"
            ],
            [
             0.2222222222222222,
             "#7201a8"
            ],
            [
             0.3333333333333333,
             "#9c179e"
            ],
            [
             0.4444444444444444,
             "#bd3786"
            ],
            [
             0.5555555555555556,
             "#d8576b"
            ],
            [
             0.6666666666666666,
             "#ed7953"
            ],
            [
             0.7777777777777778,
             "#fb9f3a"
            ],
            [
             0.8888888888888888,
             "#fdca26"
            ],
            [
             1,
             "#f0f921"
            ]
           ]
          },
          "colorway": [
           "#636efa",
           "#EF553B",
           "#00cc96",
           "#ab63fa",
           "#FFA15A",
           "#19d3f3",
           "#FF6692",
           "#B6E880",
           "#FF97FF",
           "#FECB52"
          ],
          "font": {
           "color": "#2a3f5f"
          },
          "geo": {
           "bgcolor": "white",
           "lakecolor": "white",
           "landcolor": "#E5ECF6",
           "showlakes": true,
           "showland": true,
           "subunitcolor": "white"
          },
          "hoverlabel": {
           "align": "left"
          },
          "hovermode": "closest",
          "mapbox": {
           "style": "light"
          },
          "paper_bgcolor": "white",
          "plot_bgcolor": "#E5ECF6",
          "polar": {
           "angularaxis": {
            "gridcolor": "white",
            "linecolor": "white",
            "ticks": ""
           },
           "bgcolor": "#E5ECF6",
           "radialaxis": {
            "gridcolor": "white",
            "linecolor": "white",
            "ticks": ""
           }
          },
          "scene": {
           "xaxis": {
            "backgroundcolor": "#E5ECF6",
            "gridcolor": "white",
            "gridwidth": 2,
            "linecolor": "white",
            "showbackground": true,
            "ticks": "",
            "zerolinecolor": "white"
           },
           "yaxis": {
            "backgroundcolor": "#E5ECF6",
            "gridcolor": "white",
            "gridwidth": 2,
            "linecolor": "white",
            "showbackground": true,
            "ticks": "",
            "zerolinecolor": "white"
           },
           "zaxis": {
            "backgroundcolor": "#E5ECF6",
            "gridcolor": "white",
            "gridwidth": 2,
            "linecolor": "white",
            "showbackground": true,
            "ticks": "",
            "zerolinecolor": "white"
           }
          },
          "shapedefaults": {
           "line": {
            "color": "#2a3f5f"
           }
          },
          "ternary": {
           "aaxis": {
            "gridcolor": "white",
            "linecolor": "white",
            "ticks": ""
           },
           "baxis": {
            "gridcolor": "white",
            "linecolor": "white",
            "ticks": ""
           },
           "bgcolor": "#E5ECF6",
           "caxis": {
            "gridcolor": "white",
            "linecolor": "white",
            "ticks": ""
           }
          },
          "title": {
           "x": 0.05
          },
          "xaxis": {
           "automargin": true,
           "gridcolor": "white",
           "linecolor": "white",
           "ticks": "",
           "title": {
            "standoff": 15
           },
           "zerolinecolor": "white",
           "zerolinewidth": 2
          },
          "yaxis": {
           "automargin": true,
           "gridcolor": "white",
           "linecolor": "white",
           "ticks": "",
           "title": {
            "standoff": 15
           },
           "zerolinecolor": "white",
           "zerolinewidth": 2
          }
         }
        },
        "title": {
         "text": "Big 5 2021/22: Passes into Box vs Carries into Box"
        },
        "xaxis": {
         "anchor": "y",
         "domain": [
          0,
          1
         ],
         "title": {
          "text": "Passes"
         }
        },
        "yaxis": {
         "anchor": "x",
         "domain": [
          0,
          1
         ],
         "title": {
          "text": "Carries"
         }
        }
       }
      },
      "text/html": [
       "<div>                            <div id=\"56457972-a2e7-4c9c-918d-be51a97ff17e\" class=\"plotly-graph-div\" style=\"height:525px; width:100%;\"></div>            <script type=\"text/javascript\">                require([\"plotly\"], function(Plotly) {                    window.PLOTLYENV=window.PLOTLYENV || {};                                    if (document.getElementById(\"56457972-a2e7-4c9c-918d-be51a97ff17e\")) {                    Plotly.newPlot(                        \"56457972-a2e7-4c9c-918d-be51a97ff17e\",                        [{\"customdata\":[[\"Vinicius J\\u00fanior\",\"Real Madrid\",\"es La Liga\",2.241,3.378],[\"Gerard Deulofeu\",\"Udinese\",\"it Serie A\",2.749,2.612],[\"Kylian Mbapp\\u00e9\",\"Paris S-G\",\"fr Ligue 1\",1.786,2.679],[\"Mohamed Salah\",\"Liverpool\",\"eng Premier League\",1.987,2.313],[\"Jo\\u00e3o Cancelo\",\"Manchester City\",\"eng Premier League\",2.646,0.975],[\"Karim Benzema\",\"Real Madrid\",\"es La Liga\",2.917,1.597],[\"Jack Grealish\",\"Manchester City\",\"eng Premier League\",1.925,4.131],[\"Rafael Le\\u00e3o\",\"Milan\",\"it Serie A\",1.765,2.422],[\"Lionel Messi\",\"Paris S-G\",\"fr Ligue 1\",3.766,1.13],[\"Wilfried Zaha\",\"Crystal Palace\",\"eng Premier League\",2.117,1.661],[\"Gianluca Caprari\",\"Hellas Verona\",\"it Serie A\",2.171,1.579],[\"Felipe Anderson\",\"Lazio\",\"it Serie A\",1.994,1.495],[\"Sadio Man\\u00e9\",\"Liverpool\",\"eng Premier League\",1.725,1.725],[\"Serge Gnabry\",\"Bayern Munich\",\"de Bundesliga\",2.798,1.646],[\"Bruno Fernandes\",\"Manchester Utd\",\"eng Premier League\",2.457,0.665],[\"\\u00c1lvaro Garc\\u00eda\",\"Rayo Vallecano\",\"es La Liga\",1.471,1.742],[\"Raheem Sterling\",\"Manchester City\",\"eng Premier League\",2.331,2.203],[\"Ivan Peri\\u0161i\\u0107\",\"Inter\",\"it Serie A\",1.949,1.374],[\"Benjamin Bourigeaud\",\"Rennes\",\"fr Ligue 1\",2.479,0.423],[\"Nicol\\u00f2 Barella\",\"Inter\",\"it Serie A\",2.469,0.71],[\"Trent Alexander-Arnold\",\"Liverpool\",\"eng Premier League\",2.808,0.347],[\"Filip Kosti\\u0107\",\"Eint Frankfurt\",\"de Bundesliga\",2.286,1.286],[\"Moussa Diaby\",\"Leverkusen\",\"de Bundesliga\",1.987,1.27],[\"Antonio Candreva\",\"Sampdoria\",\"it Serie A\",2.075,0.807],[\"Yannick Carrasco\",\"Atl\\u00e9tico Madrid\",\"es La Liga\",1.638,1.812],[\"Son Heung-min\",\"Tottenham\",\"eng Premier League\",1.347,1.587],[\"Leandro Trossard\",\"Brighton\",\"eng Premier League\",1.859,1.282],[\"Iago Aspas\",\"Celta Vigo\",\"es La Liga\",1.224,1.603],[\"Christopher Nkunku\",\"RB Leipzig\",\"de Bundesliga\",1.914,1.287],[\"Lorenzo Insigne\",\"Napoli\",\"it Serie A\",2.087,1.654],[\"Dimitri Payet\",\"Marseille\",\"fr Ligue 1\",2.431,0.868],[\"Nabil Fekir\",\"Betis\",\"es La Liga\",1.355,1.677],[\"Bukayo Saka\",\"Arsenal\",\"eng Premier League\",0.967,1.843],[\"David Raum\",\"Hoffenheim\",\"de Bundesliga\",2.451,0.556],[\"Iker Muniain\",\"Athletic Club\",\"es La Liga\",2.33,0.647],[\"Domenico Berardi\",\"Sassuolo\",\"it Serie A\",1.821,1.086],[\"Darko Lazovi\\u0107\",\"Hellas Verona\",\"it Serie A\",1.759,1.14],[\"Kevin De Bruyne\",\"Manchester City\",\"eng Premier League\",2.735,0.898],[\"Franck Honorat\",\"Brest\",\"fr Ligue 1\",1.491,1.242],[\"Jadon Sancho\",\"Manchester Utd\",\"eng Premier League\",1.706,2.464],[\"Jos\\u00e9 Luis Morales\",\"Levante\",\"es La Liga\",1.06,1.821],[\"Allan Saint-Maximin\",\"Newcastle Utd\",\"eng Premier League\",1.026,1.699],[\"Ousmane Demb\\u00e9l\\u00e9\",\"Barcelona\",\"es La Liga\",2.675,2.739],[\"Mason Mount\",\"Chelsea\",\"eng Premier League\",2.053,1.141],[\"Moses Simon\",\"Nantes\",\"fr Ligue 1\",1.39,1.853],[\"Vincenzo Grifo\",\"Freiburg\",\"de Bundesliga\",2.078,0.584],[\"Raphael Dias Belloli\",\"Leeds United\",\"eng Premier League\",1.481,1.019],[\"Bernardo Silva\",\"Manchester City\",\"eng Premier League\",1.325,1.23],[\"Cengiz \\u00dcnder\",\"Marseille\",\"fr Ligue 1\",1.762,1.516],[\"Petar Stojanovi\\u0107\",\"Empoli\",\"it Serie A\",2.138,0.461]],\"hovertemplate\":\"Passes=%{x}<br>Carries=%{y}<br>Player=%{customdata[0]}<br>Squad=%{customdata[1]}<br>Comp=%{customdata[2]}<br>Passes p90=%{customdata[3]}<br>Carries p90=%{customdata[4]}<br>Total=%{marker.color}<extra></extra>\",\"legendgroup\":\"\",\"marker\":{\"color\":[168,156,150,132,130,130,129,121,117,116,114,112,108,108,108,107,107,104,103,103,100,100,100,100,99,98,98,97,97,95,95,94,93,92,92,91,89,89,88,88,87,85,85,84,84,82,81,81,80,79],\"coloraxis\":\"coloraxis\",\"symbol\":\"circle\"},\"mode\":\"markers\",\"name\":\"\",\"orientation\":\"v\",\"showlegend\":false,\"x\":[67,80,60,61,95,84,41,51,90,65,66,64,54,68,85,49,55,61,88,80,89,64,61,72,47,45,58,42,58,53,70,42,32,75,72,57,54,67,48,36,32,32,42,54,36,64,48,42,43,65],\"xaxis\":\"x\",\"y\":[101,76,90,71,35,46,88,70,27,51,48,48,54,40,23,58,52,43,15,23,11,36,39,28,52,53,40,55,39,42,25,52,61,17,20,34,35,22,40,52,55,53,43,30,48,18,33,39,37,14],\"yaxis\":\"y\",\"type\":\"scatter\"}],                        {\"template\":{\"data\":{\"bar\":[{\"error_x\":{\"color\":\"#2a3f5f\"},\"error_y\":{\"color\":\"#2a3f5f\"},\"marker\":{\"line\":{\"color\":\"#E5ECF6\",\"width\":0.5},\"pattern\":{\"fillmode\":\"overlay\",\"size\":10,\"solidity\":0.2}},\"type\":\"bar\"}],\"barpolar\":[{\"marker\":{\"line\":{\"color\":\"#E5ECF6\",\"width\":0.5},\"pattern\":{\"fillmode\":\"overlay\",\"size\":10,\"solidity\":0.2}},\"type\":\"barpolar\"}],\"carpet\":[{\"aaxis\":{\"endlinecolor\":\"#2a3f5f\",\"gridcolor\":\"white\",\"linecolor\":\"white\",\"minorgridcolor\":\"white\",\"startlinecolor\":\"#2a3f5f\"},\"baxis\":{\"endlinecolor\":\"#2a3f5f\",\"gridcolor\":\"white\",\"linecolor\":\"white\",\"minorgridcolor\":\"white\",\"startlinecolor\":\"#2a3f5f\"},\"type\":\"carpet\"}],\"choropleth\":[{\"colorbar\":{\"outlinewidth\":0,\"ticks\":\"\"},\"type\":\"choropleth\"}],\"contour\":[{\"colorbar\":{\"outlinewidth\":0,\"ticks\":\"\"},\"colorscale\":[[0.0,\"#0d0887\"],[0.1111111111111111,\"#46039f\"],[0.2222222222222222,\"#7201a8\"],[0.3333333333333333,\"#9c179e\"],[0.4444444444444444,\"#bd3786\"],[0.5555555555555556,\"#d8576b\"],[0.6666666666666666,\"#ed7953\"],[0.7777777777777778,\"#fb9f3a\"],[0.8888888888888888,\"#fdca26\"],[1.0,\"#f0f921\"]],\"type\":\"contour\"}],\"contourcarpet\":[{\"colorbar\":{\"outlinewidth\":0,\"ticks\":\"\"},\"type\":\"contourcarpet\"}],\"heatmap\":[{\"colorbar\":{\"outlinewidth\":0,\"ticks\":\"\"},\"colorscale\":[[0.0,\"#0d0887\"],[0.1111111111111111,\"#46039f\"],[0.2222222222222222,\"#7201a8\"],[0.3333333333333333,\"#9c179e\"],[0.4444444444444444,\"#bd3786\"],[0.5555555555555556,\"#d8576b\"],[0.6666666666666666,\"#ed7953\"],[0.7777777777777778,\"#fb9f3a\"],[0.8888888888888888,\"#fdca26\"],[1.0,\"#f0f921\"]],\"type\":\"heatmap\"}],\"heatmapgl\":[{\"colorbar\":{\"outlinewidth\":0,\"ticks\":\"\"},\"colorscale\":[[0.0,\"#0d0887\"],[0.1111111111111111,\"#46039f\"],[0.2222222222222222,\"#7201a8\"],[0.3333333333333333,\"#9c179e\"],[0.4444444444444444,\"#bd3786\"],[0.5555555555555556,\"#d8576b\"],[0.6666666666666666,\"#ed7953\"],[0.7777777777777778,\"#fb9f3a\"],[0.8888888888888888,\"#fdca26\"],[1.0,\"#f0f921\"]],\"type\":\"heatmapgl\"}],\"histogram\":[{\"marker\":{\"pattern\":{\"fillmode\":\"overlay\",\"size\":10,\"solidity\":0.2}},\"type\":\"histogram\"}],\"histogram2d\":[{\"colorbar\":{\"outlinewidth\":0,\"ticks\":\"\"},\"colorscale\":[[0.0,\"#0d0887\"],[0.1111111111111111,\"#46039f\"],[0.2222222222222222,\"#7201a8\"],[0.3333333333333333,\"#9c179e\"],[0.4444444444444444,\"#bd3786\"],[0.5555555555555556,\"#d8576b\"],[0.6666666666666666,\"#ed7953\"],[0.7777777777777778,\"#fb9f3a\"],[0.8888888888888888,\"#fdca26\"],[1.0,\"#f0f921\"]],\"type\":\"histogram2d\"}],\"histogram2dcontour\":[{\"colorbar\":{\"outlinewidth\":0,\"ticks\":\"\"},\"colorscale\":[[0.0,\"#0d0887\"],[0.1111111111111111,\"#46039f\"],[0.2222222222222222,\"#7201a8\"],[0.3333333333333333,\"#9c179e\"],[0.4444444444444444,\"#bd3786\"],[0.5555555555555556,\"#d8576b\"],[0.6666666666666666,\"#ed7953\"],[0.7777777777777778,\"#fb9f3a\"],[0.8888888888888888,\"#fdca26\"],[1.0,\"#f0f921\"]],\"type\":\"histogram2dcontour\"}],\"mesh3d\":[{\"colorbar\":{\"outlinewidth\":0,\"ticks\":\"\"},\"type\":\"mesh3d\"}],\"parcoords\":[{\"line\":{\"colorbar\":{\"outlinewidth\":0,\"ticks\":\"\"}},\"type\":\"parcoords\"}],\"pie\":[{\"automargin\":true,\"type\":\"pie\"}],\"scatter\":[{\"marker\":{\"colorbar\":{\"outlinewidth\":0,\"ticks\":\"\"}},\"type\":\"scatter\"}],\"scatter3d\":[{\"line\":{\"colorbar\":{\"outlinewidth\":0,\"ticks\":\"\"}},\"marker\":{\"colorbar\":{\"outlinewidth\":0,\"ticks\":\"\"}},\"type\":\"scatter3d\"}],\"scattercarpet\":[{\"marker\":{\"colorbar\":{\"outlinewidth\":0,\"ticks\":\"\"}},\"type\":\"scattercarpet\"}],\"scattergeo\":[{\"marker\":{\"colorbar\":{\"outlinewidth\":0,\"ticks\":\"\"}},\"type\":\"scattergeo\"}],\"scattergl\":[{\"marker\":{\"colorbar\":{\"outlinewidth\":0,\"ticks\":\"\"}},\"type\":\"scattergl\"}],\"scattermapbox\":[{\"marker\":{\"colorbar\":{\"outlinewidth\":0,\"ticks\":\"\"}},\"type\":\"scattermapbox\"}],\"scatterpolar\":[{\"marker\":{\"colorbar\":{\"outlinewidth\":0,\"ticks\":\"\"}},\"type\":\"scatterpolar\"}],\"scatterpolargl\":[{\"marker\":{\"colorbar\":{\"outlinewidth\":0,\"ticks\":\"\"}},\"type\":\"scatterpolargl\"}],\"scatterternary\":[{\"marker\":{\"colorbar\":{\"outlinewidth\":0,\"ticks\":\"\"}},\"type\":\"scatterternary\"}],\"surface\":[{\"colorbar\":{\"outlinewidth\":0,\"ticks\":\"\"},\"colorscale\":[[0.0,\"#0d0887\"],[0.1111111111111111,\"#46039f\"],[0.2222222222222222,\"#7201a8\"],[0.3333333333333333,\"#9c179e\"],[0.4444444444444444,\"#bd3786\"],[0.5555555555555556,\"#d8576b\"],[0.6666666666666666,\"#ed7953\"],[0.7777777777777778,\"#fb9f3a\"],[0.8888888888888888,\"#fdca26\"],[1.0,\"#f0f921\"]],\"type\":\"surface\"}],\"table\":[{\"cells\":{\"fill\":{\"color\":\"#EBF0F8\"},\"line\":{\"color\":\"white\"}},\"header\":{\"fill\":{\"color\":\"#C8D4E3\"},\"line\":{\"color\":\"white\"}},\"type\":\"table\"}]},\"layout\":{\"annotationdefaults\":{\"arrowcolor\":\"#2a3f5f\",\"arrowhead\":0,\"arrowwidth\":1},\"autotypenumbers\":\"strict\",\"coloraxis\":{\"colorbar\":{\"outlinewidth\":0,\"ticks\":\"\"}},\"colorscale\":{\"diverging\":[[0,\"#8e0152\"],[0.1,\"#c51b7d\"],[0.2,\"#de77ae\"],[0.3,\"#f1b6da\"],[0.4,\"#fde0ef\"],[0.5,\"#f7f7f7\"],[0.6,\"#e6f5d0\"],[0.7,\"#b8e186\"],[0.8,\"#7fbc41\"],[0.9,\"#4d9221\"],[1,\"#276419\"]],\"sequential\":[[0.0,\"#0d0887\"],[0.1111111111111111,\"#46039f\"],[0.2222222222222222,\"#7201a8\"],[0.3333333333333333,\"#9c179e\"],[0.4444444444444444,\"#bd3786\"],[0.5555555555555556,\"#d8576b\"],[0.6666666666666666,\"#ed7953\"],[0.7777777777777778,\"#fb9f3a\"],[0.8888888888888888,\"#fdca26\"],[1.0,\"#f0f921\"]],\"sequentialminus\":[[0.0,\"#0d0887\"],[0.1111111111111111,\"#46039f\"],[0.2222222222222222,\"#7201a8\"],[0.3333333333333333,\"#9c179e\"],[0.4444444444444444,\"#bd3786\"],[0.5555555555555556,\"#d8576b\"],[0.6666666666666666,\"#ed7953\"],[0.7777777777777778,\"#fb9f3a\"],[0.8888888888888888,\"#fdca26\"],[1.0,\"#f0f921\"]]},\"colorway\":[\"#636efa\",\"#EF553B\",\"#00cc96\",\"#ab63fa\",\"#FFA15A\",\"#19d3f3\",\"#FF6692\",\"#B6E880\",\"#FF97FF\",\"#FECB52\"],\"font\":{\"color\":\"#2a3f5f\"},\"geo\":{\"bgcolor\":\"white\",\"lakecolor\":\"white\",\"landcolor\":\"#E5ECF6\",\"showlakes\":true,\"showland\":true,\"subunitcolor\":\"white\"},\"hoverlabel\":{\"align\":\"left\"},\"hovermode\":\"closest\",\"mapbox\":{\"style\":\"light\"},\"paper_bgcolor\":\"white\",\"plot_bgcolor\":\"#E5ECF6\",\"polar\":{\"angularaxis\":{\"gridcolor\":\"white\",\"linecolor\":\"white\",\"ticks\":\"\"},\"bgcolor\":\"#E5ECF6\",\"radialaxis\":{\"gridcolor\":\"white\",\"linecolor\":\"white\",\"ticks\":\"\"}},\"scene\":{\"xaxis\":{\"backgroundcolor\":\"#E5ECF6\",\"gridcolor\":\"white\",\"gridwidth\":2,\"linecolor\":\"white\",\"showbackground\":true,\"ticks\":\"\",\"zerolinecolor\":\"white\"},\"yaxis\":{\"backgroundcolor\":\"#E5ECF6\",\"gridcolor\":\"white\",\"gridwidth\":2,\"linecolor\":\"white\",\"showbackground\":true,\"ticks\":\"\",\"zerolinecolor\":\"white\"},\"zaxis\":{\"backgroundcolor\":\"#E5ECF6\",\"gridcolor\":\"white\",\"gridwidth\":2,\"linecolor\":\"white\",\"showbackground\":true,\"ticks\":\"\",\"zerolinecolor\":\"white\"}},\"shapedefaults\":{\"line\":{\"color\":\"#2a3f5f\"}},\"ternary\":{\"aaxis\":{\"gridcolor\":\"white\",\"linecolor\":\"white\",\"ticks\":\"\"},\"baxis\":{\"gridcolor\":\"white\",\"linecolor\":\"white\",\"ticks\":\"\"},\"bgcolor\":\"#E5ECF6\",\"caxis\":{\"gridcolor\":\"white\",\"linecolor\":\"white\",\"ticks\":\"\"}},\"title\":{\"x\":0.05},\"xaxis\":{\"automargin\":true,\"gridcolor\":\"white\",\"linecolor\":\"white\",\"ticks\":\"\",\"title\":{\"standoff\":15},\"zerolinecolor\":\"white\",\"zerolinewidth\":2},\"yaxis\":{\"automargin\":true,\"gridcolor\":\"white\",\"linecolor\":\"white\",\"ticks\":\"\",\"title\":{\"standoff\":15},\"zerolinecolor\":\"white\",\"zerolinewidth\":2}}},\"xaxis\":{\"anchor\":\"y\",\"domain\":[0.0,1.0],\"title\":{\"text\":\"Passes\"}},\"yaxis\":{\"anchor\":\"x\",\"domain\":[0.0,1.0],\"title\":{\"text\":\"Carries\"}},\"coloraxis\":{\"colorbar\":{\"title\":{\"text\":\"Total\"}},\"colorscale\":[[0.0,\"rgb(150,0,90)\"],[0.125,\"rgb(0,0,200)\"],[0.25,\"rgb(0,25,255)\"],[0.375,\"rgb(0,152,255)\"],[0.5,\"rgb(44,255,150)\"],[0.625,\"rgb(151,255,0)\"],[0.75,\"rgb(255,234,0)\"],[0.875,\"rgb(255,111,0)\"],[1.0,\"rgb(255,0,0)\"]]},\"legend\":{\"tracegroupgap\":0},\"title\":{\"text\":\"Big 5 2021/22: Passes into Box vs Carries into Box\"}},                        {\"responsive\": true}                    ).then(function(){\n",
       "                            \n",
       "var gd = document.getElementById('56457972-a2e7-4c9c-918d-be51a97ff17e');\n",
       "var x = new MutationObserver(function (mutations, observer) {{\n",
       "        var display = window.getComputedStyle(gd).display;\n",
       "        if (!display || display === 'none') {{\n",
       "            console.log([gd, 'removed!']);\n",
       "            Plotly.purge(gd);\n",
       "            observer.disconnect();\n",
       "        }}\n",
       "}});\n",
       "\n",
       "// Listen for the removal of the full notebook cells\n",
       "var notebookContainer = gd.closest('#notebook-container');\n",
       "if (notebookContainer) {{\n",
       "    x.observe(notebookContainer, {childList: true});\n",
       "}}\n",
       "\n",
       "// Listen for the clearing of the current output cell\n",
       "var outputEl = gd.closest('.output');\n",
       "if (outputEl) {{\n",
       "    x.observe(outputEl, {childList: true});\n",
       "}}\n",
       "\n",
       "                        })                };                });            </script>        </div>"
      ]
     },
     "metadata": {},
     "output_type": "display_data"
    }
   ],
   "source": [
    "box18_df['total18'] = box18_df['Pass18'] + box18_df['Carry18']\n",
    "box18_df['cp9018'] = box18_df['Carry18'] / box18_df['90s']\n",
    "box18_df['pp9018'] = box18_df['Pass18'] / box18_df['90s']\n",
    "box18_df.sort_values(by='total18', inplace=True, ascending=False)\n",
    "#keep only top 50\n",
    "prog18_df = box18_df.head(50)\n",
    "prog18_df['cp9018'] = prog18_df['cp9018'].round(decimals = 3)\n",
    "prog18_df['pp9018'] = prog18_df['pp9018'].round(decimals = 3)\n",
    "prog18_df.rename(columns = {'Carry18':'Carries', 'Pass18':'Passes', 'total18':'Total', 'cp9018':'Carries p90', 'pp9018':'Passes p90'}, inplace = True)\n",
    "fig = px.scatter(prog18_df, x=\"Passes\", y=\"Carries\", color=\"Total\", hover_data=['Player', 'Squad', 'Comp', 'Passes p90', 'Carries p90'], color_continuous_scale=px.colors.sequential.Rainbow, title=\"Big 5 2021/22: Passes into Box vs Carries into Box\")\n",
    "fig.show()"
   ]
  },
  {
   "cell_type": "markdown",
   "id": "ee424cc0",
   "metadata": {},
   "source": [
    "## The relationship between progression and creation\n",
    "\n",
    "Progression is a different skill to creation. Progressors are skilled at moving the ball into dangerous areas of the pitch. Creators are skilled at finding a teammate in a good location to shoot from. Because progressors often operate high up the pitch, they tend to be involved in creation and finishing. The below graph plots each player's total progressions into the box against their xA (expected assists: the assists they were expected to provide based on the chances they created for their teammates). \n",
    "\n",
    "The player with the most progressions into the box, Vinícius Júnior, had a middling xA output compared to the other top progressors. This is not an indication of quality so much as style - perhaps Vini Jr takes shots himself once he progresses into the box, or provides balls a few steps earlier in the creation of a shot. Kylian Mbappé, another prolific box progressor, has one of the highest xA totals, suggesting to me that Mbappé is as much a creator as a progressor.\n",
    "\n",
    "Salah, Alexander-Arnold also rank high for xA, though Salah has notably more progressions into the box. Again, there will be varied reasons for this. Alexander-Arnold's progressions might be more effective. Another theory is that Salah, EPL Golden Boot winner, tends to finish off his own progressions (many of his goals come from him dribbling into space and shooting). The above chart showed that Salah is a carrier, whilst Alexander-Arnold is a passer (or a crosser!)."
   ]
  },
  {
   "cell_type": "code",
   "execution_count": 175,
   "id": "e2ff3f95",
   "metadata": {},
   "outputs": [
    {
     "data": {
      "application/vnd.plotly.v1+json": {
       "config": {
        "plotlyServerURL": "https://plot.ly"
       },
       "data": [
        {
         "customdata": [
          [
           "Vinicius Júnior",
           "Real Madrid",
           "es La Liga",
           2.241,
           3.378
          ],
          [
           "Gerard Deulofeu",
           "Udinese",
           "it Serie A",
           2.749,
           2.612
          ],
          [
           "Kylian Mbappé",
           "Paris S-G",
           "fr Ligue 1",
           1.786,
           2.679
          ],
          [
           "Mohamed Salah",
           "Liverpool",
           "eng Premier League",
           1.987,
           2.313
          ],
          [
           "João Cancelo",
           "Manchester City",
           "eng Premier League",
           2.646,
           0.975
          ],
          [
           "Karim Benzema",
           "Real Madrid",
           "es La Liga",
           2.917,
           1.597
          ],
          [
           "Jack Grealish",
           "Manchester City",
           "eng Premier League",
           1.925,
           4.131
          ],
          [
           "Rafael Leão",
           "Milan",
           "it Serie A",
           1.765,
           2.422
          ],
          [
           "Lionel Messi",
           "Paris S-G",
           "fr Ligue 1",
           3.766,
           1.13
          ],
          [
           "Wilfried Zaha",
           "Crystal Palace",
           "eng Premier League",
           2.117,
           1.661
          ],
          [
           "Gianluca Caprari",
           "Hellas Verona",
           "it Serie A",
           2.171,
           1.579
          ],
          [
           "Felipe Anderson",
           "Lazio",
           "it Serie A",
           1.994,
           1.495
          ],
          [
           "Sadio Mané",
           "Liverpool",
           "eng Premier League",
           1.725,
           1.725
          ],
          [
           "Serge Gnabry",
           "Bayern Munich",
           "de Bundesliga",
           2.798,
           1.646
          ],
          [
           "Bruno Fernandes",
           "Manchester Utd",
           "eng Premier League",
           2.457,
           0.665
          ],
          [
           "Álvaro García",
           "Rayo Vallecano",
           "es La Liga",
           1.471,
           1.742
          ],
          [
           "Raheem Sterling",
           "Manchester City",
           "eng Premier League",
           2.331,
           2.203
          ],
          [
           "Ivan Perišić",
           "Inter",
           "it Serie A",
           1.949,
           1.374
          ],
          [
           "Benjamin Bourigeaud",
           "Rennes",
           "fr Ligue 1",
           2.479,
           0.423
          ],
          [
           "Nicolò Barella",
           "Inter",
           "it Serie A",
           2.469,
           0.71
          ],
          [
           "Trent Alexander-Arnold",
           "Liverpool",
           "eng Premier League",
           2.808,
           0.347
          ],
          [
           "Filip Kostić",
           "Eint Frankfurt",
           "de Bundesliga",
           2.286,
           1.286
          ],
          [
           "Moussa Diaby",
           "Leverkusen",
           "de Bundesliga",
           1.987,
           1.27
          ],
          [
           "Antonio Candreva",
           "Sampdoria",
           "it Serie A",
           2.075,
           0.807
          ],
          [
           "Yannick Carrasco",
           "Atlético Madrid",
           "es La Liga",
           1.638,
           1.812
          ],
          [
           "Son Heung-min",
           "Tottenham",
           "eng Premier League",
           1.347,
           1.587
          ],
          [
           "Leandro Trossard",
           "Brighton",
           "eng Premier League",
           1.859,
           1.282
          ],
          [
           "Iago Aspas",
           "Celta Vigo",
           "es La Liga",
           1.224,
           1.603
          ],
          [
           "Christopher Nkunku",
           "RB Leipzig",
           "de Bundesliga",
           1.914,
           1.287
          ],
          [
           "Lorenzo Insigne",
           "Napoli",
           "it Serie A",
           2.087,
           1.654
          ],
          [
           "Dimitri Payet",
           "Marseille",
           "fr Ligue 1",
           2.431,
           0.868
          ],
          [
           "Nabil Fekir",
           "Betis",
           "es La Liga",
           1.355,
           1.677
          ],
          [
           "Bukayo Saka",
           "Arsenal",
           "eng Premier League",
           0.967,
           1.843
          ],
          [
           "David Raum",
           "Hoffenheim",
           "de Bundesliga",
           2.451,
           0.556
          ],
          [
           "Iker Muniain",
           "Athletic Club",
           "es La Liga",
           2.33,
           0.647
          ],
          [
           "Domenico Berardi",
           "Sassuolo",
           "it Serie A",
           1.821,
           1.086
          ],
          [
           "Darko Lazović",
           "Hellas Verona",
           "it Serie A",
           1.759,
           1.14
          ],
          [
           "Kevin De Bruyne",
           "Manchester City",
           "eng Premier League",
           2.735,
           0.898
          ],
          [
           "Franck Honorat",
           "Brest",
           "fr Ligue 1",
           1.491,
           1.242
          ],
          [
           "Jadon Sancho",
           "Manchester Utd",
           "eng Premier League",
           1.706,
           2.464
          ],
          [
           "José Luis Morales",
           "Levante",
           "es La Liga",
           1.06,
           1.821
          ],
          [
           "Allan Saint-Maximin",
           "Newcastle Utd",
           "eng Premier League",
           1.026,
           1.699
          ],
          [
           "Ousmane Dembélé",
           "Barcelona",
           "es La Liga",
           2.675,
           2.739
          ],
          [
           "Mason Mount",
           "Chelsea",
           "eng Premier League",
           2.053,
           1.141
          ],
          [
           "Moses Simon",
           "Nantes",
           "fr Ligue 1",
           1.39,
           1.853
          ],
          [
           "Vincenzo Grifo",
           "Freiburg",
           "de Bundesliga",
           2.078,
           0.584
          ],
          [
           "Raphael Dias Belloli",
           "Leeds United",
           "eng Premier League",
           1.481,
           1.019
          ],
          [
           "Bernardo Silva",
           "Manchester City",
           "eng Premier League",
           1.325,
           1.23
          ],
          [
           "Cengiz Ünder",
           "Marseille",
           "fr Ligue 1",
           1.762,
           1.516
          ],
          [
           "Petar Stojanović",
           "Empoli",
           "it Serie A",
           2.138,
           0.461
          ]
         ],
         "hovertemplate": "Total=%{x}<br>xA=%{marker.color}<br>Player=%{customdata[0]}<br>Squad=%{customdata[1]}<br>Comp=%{customdata[2]}<br>Passes p90=%{customdata[3]}<br>Carries p90=%{customdata[4]}<extra></extra>",
         "legendgroup": "",
         "marker": {
          "color": [
           7.8,
           7,
           12.4,
           10.4,
           5.1,
           9.5,
           6.3,
           6.3,
           8,
           4.8,
           6.8,
           6.9,
           4.4,
           6.7,
           8.4,
           5.1,
           4.6,
           8,
           13.2,
           7.9,
           11.2,
           9.8,
           9.1,
           6.7,
           6.2,
           8.1,
           4.1,
           6.2,
           10,
           5.7,
           10.5,
           6.8,
           6.9,
           10.1,
           9.5,
           8.5,
           5.7,
           9.5,
           6.6,
           4.2,
           6.9,
           5.8,
           7.8,
           6.7,
           7.2,
           7,
           6.8,
           5.2,
           4.3,
           3.4
          ],
          "coloraxis": "coloraxis",
          "symbol": "circle"
         },
         "mode": "markers",
         "name": "",
         "orientation": "v",
         "showlegend": false,
         "type": "scatter",
         "x": [
          168,
          156,
          150,
          132,
          130,
          130,
          129,
          121,
          117,
          116,
          114,
          112,
          108,
          108,
          108,
          107,
          107,
          104,
          103,
          103,
          100,
          100,
          100,
          100,
          99,
          98,
          98,
          97,
          97,
          95,
          95,
          94,
          93,
          92,
          92,
          91,
          89,
          89,
          88,
          88,
          87,
          85,
          85,
          84,
          84,
          82,
          81,
          81,
          80,
          79
         ],
         "xaxis": "x",
         "y": [
          7.8,
          7,
          12.4,
          10.4,
          5.1,
          9.5,
          6.3,
          6.3,
          8,
          4.8,
          6.8,
          6.9,
          4.4,
          6.7,
          8.4,
          5.1,
          4.6,
          8,
          13.2,
          7.9,
          11.2,
          9.8,
          9.1,
          6.7,
          6.2,
          8.1,
          4.1,
          6.2,
          10,
          5.7,
          10.5,
          6.8,
          6.9,
          10.1,
          9.5,
          8.5,
          5.7,
          9.5,
          6.6,
          4.2,
          6.9,
          5.8,
          7.8,
          6.7,
          7.2,
          7,
          6.8,
          5.2,
          4.3,
          3.4
         ],
         "yaxis": "y"
        }
       ],
       "layout": {
        "coloraxis": {
         "colorbar": {
          "title": {
           "text": "xA"
          }
         },
         "colorscale": [
          [
           0,
           "rgb(150,0,90)"
          ],
          [
           0.125,
           "rgb(0,0,200)"
          ],
          [
           0.25,
           "rgb(0,25,255)"
          ],
          [
           0.375,
           "rgb(0,152,255)"
          ],
          [
           0.5,
           "rgb(44,255,150)"
          ],
          [
           0.625,
           "rgb(151,255,0)"
          ],
          [
           0.75,
           "rgb(255,234,0)"
          ],
          [
           0.875,
           "rgb(255,111,0)"
          ],
          [
           1,
           "rgb(255,0,0)"
          ]
         ]
        },
        "legend": {
         "tracegroupgap": 0
        },
        "template": {
         "data": {
          "bar": [
           {
            "error_x": {
             "color": "#2a3f5f"
            },
            "error_y": {
             "color": "#2a3f5f"
            },
            "marker": {
             "line": {
              "color": "#E5ECF6",
              "width": 0.5
             },
             "pattern": {
              "fillmode": "overlay",
              "size": 10,
              "solidity": 0.2
             }
            },
            "type": "bar"
           }
          ],
          "barpolar": [
           {
            "marker": {
             "line": {
              "color": "#E5ECF6",
              "width": 0.5
             },
             "pattern": {
              "fillmode": "overlay",
              "size": 10,
              "solidity": 0.2
             }
            },
            "type": "barpolar"
           }
          ],
          "carpet": [
           {
            "aaxis": {
             "endlinecolor": "#2a3f5f",
             "gridcolor": "white",
             "linecolor": "white",
             "minorgridcolor": "white",
             "startlinecolor": "#2a3f5f"
            },
            "baxis": {
             "endlinecolor": "#2a3f5f",
             "gridcolor": "white",
             "linecolor": "white",
             "minorgridcolor": "white",
             "startlinecolor": "#2a3f5f"
            },
            "type": "carpet"
           }
          ],
          "choropleth": [
           {
            "colorbar": {
             "outlinewidth": 0,
             "ticks": ""
            },
            "type": "choropleth"
           }
          ],
          "contour": [
           {
            "colorbar": {
             "outlinewidth": 0,
             "ticks": ""
            },
            "colorscale": [
             [
              0,
              "#0d0887"
             ],
             [
              0.1111111111111111,
              "#46039f"
             ],
             [
              0.2222222222222222,
              "#7201a8"
             ],
             [
              0.3333333333333333,
              "#9c179e"
             ],
             [
              0.4444444444444444,
              "#bd3786"
             ],
             [
              0.5555555555555556,
              "#d8576b"
             ],
             [
              0.6666666666666666,
              "#ed7953"
             ],
             [
              0.7777777777777778,
              "#fb9f3a"
             ],
             [
              0.8888888888888888,
              "#fdca26"
             ],
             [
              1,
              "#f0f921"
             ]
            ],
            "type": "contour"
           }
          ],
          "contourcarpet": [
           {
            "colorbar": {
             "outlinewidth": 0,
             "ticks": ""
            },
            "type": "contourcarpet"
           }
          ],
          "heatmap": [
           {
            "colorbar": {
             "outlinewidth": 0,
             "ticks": ""
            },
            "colorscale": [
             [
              0,
              "#0d0887"
             ],
             [
              0.1111111111111111,
              "#46039f"
             ],
             [
              0.2222222222222222,
              "#7201a8"
             ],
             [
              0.3333333333333333,
              "#9c179e"
             ],
             [
              0.4444444444444444,
              "#bd3786"
             ],
             [
              0.5555555555555556,
              "#d8576b"
             ],
             [
              0.6666666666666666,
              "#ed7953"
             ],
             [
              0.7777777777777778,
              "#fb9f3a"
             ],
             [
              0.8888888888888888,
              "#fdca26"
             ],
             [
              1,
              "#f0f921"
             ]
            ],
            "type": "heatmap"
           }
          ],
          "heatmapgl": [
           {
            "colorbar": {
             "outlinewidth": 0,
             "ticks": ""
            },
            "colorscale": [
             [
              0,
              "#0d0887"
             ],
             [
              0.1111111111111111,
              "#46039f"
             ],
             [
              0.2222222222222222,
              "#7201a8"
             ],
             [
              0.3333333333333333,
              "#9c179e"
             ],
             [
              0.4444444444444444,
              "#bd3786"
             ],
             [
              0.5555555555555556,
              "#d8576b"
             ],
             [
              0.6666666666666666,
              "#ed7953"
             ],
             [
              0.7777777777777778,
              "#fb9f3a"
             ],
             [
              0.8888888888888888,
              "#fdca26"
             ],
             [
              1,
              "#f0f921"
             ]
            ],
            "type": "heatmapgl"
           }
          ],
          "histogram": [
           {
            "marker": {
             "pattern": {
              "fillmode": "overlay",
              "size": 10,
              "solidity": 0.2
             }
            },
            "type": "histogram"
           }
          ],
          "histogram2d": [
           {
            "colorbar": {
             "outlinewidth": 0,
             "ticks": ""
            },
            "colorscale": [
             [
              0,
              "#0d0887"
             ],
             [
              0.1111111111111111,
              "#46039f"
             ],
             [
              0.2222222222222222,
              "#7201a8"
             ],
             [
              0.3333333333333333,
              "#9c179e"
             ],
             [
              0.4444444444444444,
              "#bd3786"
             ],
             [
              0.5555555555555556,
              "#d8576b"
             ],
             [
              0.6666666666666666,
              "#ed7953"
             ],
             [
              0.7777777777777778,
              "#fb9f3a"
             ],
             [
              0.8888888888888888,
              "#fdca26"
             ],
             [
              1,
              "#f0f921"
             ]
            ],
            "type": "histogram2d"
           }
          ],
          "histogram2dcontour": [
           {
            "colorbar": {
             "outlinewidth": 0,
             "ticks": ""
            },
            "colorscale": [
             [
              0,
              "#0d0887"
             ],
             [
              0.1111111111111111,
              "#46039f"
             ],
             [
              0.2222222222222222,
              "#7201a8"
             ],
             [
              0.3333333333333333,
              "#9c179e"
             ],
             [
              0.4444444444444444,
              "#bd3786"
             ],
             [
              0.5555555555555556,
              "#d8576b"
             ],
             [
              0.6666666666666666,
              "#ed7953"
             ],
             [
              0.7777777777777778,
              "#fb9f3a"
             ],
             [
              0.8888888888888888,
              "#fdca26"
             ],
             [
              1,
              "#f0f921"
             ]
            ],
            "type": "histogram2dcontour"
           }
          ],
          "mesh3d": [
           {
            "colorbar": {
             "outlinewidth": 0,
             "ticks": ""
            },
            "type": "mesh3d"
           }
          ],
          "parcoords": [
           {
            "line": {
             "colorbar": {
              "outlinewidth": 0,
              "ticks": ""
             }
            },
            "type": "parcoords"
           }
          ],
          "pie": [
           {
            "automargin": true,
            "type": "pie"
           }
          ],
          "scatter": [
           {
            "marker": {
             "colorbar": {
              "outlinewidth": 0,
              "ticks": ""
             }
            },
            "type": "scatter"
           }
          ],
          "scatter3d": [
           {
            "line": {
             "colorbar": {
              "outlinewidth": 0,
              "ticks": ""
             }
            },
            "marker": {
             "colorbar": {
              "outlinewidth": 0,
              "ticks": ""
             }
            },
            "type": "scatter3d"
           }
          ],
          "scattercarpet": [
           {
            "marker": {
             "colorbar": {
              "outlinewidth": 0,
              "ticks": ""
             }
            },
            "type": "scattercarpet"
           }
          ],
          "scattergeo": [
           {
            "marker": {
             "colorbar": {
              "outlinewidth": 0,
              "ticks": ""
             }
            },
            "type": "scattergeo"
           }
          ],
          "scattergl": [
           {
            "marker": {
             "colorbar": {
              "outlinewidth": 0,
              "ticks": ""
             }
            },
            "type": "scattergl"
           }
          ],
          "scattermapbox": [
           {
            "marker": {
             "colorbar": {
              "outlinewidth": 0,
              "ticks": ""
             }
            },
            "type": "scattermapbox"
           }
          ],
          "scatterpolar": [
           {
            "marker": {
             "colorbar": {
              "outlinewidth": 0,
              "ticks": ""
             }
            },
            "type": "scatterpolar"
           }
          ],
          "scatterpolargl": [
           {
            "marker": {
             "colorbar": {
              "outlinewidth": 0,
              "ticks": ""
             }
            },
            "type": "scatterpolargl"
           }
          ],
          "scatterternary": [
           {
            "marker": {
             "colorbar": {
              "outlinewidth": 0,
              "ticks": ""
             }
            },
            "type": "scatterternary"
           }
          ],
          "surface": [
           {
            "colorbar": {
             "outlinewidth": 0,
             "ticks": ""
            },
            "colorscale": [
             [
              0,
              "#0d0887"
             ],
             [
              0.1111111111111111,
              "#46039f"
             ],
             [
              0.2222222222222222,
              "#7201a8"
             ],
             [
              0.3333333333333333,
              "#9c179e"
             ],
             [
              0.4444444444444444,
              "#bd3786"
             ],
             [
              0.5555555555555556,
              "#d8576b"
             ],
             [
              0.6666666666666666,
              "#ed7953"
             ],
             [
              0.7777777777777778,
              "#fb9f3a"
             ],
             [
              0.8888888888888888,
              "#fdca26"
             ],
             [
              1,
              "#f0f921"
             ]
            ],
            "type": "surface"
           }
          ],
          "table": [
           {
            "cells": {
             "fill": {
              "color": "#EBF0F8"
             },
             "line": {
              "color": "white"
             }
            },
            "header": {
             "fill": {
              "color": "#C8D4E3"
             },
             "line": {
              "color": "white"
             }
            },
            "type": "table"
           }
          ]
         },
         "layout": {
          "annotationdefaults": {
           "arrowcolor": "#2a3f5f",
           "arrowhead": 0,
           "arrowwidth": 1
          },
          "autotypenumbers": "strict",
          "coloraxis": {
           "colorbar": {
            "outlinewidth": 0,
            "ticks": ""
           }
          },
          "colorscale": {
           "diverging": [
            [
             0,
             "#8e0152"
            ],
            [
             0.1,
             "#c51b7d"
            ],
            [
             0.2,
             "#de77ae"
            ],
            [
             0.3,
             "#f1b6da"
            ],
            [
             0.4,
             "#fde0ef"
            ],
            [
             0.5,
             "#f7f7f7"
            ],
            [
             0.6,
             "#e6f5d0"
            ],
            [
             0.7,
             "#b8e186"
            ],
            [
             0.8,
             "#7fbc41"
            ],
            [
             0.9,
             "#4d9221"
            ],
            [
             1,
             "#276419"
            ]
           ],
           "sequential": [
            [
             0,
             "#0d0887"
            ],
            [
             0.1111111111111111,
             "#46039f"
            ],
            [
             0.2222222222222222,
             "#7201a8"
            ],
            [
             0.3333333333333333,
             "#9c179e"
            ],
            [
             0.4444444444444444,
             "#bd3786"
            ],
            [
             0.5555555555555556,
             "#d8576b"
            ],
            [
             0.6666666666666666,
             "#ed7953"
            ],
            [
             0.7777777777777778,
             "#fb9f3a"
            ],
            [
             0.8888888888888888,
             "#fdca26"
            ],
            [
             1,
             "#f0f921"
            ]
           ],
           "sequentialminus": [
            [
             0,
             "#0d0887"
            ],
            [
             0.1111111111111111,
             "#46039f"
            ],
            [
             0.2222222222222222,
             "#7201a8"
            ],
            [
             0.3333333333333333,
             "#9c179e"
            ],
            [
             0.4444444444444444,
             "#bd3786"
            ],
            [
             0.5555555555555556,
             "#d8576b"
            ],
            [
             0.6666666666666666,
             "#ed7953"
            ],
            [
             0.7777777777777778,
             "#fb9f3a"
            ],
            [
             0.8888888888888888,
             "#fdca26"
            ],
            [
             1,
             "#f0f921"
            ]
           ]
          },
          "colorway": [
           "#636efa",
           "#EF553B",
           "#00cc96",
           "#ab63fa",
           "#FFA15A",
           "#19d3f3",
           "#FF6692",
           "#B6E880",
           "#FF97FF",
           "#FECB52"
          ],
          "font": {
           "color": "#2a3f5f"
          },
          "geo": {
           "bgcolor": "white",
           "lakecolor": "white",
           "landcolor": "#E5ECF6",
           "showlakes": true,
           "showland": true,
           "subunitcolor": "white"
          },
          "hoverlabel": {
           "align": "left"
          },
          "hovermode": "closest",
          "mapbox": {
           "style": "light"
          },
          "paper_bgcolor": "white",
          "plot_bgcolor": "#E5ECF6",
          "polar": {
           "angularaxis": {
            "gridcolor": "white",
            "linecolor": "white",
            "ticks": ""
           },
           "bgcolor": "#E5ECF6",
           "radialaxis": {
            "gridcolor": "white",
            "linecolor": "white",
            "ticks": ""
           }
          },
          "scene": {
           "xaxis": {
            "backgroundcolor": "#E5ECF6",
            "gridcolor": "white",
            "gridwidth": 2,
            "linecolor": "white",
            "showbackground": true,
            "ticks": "",
            "zerolinecolor": "white"
           },
           "yaxis": {
            "backgroundcolor": "#E5ECF6",
            "gridcolor": "white",
            "gridwidth": 2,
            "linecolor": "white",
            "showbackground": true,
            "ticks": "",
            "zerolinecolor": "white"
           },
           "zaxis": {
            "backgroundcolor": "#E5ECF6",
            "gridcolor": "white",
            "gridwidth": 2,
            "linecolor": "white",
            "showbackground": true,
            "ticks": "",
            "zerolinecolor": "white"
           }
          },
          "shapedefaults": {
           "line": {
            "color": "#2a3f5f"
           }
          },
          "ternary": {
           "aaxis": {
            "gridcolor": "white",
            "linecolor": "white",
            "ticks": ""
           },
           "baxis": {
            "gridcolor": "white",
            "linecolor": "white",
            "ticks": ""
           },
           "bgcolor": "#E5ECF6",
           "caxis": {
            "gridcolor": "white",
            "linecolor": "white",
            "ticks": ""
           }
          },
          "title": {
           "x": 0.05
          },
          "xaxis": {
           "automargin": true,
           "gridcolor": "white",
           "linecolor": "white",
           "ticks": "",
           "title": {
            "standoff": 15
           },
           "zerolinecolor": "white",
           "zerolinewidth": 2
          },
          "yaxis": {
           "automargin": true,
           "gridcolor": "white",
           "linecolor": "white",
           "ticks": "",
           "title": {
            "standoff": 15
           },
           "zerolinecolor": "white",
           "zerolinewidth": 2
          }
         }
        },
        "title": {
         "text": "Big 5 2021/22: Passes & Carries into the 18yard Box vs xA"
        },
        "xaxis": {
         "anchor": "y",
         "domain": [
          0,
          1
         ],
         "title": {
          "text": "Total"
         }
        },
        "yaxis": {
         "anchor": "x",
         "domain": [
          0,
          1
         ],
         "title": {
          "text": "xA"
         }
        }
       }
      },
      "text/html": [
       "<div>                            <div id=\"0f37a2ec-881d-4710-8136-8faeb33ba5b9\" class=\"plotly-graph-div\" style=\"height:525px; width:100%;\"></div>            <script type=\"text/javascript\">                require([\"plotly\"], function(Plotly) {                    window.PLOTLYENV=window.PLOTLYENV || {};                                    if (document.getElementById(\"0f37a2ec-881d-4710-8136-8faeb33ba5b9\")) {                    Plotly.newPlot(                        \"0f37a2ec-881d-4710-8136-8faeb33ba5b9\",                        [{\"customdata\":[[\"Vinicius J\\u00fanior\",\"Real Madrid\",\"es La Liga\",2.241,3.378],[\"Gerard Deulofeu\",\"Udinese\",\"it Serie A\",2.749,2.612],[\"Kylian Mbapp\\u00e9\",\"Paris S-G\",\"fr Ligue 1\",1.786,2.679],[\"Mohamed Salah\",\"Liverpool\",\"eng Premier League\",1.987,2.313],[\"Jo\\u00e3o Cancelo\",\"Manchester City\",\"eng Premier League\",2.646,0.975],[\"Karim Benzema\",\"Real Madrid\",\"es La Liga\",2.917,1.597],[\"Jack Grealish\",\"Manchester City\",\"eng Premier League\",1.925,4.131],[\"Rafael Le\\u00e3o\",\"Milan\",\"it Serie A\",1.765,2.422],[\"Lionel Messi\",\"Paris S-G\",\"fr Ligue 1\",3.766,1.13],[\"Wilfried Zaha\",\"Crystal Palace\",\"eng Premier League\",2.117,1.661],[\"Gianluca Caprari\",\"Hellas Verona\",\"it Serie A\",2.171,1.579],[\"Felipe Anderson\",\"Lazio\",\"it Serie A\",1.994,1.495],[\"Sadio Man\\u00e9\",\"Liverpool\",\"eng Premier League\",1.725,1.725],[\"Serge Gnabry\",\"Bayern Munich\",\"de Bundesliga\",2.798,1.646],[\"Bruno Fernandes\",\"Manchester Utd\",\"eng Premier League\",2.457,0.665],[\"\\u00c1lvaro Garc\\u00eda\",\"Rayo Vallecano\",\"es La Liga\",1.471,1.742],[\"Raheem Sterling\",\"Manchester City\",\"eng Premier League\",2.331,2.203],[\"Ivan Peri\\u0161i\\u0107\",\"Inter\",\"it Serie A\",1.949,1.374],[\"Benjamin Bourigeaud\",\"Rennes\",\"fr Ligue 1\",2.479,0.423],[\"Nicol\\u00f2 Barella\",\"Inter\",\"it Serie A\",2.469,0.71],[\"Trent Alexander-Arnold\",\"Liverpool\",\"eng Premier League\",2.808,0.347],[\"Filip Kosti\\u0107\",\"Eint Frankfurt\",\"de Bundesliga\",2.286,1.286],[\"Moussa Diaby\",\"Leverkusen\",\"de Bundesliga\",1.987,1.27],[\"Antonio Candreva\",\"Sampdoria\",\"it Serie A\",2.075,0.807],[\"Yannick Carrasco\",\"Atl\\u00e9tico Madrid\",\"es La Liga\",1.638,1.812],[\"Son Heung-min\",\"Tottenham\",\"eng Premier League\",1.347,1.587],[\"Leandro Trossard\",\"Brighton\",\"eng Premier League\",1.859,1.282],[\"Iago Aspas\",\"Celta Vigo\",\"es La Liga\",1.224,1.603],[\"Christopher Nkunku\",\"RB Leipzig\",\"de Bundesliga\",1.914,1.287],[\"Lorenzo Insigne\",\"Napoli\",\"it Serie A\",2.087,1.654],[\"Dimitri Payet\",\"Marseille\",\"fr Ligue 1\",2.431,0.868],[\"Nabil Fekir\",\"Betis\",\"es La Liga\",1.355,1.677],[\"Bukayo Saka\",\"Arsenal\",\"eng Premier League\",0.967,1.843],[\"David Raum\",\"Hoffenheim\",\"de Bundesliga\",2.451,0.556],[\"Iker Muniain\",\"Athletic Club\",\"es La Liga\",2.33,0.647],[\"Domenico Berardi\",\"Sassuolo\",\"it Serie A\",1.821,1.086],[\"Darko Lazovi\\u0107\",\"Hellas Verona\",\"it Serie A\",1.759,1.14],[\"Kevin De Bruyne\",\"Manchester City\",\"eng Premier League\",2.735,0.898],[\"Franck Honorat\",\"Brest\",\"fr Ligue 1\",1.491,1.242],[\"Jadon Sancho\",\"Manchester Utd\",\"eng Premier League\",1.706,2.464],[\"Jos\\u00e9 Luis Morales\",\"Levante\",\"es La Liga\",1.06,1.821],[\"Allan Saint-Maximin\",\"Newcastle Utd\",\"eng Premier League\",1.026,1.699],[\"Ousmane Demb\\u00e9l\\u00e9\",\"Barcelona\",\"es La Liga\",2.675,2.739],[\"Mason Mount\",\"Chelsea\",\"eng Premier League\",2.053,1.141],[\"Moses Simon\",\"Nantes\",\"fr Ligue 1\",1.39,1.853],[\"Vincenzo Grifo\",\"Freiburg\",\"de Bundesliga\",2.078,0.584],[\"Raphael Dias Belloli\",\"Leeds United\",\"eng Premier League\",1.481,1.019],[\"Bernardo Silva\",\"Manchester City\",\"eng Premier League\",1.325,1.23],[\"Cengiz \\u00dcnder\",\"Marseille\",\"fr Ligue 1\",1.762,1.516],[\"Petar Stojanovi\\u0107\",\"Empoli\",\"it Serie A\",2.138,0.461]],\"hovertemplate\":\"Total=%{x}<br>xA=%{marker.color}<br>Player=%{customdata[0]}<br>Squad=%{customdata[1]}<br>Comp=%{customdata[2]}<br>Passes p90=%{customdata[3]}<br>Carries p90=%{customdata[4]}<extra></extra>\",\"legendgroup\":\"\",\"marker\":{\"color\":[7.8,7.0,12.4,10.4,5.1,9.5,6.3,6.3,8.0,4.8,6.8,6.9,4.4,6.7,8.4,5.1,4.6,8.0,13.2,7.9,11.2,9.8,9.1,6.7,6.2,8.1,4.1,6.2,10.0,5.7,10.5,6.8,6.9,10.1,9.5,8.5,5.7,9.5,6.6,4.2,6.9,5.8,7.8,6.7,7.2,7.0,6.8,5.2,4.3,3.4],\"coloraxis\":\"coloraxis\",\"symbol\":\"circle\"},\"mode\":\"markers\",\"name\":\"\",\"orientation\":\"v\",\"showlegend\":false,\"x\":[168,156,150,132,130,130,129,121,117,116,114,112,108,108,108,107,107,104,103,103,100,100,100,100,99,98,98,97,97,95,95,94,93,92,92,91,89,89,88,88,87,85,85,84,84,82,81,81,80,79],\"xaxis\":\"x\",\"y\":[7.8,7.0,12.4,10.4,5.1,9.5,6.3,6.3,8.0,4.8,6.8,6.9,4.4,6.7,8.4,5.1,4.6,8.0,13.2,7.9,11.2,9.8,9.1,6.7,6.2,8.1,4.1,6.2,10.0,5.7,10.5,6.8,6.9,10.1,9.5,8.5,5.7,9.5,6.6,4.2,6.9,5.8,7.8,6.7,7.2,7.0,6.8,5.2,4.3,3.4],\"yaxis\":\"y\",\"type\":\"scatter\"}],                        {\"template\":{\"data\":{\"bar\":[{\"error_x\":{\"color\":\"#2a3f5f\"},\"error_y\":{\"color\":\"#2a3f5f\"},\"marker\":{\"line\":{\"color\":\"#E5ECF6\",\"width\":0.5},\"pattern\":{\"fillmode\":\"overlay\",\"size\":10,\"solidity\":0.2}},\"type\":\"bar\"}],\"barpolar\":[{\"marker\":{\"line\":{\"color\":\"#E5ECF6\",\"width\":0.5},\"pattern\":{\"fillmode\":\"overlay\",\"size\":10,\"solidity\":0.2}},\"type\":\"barpolar\"}],\"carpet\":[{\"aaxis\":{\"endlinecolor\":\"#2a3f5f\",\"gridcolor\":\"white\",\"linecolor\":\"white\",\"minorgridcolor\":\"white\",\"startlinecolor\":\"#2a3f5f\"},\"baxis\":{\"endlinecolor\":\"#2a3f5f\",\"gridcolor\":\"white\",\"linecolor\":\"white\",\"minorgridcolor\":\"white\",\"startlinecolor\":\"#2a3f5f\"},\"type\":\"carpet\"}],\"choropleth\":[{\"colorbar\":{\"outlinewidth\":0,\"ticks\":\"\"},\"type\":\"choropleth\"}],\"contour\":[{\"colorbar\":{\"outlinewidth\":0,\"ticks\":\"\"},\"colorscale\":[[0.0,\"#0d0887\"],[0.1111111111111111,\"#46039f\"],[0.2222222222222222,\"#7201a8\"],[0.3333333333333333,\"#9c179e\"],[0.4444444444444444,\"#bd3786\"],[0.5555555555555556,\"#d8576b\"],[0.6666666666666666,\"#ed7953\"],[0.7777777777777778,\"#fb9f3a\"],[0.8888888888888888,\"#fdca26\"],[1.0,\"#f0f921\"]],\"type\":\"contour\"}],\"contourcarpet\":[{\"colorbar\":{\"outlinewidth\":0,\"ticks\":\"\"},\"type\":\"contourcarpet\"}],\"heatmap\":[{\"colorbar\":{\"outlinewidth\":0,\"ticks\":\"\"},\"colorscale\":[[0.0,\"#0d0887\"],[0.1111111111111111,\"#46039f\"],[0.2222222222222222,\"#7201a8\"],[0.3333333333333333,\"#9c179e\"],[0.4444444444444444,\"#bd3786\"],[0.5555555555555556,\"#d8576b\"],[0.6666666666666666,\"#ed7953\"],[0.7777777777777778,\"#fb9f3a\"],[0.8888888888888888,\"#fdca26\"],[1.0,\"#f0f921\"]],\"type\":\"heatmap\"}],\"heatmapgl\":[{\"colorbar\":{\"outlinewidth\":0,\"ticks\":\"\"},\"colorscale\":[[0.0,\"#0d0887\"],[0.1111111111111111,\"#46039f\"],[0.2222222222222222,\"#7201a8\"],[0.3333333333333333,\"#9c179e\"],[0.4444444444444444,\"#bd3786\"],[0.5555555555555556,\"#d8576b\"],[0.6666666666666666,\"#ed7953\"],[0.7777777777777778,\"#fb9f3a\"],[0.8888888888888888,\"#fdca26\"],[1.0,\"#f0f921\"]],\"type\":\"heatmapgl\"}],\"histogram\":[{\"marker\":{\"pattern\":{\"fillmode\":\"overlay\",\"size\":10,\"solidity\":0.2}},\"type\":\"histogram\"}],\"histogram2d\":[{\"colorbar\":{\"outlinewidth\":0,\"ticks\":\"\"},\"colorscale\":[[0.0,\"#0d0887\"],[0.1111111111111111,\"#46039f\"],[0.2222222222222222,\"#7201a8\"],[0.3333333333333333,\"#9c179e\"],[0.4444444444444444,\"#bd3786\"],[0.5555555555555556,\"#d8576b\"],[0.6666666666666666,\"#ed7953\"],[0.7777777777777778,\"#fb9f3a\"],[0.8888888888888888,\"#fdca26\"],[1.0,\"#f0f921\"]],\"type\":\"histogram2d\"}],\"histogram2dcontour\":[{\"colorbar\":{\"outlinewidth\":0,\"ticks\":\"\"},\"colorscale\":[[0.0,\"#0d0887\"],[0.1111111111111111,\"#46039f\"],[0.2222222222222222,\"#7201a8\"],[0.3333333333333333,\"#9c179e\"],[0.4444444444444444,\"#bd3786\"],[0.5555555555555556,\"#d8576b\"],[0.6666666666666666,\"#ed7953\"],[0.7777777777777778,\"#fb9f3a\"],[0.8888888888888888,\"#fdca26\"],[1.0,\"#f0f921\"]],\"type\":\"histogram2dcontour\"}],\"mesh3d\":[{\"colorbar\":{\"outlinewidth\":0,\"ticks\":\"\"},\"type\":\"mesh3d\"}],\"parcoords\":[{\"line\":{\"colorbar\":{\"outlinewidth\":0,\"ticks\":\"\"}},\"type\":\"parcoords\"}],\"pie\":[{\"automargin\":true,\"type\":\"pie\"}],\"scatter\":[{\"marker\":{\"colorbar\":{\"outlinewidth\":0,\"ticks\":\"\"}},\"type\":\"scatter\"}],\"scatter3d\":[{\"line\":{\"colorbar\":{\"outlinewidth\":0,\"ticks\":\"\"}},\"marker\":{\"colorbar\":{\"outlinewidth\":0,\"ticks\":\"\"}},\"type\":\"scatter3d\"}],\"scattercarpet\":[{\"marker\":{\"colorbar\":{\"outlinewidth\":0,\"ticks\":\"\"}},\"type\":\"scattercarpet\"}],\"scattergeo\":[{\"marker\":{\"colorbar\":{\"outlinewidth\":0,\"ticks\":\"\"}},\"type\":\"scattergeo\"}],\"scattergl\":[{\"marker\":{\"colorbar\":{\"outlinewidth\":0,\"ticks\":\"\"}},\"type\":\"scattergl\"}],\"scattermapbox\":[{\"marker\":{\"colorbar\":{\"outlinewidth\":0,\"ticks\":\"\"}},\"type\":\"scattermapbox\"}],\"scatterpolar\":[{\"marker\":{\"colorbar\":{\"outlinewidth\":0,\"ticks\":\"\"}},\"type\":\"scatterpolar\"}],\"scatterpolargl\":[{\"marker\":{\"colorbar\":{\"outlinewidth\":0,\"ticks\":\"\"}},\"type\":\"scatterpolargl\"}],\"scatterternary\":[{\"marker\":{\"colorbar\":{\"outlinewidth\":0,\"ticks\":\"\"}},\"type\":\"scatterternary\"}],\"surface\":[{\"colorbar\":{\"outlinewidth\":0,\"ticks\":\"\"},\"colorscale\":[[0.0,\"#0d0887\"],[0.1111111111111111,\"#46039f\"],[0.2222222222222222,\"#7201a8\"],[0.3333333333333333,\"#9c179e\"],[0.4444444444444444,\"#bd3786\"],[0.5555555555555556,\"#d8576b\"],[0.6666666666666666,\"#ed7953\"],[0.7777777777777778,\"#fb9f3a\"],[0.8888888888888888,\"#fdca26\"],[1.0,\"#f0f921\"]],\"type\":\"surface\"}],\"table\":[{\"cells\":{\"fill\":{\"color\":\"#EBF0F8\"},\"line\":{\"color\":\"white\"}},\"header\":{\"fill\":{\"color\":\"#C8D4E3\"},\"line\":{\"color\":\"white\"}},\"type\":\"table\"}]},\"layout\":{\"annotationdefaults\":{\"arrowcolor\":\"#2a3f5f\",\"arrowhead\":0,\"arrowwidth\":1},\"autotypenumbers\":\"strict\",\"coloraxis\":{\"colorbar\":{\"outlinewidth\":0,\"ticks\":\"\"}},\"colorscale\":{\"diverging\":[[0,\"#8e0152\"],[0.1,\"#c51b7d\"],[0.2,\"#de77ae\"],[0.3,\"#f1b6da\"],[0.4,\"#fde0ef\"],[0.5,\"#f7f7f7\"],[0.6,\"#e6f5d0\"],[0.7,\"#b8e186\"],[0.8,\"#7fbc41\"],[0.9,\"#4d9221\"],[1,\"#276419\"]],\"sequential\":[[0.0,\"#0d0887\"],[0.1111111111111111,\"#46039f\"],[0.2222222222222222,\"#7201a8\"],[0.3333333333333333,\"#9c179e\"],[0.4444444444444444,\"#bd3786\"],[0.5555555555555556,\"#d8576b\"],[0.6666666666666666,\"#ed7953\"],[0.7777777777777778,\"#fb9f3a\"],[0.8888888888888888,\"#fdca26\"],[1.0,\"#f0f921\"]],\"sequentialminus\":[[0.0,\"#0d0887\"],[0.1111111111111111,\"#46039f\"],[0.2222222222222222,\"#7201a8\"],[0.3333333333333333,\"#9c179e\"],[0.4444444444444444,\"#bd3786\"],[0.5555555555555556,\"#d8576b\"],[0.6666666666666666,\"#ed7953\"],[0.7777777777777778,\"#fb9f3a\"],[0.8888888888888888,\"#fdca26\"],[1.0,\"#f0f921\"]]},\"colorway\":[\"#636efa\",\"#EF553B\",\"#00cc96\",\"#ab63fa\",\"#FFA15A\",\"#19d3f3\",\"#FF6692\",\"#B6E880\",\"#FF97FF\",\"#FECB52\"],\"font\":{\"color\":\"#2a3f5f\"},\"geo\":{\"bgcolor\":\"white\",\"lakecolor\":\"white\",\"landcolor\":\"#E5ECF6\",\"showlakes\":true,\"showland\":true,\"subunitcolor\":\"white\"},\"hoverlabel\":{\"align\":\"left\"},\"hovermode\":\"closest\",\"mapbox\":{\"style\":\"light\"},\"paper_bgcolor\":\"white\",\"plot_bgcolor\":\"#E5ECF6\",\"polar\":{\"angularaxis\":{\"gridcolor\":\"white\",\"linecolor\":\"white\",\"ticks\":\"\"},\"bgcolor\":\"#E5ECF6\",\"radialaxis\":{\"gridcolor\":\"white\",\"linecolor\":\"white\",\"ticks\":\"\"}},\"scene\":{\"xaxis\":{\"backgroundcolor\":\"#E5ECF6\",\"gridcolor\":\"white\",\"gridwidth\":2,\"linecolor\":\"white\",\"showbackground\":true,\"ticks\":\"\",\"zerolinecolor\":\"white\"},\"yaxis\":{\"backgroundcolor\":\"#E5ECF6\",\"gridcolor\":\"white\",\"gridwidth\":2,\"linecolor\":\"white\",\"showbackground\":true,\"ticks\":\"\",\"zerolinecolor\":\"white\"},\"zaxis\":{\"backgroundcolor\":\"#E5ECF6\",\"gridcolor\":\"white\",\"gridwidth\":2,\"linecolor\":\"white\",\"showbackground\":true,\"ticks\":\"\",\"zerolinecolor\":\"white\"}},\"shapedefaults\":{\"line\":{\"color\":\"#2a3f5f\"}},\"ternary\":{\"aaxis\":{\"gridcolor\":\"white\",\"linecolor\":\"white\",\"ticks\":\"\"},\"baxis\":{\"gridcolor\":\"white\",\"linecolor\":\"white\",\"ticks\":\"\"},\"bgcolor\":\"#E5ECF6\",\"caxis\":{\"gridcolor\":\"white\",\"linecolor\":\"white\",\"ticks\":\"\"}},\"title\":{\"x\":0.05},\"xaxis\":{\"automargin\":true,\"gridcolor\":\"white\",\"linecolor\":\"white\",\"ticks\":\"\",\"title\":{\"standoff\":15},\"zerolinecolor\":\"white\",\"zerolinewidth\":2},\"yaxis\":{\"automargin\":true,\"gridcolor\":\"white\",\"linecolor\":\"white\",\"ticks\":\"\",\"title\":{\"standoff\":15},\"zerolinecolor\":\"white\",\"zerolinewidth\":2}}},\"xaxis\":{\"anchor\":\"y\",\"domain\":[0.0,1.0],\"title\":{\"text\":\"Total\"}},\"yaxis\":{\"anchor\":\"x\",\"domain\":[0.0,1.0],\"title\":{\"text\":\"xA\"}},\"coloraxis\":{\"colorbar\":{\"title\":{\"text\":\"xA\"}},\"colorscale\":[[0.0,\"rgb(150,0,90)\"],[0.125,\"rgb(0,0,200)\"],[0.25,\"rgb(0,25,255)\"],[0.375,\"rgb(0,152,255)\"],[0.5,\"rgb(44,255,150)\"],[0.625,\"rgb(151,255,0)\"],[0.75,\"rgb(255,234,0)\"],[0.875,\"rgb(255,111,0)\"],[1.0,\"rgb(255,0,0)\"]]},\"legend\":{\"tracegroupgap\":0},\"title\":{\"text\":\"Big 5 2021/22: Passes & Carries into the 18yard Box vs xA\"}},                        {\"responsive\": true}                    ).then(function(){\n",
       "                            \n",
       "var gd = document.getElementById('0f37a2ec-881d-4710-8136-8faeb33ba5b9');\n",
       "var x = new MutationObserver(function (mutations, observer) {{\n",
       "        var display = window.getComputedStyle(gd).display;\n",
       "        if (!display || display === 'none') {{\n",
       "            console.log([gd, 'removed!']);\n",
       "            Plotly.purge(gd);\n",
       "            observer.disconnect();\n",
       "        }}\n",
       "}});\n",
       "\n",
       "// Listen for the removal of the full notebook cells\n",
       "var notebookContainer = gd.closest('#notebook-container');\n",
       "if (notebookContainer) {{\n",
       "    x.observe(notebookContainer, {childList: true});\n",
       "}}\n",
       "\n",
       "// Listen for the clearing of the current output cell\n",
       "var outputEl = gd.closest('.output');\n",
       "if (outputEl) {{\n",
       "    x.observe(outputEl, {childList: true});\n",
       "}}\n",
       "\n",
       "                        })                };                });            </script>        </div>"
      ]
     },
     "metadata": {},
     "output_type": "display_data"
    }
   ],
   "source": [
    "fig = px.scatter(prog18_df, x=\"Total\", y=\"xA\", color=\"xA\", hover_data=['Player', 'Squad', 'Comp', 'Passes p90', 'Carries p90'], color_continuous_scale=px.colors.sequential.Rainbow, title=\"Big 5 2021/22: Passes & Carries into the 18yard Box vs xA\")\n",
    "fig.show()"
   ]
  },
  {
   "cell_type": "markdown",
   "id": "19d8f33b",
   "metadata": {},
   "source": [
    "## The best progressors all over the place\n",
    "\n",
    "Let's combine the progression metrics for the final third and the 18 yard box to see which players progress the ball the most often. There are a few insights clear from the below graph.\n",
    "\n",
    "Firstly, the era of the fullback has truly begun, with João Cancelo and Trent Alexander-Arnold both providing excellent progression for their sides. We can see clearly that, despite the criticism he has received, Messi still has it. Declan Rice justifies the gigantic price tag West Ham have placed on him through his progression output this season. \n",
    "\n",
    "Vinícius Júnior's progression output is so similar to Mbappé's that it seems hilarious that Real Madrid wanted both of them at their club (the management at every elite club in Europe must be grateful that Mbappé to Madrid never materialised!). "
   ]
  },
  {
   "cell_type": "code",
   "execution_count": 176,
   "id": "dd1d1034",
   "metadata": {},
   "outputs": [
    {
     "data": {
      "application/vnd.plotly.v1+json": {
       "config": {
        "plotlyServerURL": "https://plot.ly"
       },
       "data": [
        {
         "alignmentgroup": "True",
         "customdata": [
          [
           14.875
          ],
          [
           17.699
          ],
          [
           12.524
          ],
          [
           12.389
          ],
          [
           10.708
          ],
          [
           10.743
          ],
          [
           13.602
          ],
          [
           11.905
          ],
          [
           14.915
          ],
          [
           10.432
          ],
          [
           9.769
          ],
          [
           9.38
          ],
          [
           10.312
          ],
          [
           9.643
          ],
          [
           9.251
          ],
          [
           10.669
          ],
          [
           11.564
          ],
          [
           9.347
          ],
          [
           9.632
          ],
          [
           9.601
          ],
          [
           8.676
          ],
          [
           9.839
          ],
          [
           8.79
          ],
          [
           14.093
          ],
          [
           10.484
          ]
         ],
         "hovertemplate": "variable=Carries into 18yard Box<br>Player=%{x}<br>value=%{y}<br>Progressions p90=%{customdata[0]}<extra></extra>",
         "legendgroup": "Carries into 18yard Box",
         "marker": {
          "color": "rgb(27,158,119)",
          "pattern": {
           "shape": ""
          }
         },
         "name": "Carries into 18yard Box",
         "offsetgroup": "Carries into 18yard Box",
         "orientation": "v",
         "showlegend": true,
         "textposition": "auto",
         "type": "bar",
         "x": [
          "João Cancelo",
          "Lionel Messi",
          "Trent Alexander-Arnold",
          "Aymeric Laporte",
          "Declan Rice",
          "Mattéo Guendouzi",
          "Luis Alberto",
          "Jordi Alba",
          "Toni Kroos",
          "Nicolò Barella",
          "Bruno Fernandes",
          "Sergio Busquets",
          "Rodri",
          "Kylian Mbappé",
          "Antonio Candreva",
          "Vinicius Júnior",
          "Joshua Kimmich",
          "Antonio Rüdiger",
          "Maxime Lopez",
          "Marcelo Brozović",
          "Pierre Højbjerg",
          "Sergio Canales",
          "Sergi Darder",
          "Marco Verratti",
          "Jordan Henderson"
         ],
         "xaxis": "x",
         "y": [
          35,
          27,
          11,
          1,
          13,
          19,
          9,
          11,
          2,
          23,
          23,
          1,
          8,
          90,
          28,
          101,
          2,
          3,
          9,
          4,
          7,
          13,
          13,
          10,
          4
         ],
         "yaxis": "y"
        },
        {
         "alignmentgroup": "True",
         "customdata": [
          [
           14.875
          ],
          [
           17.699
          ],
          [
           12.524
          ],
          [
           12.389
          ],
          [
           10.708
          ],
          [
           10.743
          ],
          [
           13.602
          ],
          [
           11.905
          ],
          [
           14.915
          ],
          [
           10.432
          ],
          [
           9.769
          ],
          [
           9.38
          ],
          [
           10.312
          ],
          [
           9.643
          ],
          [
           9.251
          ],
          [
           10.669
          ],
          [
           11.564
          ],
          [
           9.347
          ],
          [
           9.632
          ],
          [
           9.601
          ],
          [
           8.676
          ],
          [
           9.839
          ],
          [
           8.79
          ],
          [
           14.093
          ],
          [
           10.484
          ]
         ],
         "hovertemplate": "variable=Passes into 18yard Box<br>Player=%{x}<br>value=%{y}<br>Progressions p90=%{customdata[0]}<extra></extra>",
         "legendgroup": "Passes into 18yard Box",
         "marker": {
          "color": "rgb(217,95,2)",
          "pattern": {
           "shape": ""
          }
         },
         "name": "Passes into 18yard Box",
         "offsetgroup": "Passes into 18yard Box",
         "orientation": "v",
         "showlegend": true,
         "textposition": "auto",
         "type": "bar",
         "x": [
          "João Cancelo",
          "Lionel Messi",
          "Trent Alexander-Arnold",
          "Aymeric Laporte",
          "Declan Rice",
          "Mattéo Guendouzi",
          "Luis Alberto",
          "Jordi Alba",
          "Toni Kroos",
          "Nicolò Barella",
          "Bruno Fernandes",
          "Sergio Busquets",
          "Rodri",
          "Kylian Mbappé",
          "Antonio Candreva",
          "Vinicius Júnior",
          "Joshua Kimmich",
          "Antonio Rüdiger",
          "Maxime Lopez",
          "Marcelo Brozović",
          "Pierre Højbjerg",
          "Sergio Canales",
          "Sergi Darder",
          "Marco Verratti",
          "Jordan Henderson"
         ],
         "xaxis": "x",
         "y": [
          95,
          90,
          89,
          11,
          31,
          53,
          49,
          64,
          41,
          80,
          85,
          34,
          36,
          60,
          72,
          67,
          55,
          29,
          16,
          30,
          35,
          62,
          43,
          45,
          53
         ],
         "yaxis": "y"
        },
        {
         "alignmentgroup": "True",
         "customdata": [
          [
           14.875
          ],
          [
           17.699
          ],
          [
           12.524
          ],
          [
           12.389
          ],
          [
           10.708
          ],
          [
           10.743
          ],
          [
           13.602
          ],
          [
           11.905
          ],
          [
           14.915
          ],
          [
           10.432
          ],
          [
           9.769
          ],
          [
           9.38
          ],
          [
           10.312
          ],
          [
           9.643
          ],
          [
           9.251
          ],
          [
           10.669
          ],
          [
           11.564
          ],
          [
           9.347
          ],
          [
           9.632
          ],
          [
           9.601
          ],
          [
           8.676
          ],
          [
           9.839
          ],
          [
           8.79
          ],
          [
           14.093
          ],
          [
           10.484
          ]
         ],
         "hovertemplate": "variable=Carries into Final 3rd<br>Player=%{x}<br>value=%{y}<br>Progressions p90=%{customdata[0]}<extra></extra>",
         "legendgroup": "Carries into Final 3rd",
         "marker": {
          "color": "rgb(117,112,179)",
          "pattern": {
           "shape": ""
          }
         },
         "name": "Carries into Final 3rd",
         "offsetgroup": "Carries into Final 3rd",
         "orientation": "v",
         "showlegend": true,
         "textposition": "auto",
         "type": "bar",
         "x": [
          "João Cancelo",
          "Lionel Messi",
          "Trent Alexander-Arnold",
          "Aymeric Laporte",
          "Declan Rice",
          "Mattéo Guendouzi",
          "Luis Alberto",
          "Jordi Alba",
          "Toni Kroos",
          "Nicolò Barella",
          "Bruno Fernandes",
          "Sergio Busquets",
          "Rodri",
          "Kylian Mbappé",
          "Antonio Candreva",
          "Vinicius Júnior",
          "Joshua Kimmich",
          "Antonio Rüdiger",
          "Maxime Lopez",
          "Marcelo Brozović",
          "Pierre Højbjerg",
          "Sergio Canales",
          "Sergi Darder",
          "Marco Verratti",
          "Jordan Henderson"
         ],
         "xaxis": "x",
         "y": [
          138,
          113,
          66,
          61,
          92,
          84,
          91,
          44,
          37,
          87,
          75,
          38,
          44,
          111,
          93,
          116,
          43,
          63,
          66,
          57,
          39,
          82,
          73,
          75,
          59
         ],
         "yaxis": "y"
        },
        {
         "alignmentgroup": "True",
         "customdata": [
          [
           14.875
          ],
          [
           17.699
          ],
          [
           12.524
          ],
          [
           12.389
          ],
          [
           10.708
          ],
          [
           10.743
          ],
          [
           13.602
          ],
          [
           11.905
          ],
          [
           14.915
          ],
          [
           10.432
          ],
          [
           9.769
          ],
          [
           9.38
          ],
          [
           10.312
          ],
          [
           9.643
          ],
          [
           9.251
          ],
          [
           10.669
          ],
          [
           11.564
          ],
          [
           9.347
          ],
          [
           9.632
          ],
          [
           9.601
          ],
          [
           8.676
          ],
          [
           9.839
          ],
          [
           8.79
          ],
          [
           14.093
          ],
          [
           10.484
          ]
         ],
         "hovertemplate": "variable=Passes into Final 3rd<br>Player=%{x}<br>value=%{y}<br>Progressions p90=%{customdata[0]}<extra></extra>",
         "legendgroup": "Passes into Final 3rd",
         "marker": {
          "color": "rgb(231,41,138)",
          "pattern": {
           "shape": ""
          }
         },
         "name": "Passes into Final 3rd",
         "offsetgroup": "Passes into Final 3rd",
         "orientation": "v",
         "showlegend": true,
         "textposition": "auto",
         "type": "bar",
         "x": [
          "João Cancelo",
          "Lionel Messi",
          "Trent Alexander-Arnold",
          "Aymeric Laporte",
          "Declan Rice",
          "Mattéo Guendouzi",
          "Luis Alberto",
          "Jordi Alba",
          "Toni Kroos",
          "Nicolò Barella",
          "Bruno Fernandes",
          "Sergio Busquets",
          "Rodri",
          "Kylian Mbappé",
          "Antonio Candreva",
          "Vinicius Júnior",
          "Joshua Kimmich",
          "Antonio Rüdiger",
          "Maxime Lopez",
          "Marcelo Brozović",
          "Pierre Højbjerg",
          "Sergio Canales",
          "Sergi Darder",
          "Marco Verratti",
          "Jordan Henderson"
         ],
         "xaxis": "x",
         "y": [
          266,
          193,
          231,
          316,
          242,
          220,
          206,
          231,
          269,
          148,
          155,
          260,
          242,
          63,
          128,
          35,
          218,
          220,
          223,
          222,
          227,
          148,
          176,
          173,
          187
         ],
         "yaxis": "y"
        }
       ],
       "layout": {
        "barmode": "relative",
        "legend": {
         "title": {
          "text": "variable"
         },
         "tracegroupgap": 0
        },
        "template": {
         "data": {
          "bar": [
           {
            "error_x": {
             "color": "#2a3f5f"
            },
            "error_y": {
             "color": "#2a3f5f"
            },
            "marker": {
             "line": {
              "color": "#E5ECF6",
              "width": 0.5
             },
             "pattern": {
              "fillmode": "overlay",
              "size": 10,
              "solidity": 0.2
             }
            },
            "type": "bar"
           }
          ],
          "barpolar": [
           {
            "marker": {
             "line": {
              "color": "#E5ECF6",
              "width": 0.5
             },
             "pattern": {
              "fillmode": "overlay",
              "size": 10,
              "solidity": 0.2
             }
            },
            "type": "barpolar"
           }
          ],
          "carpet": [
           {
            "aaxis": {
             "endlinecolor": "#2a3f5f",
             "gridcolor": "white",
             "linecolor": "white",
             "minorgridcolor": "white",
             "startlinecolor": "#2a3f5f"
            },
            "baxis": {
             "endlinecolor": "#2a3f5f",
             "gridcolor": "white",
             "linecolor": "white",
             "minorgridcolor": "white",
             "startlinecolor": "#2a3f5f"
            },
            "type": "carpet"
           }
          ],
          "choropleth": [
           {
            "colorbar": {
             "outlinewidth": 0,
             "ticks": ""
            },
            "type": "choropleth"
           }
          ],
          "contour": [
           {
            "colorbar": {
             "outlinewidth": 0,
             "ticks": ""
            },
            "colorscale": [
             [
              0,
              "#0d0887"
             ],
             [
              0.1111111111111111,
              "#46039f"
             ],
             [
              0.2222222222222222,
              "#7201a8"
             ],
             [
              0.3333333333333333,
              "#9c179e"
             ],
             [
              0.4444444444444444,
              "#bd3786"
             ],
             [
              0.5555555555555556,
              "#d8576b"
             ],
             [
              0.6666666666666666,
              "#ed7953"
             ],
             [
              0.7777777777777778,
              "#fb9f3a"
             ],
             [
              0.8888888888888888,
              "#fdca26"
             ],
             [
              1,
              "#f0f921"
             ]
            ],
            "type": "contour"
           }
          ],
          "contourcarpet": [
           {
            "colorbar": {
             "outlinewidth": 0,
             "ticks": ""
            },
            "type": "contourcarpet"
           }
          ],
          "heatmap": [
           {
            "colorbar": {
             "outlinewidth": 0,
             "ticks": ""
            },
            "colorscale": [
             [
              0,
              "#0d0887"
             ],
             [
              0.1111111111111111,
              "#46039f"
             ],
             [
              0.2222222222222222,
              "#7201a8"
             ],
             [
              0.3333333333333333,
              "#9c179e"
             ],
             [
              0.4444444444444444,
              "#bd3786"
             ],
             [
              0.5555555555555556,
              "#d8576b"
             ],
             [
              0.6666666666666666,
              "#ed7953"
             ],
             [
              0.7777777777777778,
              "#fb9f3a"
             ],
             [
              0.8888888888888888,
              "#fdca26"
             ],
             [
              1,
              "#f0f921"
             ]
            ],
            "type": "heatmap"
           }
          ],
          "heatmapgl": [
           {
            "colorbar": {
             "outlinewidth": 0,
             "ticks": ""
            },
            "colorscale": [
             [
              0,
              "#0d0887"
             ],
             [
              0.1111111111111111,
              "#46039f"
             ],
             [
              0.2222222222222222,
              "#7201a8"
             ],
             [
              0.3333333333333333,
              "#9c179e"
             ],
             [
              0.4444444444444444,
              "#bd3786"
             ],
             [
              0.5555555555555556,
              "#d8576b"
             ],
             [
              0.6666666666666666,
              "#ed7953"
             ],
             [
              0.7777777777777778,
              "#fb9f3a"
             ],
             [
              0.8888888888888888,
              "#fdca26"
             ],
             [
              1,
              "#f0f921"
             ]
            ],
            "type": "heatmapgl"
           }
          ],
          "histogram": [
           {
            "marker": {
             "pattern": {
              "fillmode": "overlay",
              "size": 10,
              "solidity": 0.2
             }
            },
            "type": "histogram"
           }
          ],
          "histogram2d": [
           {
            "colorbar": {
             "outlinewidth": 0,
             "ticks": ""
            },
            "colorscale": [
             [
              0,
              "#0d0887"
             ],
             [
              0.1111111111111111,
              "#46039f"
             ],
             [
              0.2222222222222222,
              "#7201a8"
             ],
             [
              0.3333333333333333,
              "#9c179e"
             ],
             [
              0.4444444444444444,
              "#bd3786"
             ],
             [
              0.5555555555555556,
              "#d8576b"
             ],
             [
              0.6666666666666666,
              "#ed7953"
             ],
             [
              0.7777777777777778,
              "#fb9f3a"
             ],
             [
              0.8888888888888888,
              "#fdca26"
             ],
             [
              1,
              "#f0f921"
             ]
            ],
            "type": "histogram2d"
           }
          ],
          "histogram2dcontour": [
           {
            "colorbar": {
             "outlinewidth": 0,
             "ticks": ""
            },
            "colorscale": [
             [
              0,
              "#0d0887"
             ],
             [
              0.1111111111111111,
              "#46039f"
             ],
             [
              0.2222222222222222,
              "#7201a8"
             ],
             [
              0.3333333333333333,
              "#9c179e"
             ],
             [
              0.4444444444444444,
              "#bd3786"
             ],
             [
              0.5555555555555556,
              "#d8576b"
             ],
             [
              0.6666666666666666,
              "#ed7953"
             ],
             [
              0.7777777777777778,
              "#fb9f3a"
             ],
             [
              0.8888888888888888,
              "#fdca26"
             ],
             [
              1,
              "#f0f921"
             ]
            ],
            "type": "histogram2dcontour"
           }
          ],
          "mesh3d": [
           {
            "colorbar": {
             "outlinewidth": 0,
             "ticks": ""
            },
            "type": "mesh3d"
           }
          ],
          "parcoords": [
           {
            "line": {
             "colorbar": {
              "outlinewidth": 0,
              "ticks": ""
             }
            },
            "type": "parcoords"
           }
          ],
          "pie": [
           {
            "automargin": true,
            "type": "pie"
           }
          ],
          "scatter": [
           {
            "marker": {
             "colorbar": {
              "outlinewidth": 0,
              "ticks": ""
             }
            },
            "type": "scatter"
           }
          ],
          "scatter3d": [
           {
            "line": {
             "colorbar": {
              "outlinewidth": 0,
              "ticks": ""
             }
            },
            "marker": {
             "colorbar": {
              "outlinewidth": 0,
              "ticks": ""
             }
            },
            "type": "scatter3d"
           }
          ],
          "scattercarpet": [
           {
            "marker": {
             "colorbar": {
              "outlinewidth": 0,
              "ticks": ""
             }
            },
            "type": "scattercarpet"
           }
          ],
          "scattergeo": [
           {
            "marker": {
             "colorbar": {
              "outlinewidth": 0,
              "ticks": ""
             }
            },
            "type": "scattergeo"
           }
          ],
          "scattergl": [
           {
            "marker": {
             "colorbar": {
              "outlinewidth": 0,
              "ticks": ""
             }
            },
            "type": "scattergl"
           }
          ],
          "scattermapbox": [
           {
            "marker": {
             "colorbar": {
              "outlinewidth": 0,
              "ticks": ""
             }
            },
            "type": "scattermapbox"
           }
          ],
          "scatterpolar": [
           {
            "marker": {
             "colorbar": {
              "outlinewidth": 0,
              "ticks": ""
             }
            },
            "type": "scatterpolar"
           }
          ],
          "scatterpolargl": [
           {
            "marker": {
             "colorbar": {
              "outlinewidth": 0,
              "ticks": ""
             }
            },
            "type": "scatterpolargl"
           }
          ],
          "scatterternary": [
           {
            "marker": {
             "colorbar": {
              "outlinewidth": 0,
              "ticks": ""
             }
            },
            "type": "scatterternary"
           }
          ],
          "surface": [
           {
            "colorbar": {
             "outlinewidth": 0,
             "ticks": ""
            },
            "colorscale": [
             [
              0,
              "#0d0887"
             ],
             [
              0.1111111111111111,
              "#46039f"
             ],
             [
              0.2222222222222222,
              "#7201a8"
             ],
             [
              0.3333333333333333,
              "#9c179e"
             ],
             [
              0.4444444444444444,
              "#bd3786"
             ],
             [
              0.5555555555555556,
              "#d8576b"
             ],
             [
              0.6666666666666666,
              "#ed7953"
             ],
             [
              0.7777777777777778,
              "#fb9f3a"
             ],
             [
              0.8888888888888888,
              "#fdca26"
             ],
             [
              1,
              "#f0f921"
             ]
            ],
            "type": "surface"
           }
          ],
          "table": [
           {
            "cells": {
             "fill": {
              "color": "#EBF0F8"
             },
             "line": {
              "color": "white"
             }
            },
            "header": {
             "fill": {
              "color": "#C8D4E3"
             },
             "line": {
              "color": "white"
             }
            },
            "type": "table"
           }
          ]
         },
         "layout": {
          "annotationdefaults": {
           "arrowcolor": "#2a3f5f",
           "arrowhead": 0,
           "arrowwidth": 1
          },
          "autotypenumbers": "strict",
          "coloraxis": {
           "colorbar": {
            "outlinewidth": 0,
            "ticks": ""
           }
          },
          "colorscale": {
           "diverging": [
            [
             0,
             "#8e0152"
            ],
            [
             0.1,
             "#c51b7d"
            ],
            [
             0.2,
             "#de77ae"
            ],
            [
             0.3,
             "#f1b6da"
            ],
            [
             0.4,
             "#fde0ef"
            ],
            [
             0.5,
             "#f7f7f7"
            ],
            [
             0.6,
             "#e6f5d0"
            ],
            [
             0.7,
             "#b8e186"
            ],
            [
             0.8,
             "#7fbc41"
            ],
            [
             0.9,
             "#4d9221"
            ],
            [
             1,
             "#276419"
            ]
           ],
           "sequential": [
            [
             0,
             "#0d0887"
            ],
            [
             0.1111111111111111,
             "#46039f"
            ],
            [
             0.2222222222222222,
             "#7201a8"
            ],
            [
             0.3333333333333333,
             "#9c179e"
            ],
            [
             0.4444444444444444,
             "#bd3786"
            ],
            [
             0.5555555555555556,
             "#d8576b"
            ],
            [
             0.6666666666666666,
             "#ed7953"
            ],
            [
             0.7777777777777778,
             "#fb9f3a"
            ],
            [
             0.8888888888888888,
             "#fdca26"
            ],
            [
             1,
             "#f0f921"
            ]
           ],
           "sequentialminus": [
            [
             0,
             "#0d0887"
            ],
            [
             0.1111111111111111,
             "#46039f"
            ],
            [
             0.2222222222222222,
             "#7201a8"
            ],
            [
             0.3333333333333333,
             "#9c179e"
            ],
            [
             0.4444444444444444,
             "#bd3786"
            ],
            [
             0.5555555555555556,
             "#d8576b"
            ],
            [
             0.6666666666666666,
             "#ed7953"
            ],
            [
             0.7777777777777778,
             "#fb9f3a"
            ],
            [
             0.8888888888888888,
             "#fdca26"
            ],
            [
             1,
             "#f0f921"
            ]
           ]
          },
          "colorway": [
           "#636efa",
           "#EF553B",
           "#00cc96",
           "#ab63fa",
           "#FFA15A",
           "#19d3f3",
           "#FF6692",
           "#B6E880",
           "#FF97FF",
           "#FECB52"
          ],
          "font": {
           "color": "#2a3f5f"
          },
          "geo": {
           "bgcolor": "white",
           "lakecolor": "white",
           "landcolor": "#E5ECF6",
           "showlakes": true,
           "showland": true,
           "subunitcolor": "white"
          },
          "hoverlabel": {
           "align": "left"
          },
          "hovermode": "closest",
          "mapbox": {
           "style": "light"
          },
          "paper_bgcolor": "white",
          "plot_bgcolor": "#E5ECF6",
          "polar": {
           "angularaxis": {
            "gridcolor": "white",
            "linecolor": "white",
            "ticks": ""
           },
           "bgcolor": "#E5ECF6",
           "radialaxis": {
            "gridcolor": "white",
            "linecolor": "white",
            "ticks": ""
           }
          },
          "scene": {
           "xaxis": {
            "backgroundcolor": "#E5ECF6",
            "gridcolor": "white",
            "gridwidth": 2,
            "linecolor": "white",
            "showbackground": true,
            "ticks": "",
            "zerolinecolor": "white"
           },
           "yaxis": {
            "backgroundcolor": "#E5ECF6",
            "gridcolor": "white",
            "gridwidth": 2,
            "linecolor": "white",
            "showbackground": true,
            "ticks": "",
            "zerolinecolor": "white"
           },
           "zaxis": {
            "backgroundcolor": "#E5ECF6",
            "gridcolor": "white",
            "gridwidth": 2,
            "linecolor": "white",
            "showbackground": true,
            "ticks": "",
            "zerolinecolor": "white"
           }
          },
          "shapedefaults": {
           "line": {
            "color": "#2a3f5f"
           }
          },
          "ternary": {
           "aaxis": {
            "gridcolor": "white",
            "linecolor": "white",
            "ticks": ""
           },
           "baxis": {
            "gridcolor": "white",
            "linecolor": "white",
            "ticks": ""
           },
           "bgcolor": "#E5ECF6",
           "caxis": {
            "gridcolor": "white",
            "linecolor": "white",
            "ticks": ""
           }
          },
          "title": {
           "x": 0.05
          },
          "xaxis": {
           "automargin": true,
           "gridcolor": "white",
           "linecolor": "white",
           "ticks": "",
           "title": {
            "standoff": 15
           },
           "zerolinecolor": "white",
           "zerolinewidth": 2
          },
          "yaxis": {
           "automargin": true,
           "gridcolor": "white",
           "linecolor": "white",
           "ticks": "",
           "title": {
            "standoff": 15
           },
           "zerolinecolor": "white",
           "zerolinewidth": 2
          }
         }
        },
        "title": {
         "text": "Big 5 Leagues: All Progressions: Top 25"
        },
        "xaxis": {
         "anchor": "y",
         "domain": [
          0,
          1
         ],
         "title": {
          "text": "Player"
         }
        },
        "yaxis": {
         "anchor": "x",
         "domain": [
          0,
          1
         ],
         "title": {
          "text": "value"
         }
        }
       }
      },
      "text/html": [
       "<div>                            <div id=\"399831fa-f2c9-4376-a4f6-411881d6b9b8\" class=\"plotly-graph-div\" style=\"height:525px; width:100%;\"></div>            <script type=\"text/javascript\">                require([\"plotly\"], function(Plotly) {                    window.PLOTLYENV=window.PLOTLYENV || {};                                    if (document.getElementById(\"399831fa-f2c9-4376-a4f6-411881d6b9b8\")) {                    Plotly.newPlot(                        \"399831fa-f2c9-4376-a4f6-411881d6b9b8\",                        [{\"alignmentgroup\":\"True\",\"customdata\":[[14.875],[17.699],[12.524],[12.389],[10.708],[10.743],[13.602],[11.905],[14.915],[10.432],[9.769],[9.38],[10.312],[9.643],[9.251],[10.669],[11.564],[9.347],[9.632],[9.601],[8.676],[9.839],[8.79],[14.093],[10.484]],\"hovertemplate\":\"variable=Carries into 18yard Box<br>Player=%{x}<br>value=%{y}<br>Progressions p90=%{customdata[0]}<extra></extra>\",\"legendgroup\":\"Carries into 18yard Box\",\"marker\":{\"color\":\"rgb(27,158,119)\",\"pattern\":{\"shape\":\"\"}},\"name\":\"Carries into 18yard Box\",\"offsetgroup\":\"Carries into 18yard Box\",\"orientation\":\"v\",\"showlegend\":true,\"textposition\":\"auto\",\"x\":[\"Jo\\u00e3o Cancelo\",\"Lionel Messi\",\"Trent Alexander-Arnold\",\"Aymeric Laporte\",\"Declan Rice\",\"Matt\\u00e9o Guendouzi\",\"Luis Alberto\",\"Jordi Alba\",\"Toni Kroos\",\"Nicol\\u00f2 Barella\",\"Bruno Fernandes\",\"Sergio Busquets\",\"Rodri\",\"Kylian Mbapp\\u00e9\",\"Antonio Candreva\",\"Vinicius J\\u00fanior\",\"Joshua Kimmich\",\"Antonio R\\u00fcdiger\",\"Maxime Lopez\",\"Marcelo Brozovi\\u0107\",\"Pierre H\\u00f8jbjerg\",\"Sergio Canales\",\"Sergi Darder\",\"Marco Verratti\",\"Jordan Henderson\"],\"xaxis\":\"x\",\"y\":[35,27,11,1,13,19,9,11,2,23,23,1,8,90,28,101,2,3,9,4,7,13,13,10,4],\"yaxis\":\"y\",\"type\":\"bar\"},{\"alignmentgroup\":\"True\",\"customdata\":[[14.875],[17.699],[12.524],[12.389],[10.708],[10.743],[13.602],[11.905],[14.915],[10.432],[9.769],[9.38],[10.312],[9.643],[9.251],[10.669],[11.564],[9.347],[9.632],[9.601],[8.676],[9.839],[8.79],[14.093],[10.484]],\"hovertemplate\":\"variable=Passes into 18yard Box<br>Player=%{x}<br>value=%{y}<br>Progressions p90=%{customdata[0]}<extra></extra>\",\"legendgroup\":\"Passes into 18yard Box\",\"marker\":{\"color\":\"rgb(217,95,2)\",\"pattern\":{\"shape\":\"\"}},\"name\":\"Passes into 18yard Box\",\"offsetgroup\":\"Passes into 18yard Box\",\"orientation\":\"v\",\"showlegend\":true,\"textposition\":\"auto\",\"x\":[\"Jo\\u00e3o Cancelo\",\"Lionel Messi\",\"Trent Alexander-Arnold\",\"Aymeric Laporte\",\"Declan Rice\",\"Matt\\u00e9o Guendouzi\",\"Luis Alberto\",\"Jordi Alba\",\"Toni Kroos\",\"Nicol\\u00f2 Barella\",\"Bruno Fernandes\",\"Sergio Busquets\",\"Rodri\",\"Kylian Mbapp\\u00e9\",\"Antonio Candreva\",\"Vinicius J\\u00fanior\",\"Joshua Kimmich\",\"Antonio R\\u00fcdiger\",\"Maxime Lopez\",\"Marcelo Brozovi\\u0107\",\"Pierre H\\u00f8jbjerg\",\"Sergio Canales\",\"Sergi Darder\",\"Marco Verratti\",\"Jordan Henderson\"],\"xaxis\":\"x\",\"y\":[95,90,89,11,31,53,49,64,41,80,85,34,36,60,72,67,55,29,16,30,35,62,43,45,53],\"yaxis\":\"y\",\"type\":\"bar\"},{\"alignmentgroup\":\"True\",\"customdata\":[[14.875],[17.699],[12.524],[12.389],[10.708],[10.743],[13.602],[11.905],[14.915],[10.432],[9.769],[9.38],[10.312],[9.643],[9.251],[10.669],[11.564],[9.347],[9.632],[9.601],[8.676],[9.839],[8.79],[14.093],[10.484]],\"hovertemplate\":\"variable=Carries into Final 3rd<br>Player=%{x}<br>value=%{y}<br>Progressions p90=%{customdata[0]}<extra></extra>\",\"legendgroup\":\"Carries into Final 3rd\",\"marker\":{\"color\":\"rgb(117,112,179)\",\"pattern\":{\"shape\":\"\"}},\"name\":\"Carries into Final 3rd\",\"offsetgroup\":\"Carries into Final 3rd\",\"orientation\":\"v\",\"showlegend\":true,\"textposition\":\"auto\",\"x\":[\"Jo\\u00e3o Cancelo\",\"Lionel Messi\",\"Trent Alexander-Arnold\",\"Aymeric Laporte\",\"Declan Rice\",\"Matt\\u00e9o Guendouzi\",\"Luis Alberto\",\"Jordi Alba\",\"Toni Kroos\",\"Nicol\\u00f2 Barella\",\"Bruno Fernandes\",\"Sergio Busquets\",\"Rodri\",\"Kylian Mbapp\\u00e9\",\"Antonio Candreva\",\"Vinicius J\\u00fanior\",\"Joshua Kimmich\",\"Antonio R\\u00fcdiger\",\"Maxime Lopez\",\"Marcelo Brozovi\\u0107\",\"Pierre H\\u00f8jbjerg\",\"Sergio Canales\",\"Sergi Darder\",\"Marco Verratti\",\"Jordan Henderson\"],\"xaxis\":\"x\",\"y\":[138,113,66,61,92,84,91,44,37,87,75,38,44,111,93,116,43,63,66,57,39,82,73,75,59],\"yaxis\":\"y\",\"type\":\"bar\"},{\"alignmentgroup\":\"True\",\"customdata\":[[14.875],[17.699],[12.524],[12.389],[10.708],[10.743],[13.602],[11.905],[14.915],[10.432],[9.769],[9.38],[10.312],[9.643],[9.251],[10.669],[11.564],[9.347],[9.632],[9.601],[8.676],[9.839],[8.79],[14.093],[10.484]],\"hovertemplate\":\"variable=Passes into Final 3rd<br>Player=%{x}<br>value=%{y}<br>Progressions p90=%{customdata[0]}<extra></extra>\",\"legendgroup\":\"Passes into Final 3rd\",\"marker\":{\"color\":\"rgb(231,41,138)\",\"pattern\":{\"shape\":\"\"}},\"name\":\"Passes into Final 3rd\",\"offsetgroup\":\"Passes into Final 3rd\",\"orientation\":\"v\",\"showlegend\":true,\"textposition\":\"auto\",\"x\":[\"Jo\\u00e3o Cancelo\",\"Lionel Messi\",\"Trent Alexander-Arnold\",\"Aymeric Laporte\",\"Declan Rice\",\"Matt\\u00e9o Guendouzi\",\"Luis Alberto\",\"Jordi Alba\",\"Toni Kroos\",\"Nicol\\u00f2 Barella\",\"Bruno Fernandes\",\"Sergio Busquets\",\"Rodri\",\"Kylian Mbapp\\u00e9\",\"Antonio Candreva\",\"Vinicius J\\u00fanior\",\"Joshua Kimmich\",\"Antonio R\\u00fcdiger\",\"Maxime Lopez\",\"Marcelo Brozovi\\u0107\",\"Pierre H\\u00f8jbjerg\",\"Sergio Canales\",\"Sergi Darder\",\"Marco Verratti\",\"Jordan Henderson\"],\"xaxis\":\"x\",\"y\":[266,193,231,316,242,220,206,231,269,148,155,260,242,63,128,35,218,220,223,222,227,148,176,173,187],\"yaxis\":\"y\",\"type\":\"bar\"}],                        {\"template\":{\"data\":{\"bar\":[{\"error_x\":{\"color\":\"#2a3f5f\"},\"error_y\":{\"color\":\"#2a3f5f\"},\"marker\":{\"line\":{\"color\":\"#E5ECF6\",\"width\":0.5},\"pattern\":{\"fillmode\":\"overlay\",\"size\":10,\"solidity\":0.2}},\"type\":\"bar\"}],\"barpolar\":[{\"marker\":{\"line\":{\"color\":\"#E5ECF6\",\"width\":0.5},\"pattern\":{\"fillmode\":\"overlay\",\"size\":10,\"solidity\":0.2}},\"type\":\"barpolar\"}],\"carpet\":[{\"aaxis\":{\"endlinecolor\":\"#2a3f5f\",\"gridcolor\":\"white\",\"linecolor\":\"white\",\"minorgridcolor\":\"white\",\"startlinecolor\":\"#2a3f5f\"},\"baxis\":{\"endlinecolor\":\"#2a3f5f\",\"gridcolor\":\"white\",\"linecolor\":\"white\",\"minorgridcolor\":\"white\",\"startlinecolor\":\"#2a3f5f\"},\"type\":\"carpet\"}],\"choropleth\":[{\"colorbar\":{\"outlinewidth\":0,\"ticks\":\"\"},\"type\":\"choropleth\"}],\"contour\":[{\"colorbar\":{\"outlinewidth\":0,\"ticks\":\"\"},\"colorscale\":[[0.0,\"#0d0887\"],[0.1111111111111111,\"#46039f\"],[0.2222222222222222,\"#7201a8\"],[0.3333333333333333,\"#9c179e\"],[0.4444444444444444,\"#bd3786\"],[0.5555555555555556,\"#d8576b\"],[0.6666666666666666,\"#ed7953\"],[0.7777777777777778,\"#fb9f3a\"],[0.8888888888888888,\"#fdca26\"],[1.0,\"#f0f921\"]],\"type\":\"contour\"}],\"contourcarpet\":[{\"colorbar\":{\"outlinewidth\":0,\"ticks\":\"\"},\"type\":\"contourcarpet\"}],\"heatmap\":[{\"colorbar\":{\"outlinewidth\":0,\"ticks\":\"\"},\"colorscale\":[[0.0,\"#0d0887\"],[0.1111111111111111,\"#46039f\"],[0.2222222222222222,\"#7201a8\"],[0.3333333333333333,\"#9c179e\"],[0.4444444444444444,\"#bd3786\"],[0.5555555555555556,\"#d8576b\"],[0.6666666666666666,\"#ed7953\"],[0.7777777777777778,\"#fb9f3a\"],[0.8888888888888888,\"#fdca26\"],[1.0,\"#f0f921\"]],\"type\":\"heatmap\"}],\"heatmapgl\":[{\"colorbar\":{\"outlinewidth\":0,\"ticks\":\"\"},\"colorscale\":[[0.0,\"#0d0887\"],[0.1111111111111111,\"#46039f\"],[0.2222222222222222,\"#7201a8\"],[0.3333333333333333,\"#9c179e\"],[0.4444444444444444,\"#bd3786\"],[0.5555555555555556,\"#d8576b\"],[0.6666666666666666,\"#ed7953\"],[0.7777777777777778,\"#fb9f3a\"],[0.8888888888888888,\"#fdca26\"],[1.0,\"#f0f921\"]],\"type\":\"heatmapgl\"}],\"histogram\":[{\"marker\":{\"pattern\":{\"fillmode\":\"overlay\",\"size\":10,\"solidity\":0.2}},\"type\":\"histogram\"}],\"histogram2d\":[{\"colorbar\":{\"outlinewidth\":0,\"ticks\":\"\"},\"colorscale\":[[0.0,\"#0d0887\"],[0.1111111111111111,\"#46039f\"],[0.2222222222222222,\"#7201a8\"],[0.3333333333333333,\"#9c179e\"],[0.4444444444444444,\"#bd3786\"],[0.5555555555555556,\"#d8576b\"],[0.6666666666666666,\"#ed7953\"],[0.7777777777777778,\"#fb9f3a\"],[0.8888888888888888,\"#fdca26\"],[1.0,\"#f0f921\"]],\"type\":\"histogram2d\"}],\"histogram2dcontour\":[{\"colorbar\":{\"outlinewidth\":0,\"ticks\":\"\"},\"colorscale\":[[0.0,\"#0d0887\"],[0.1111111111111111,\"#46039f\"],[0.2222222222222222,\"#7201a8\"],[0.3333333333333333,\"#9c179e\"],[0.4444444444444444,\"#bd3786\"],[0.5555555555555556,\"#d8576b\"],[0.6666666666666666,\"#ed7953\"],[0.7777777777777778,\"#fb9f3a\"],[0.8888888888888888,\"#fdca26\"],[1.0,\"#f0f921\"]],\"type\":\"histogram2dcontour\"}],\"mesh3d\":[{\"colorbar\":{\"outlinewidth\":0,\"ticks\":\"\"},\"type\":\"mesh3d\"}],\"parcoords\":[{\"line\":{\"colorbar\":{\"outlinewidth\":0,\"ticks\":\"\"}},\"type\":\"parcoords\"}],\"pie\":[{\"automargin\":true,\"type\":\"pie\"}],\"scatter\":[{\"marker\":{\"colorbar\":{\"outlinewidth\":0,\"ticks\":\"\"}},\"type\":\"scatter\"}],\"scatter3d\":[{\"line\":{\"colorbar\":{\"outlinewidth\":0,\"ticks\":\"\"}},\"marker\":{\"colorbar\":{\"outlinewidth\":0,\"ticks\":\"\"}},\"type\":\"scatter3d\"}],\"scattercarpet\":[{\"marker\":{\"colorbar\":{\"outlinewidth\":0,\"ticks\":\"\"}},\"type\":\"scattercarpet\"}],\"scattergeo\":[{\"marker\":{\"colorbar\":{\"outlinewidth\":0,\"ticks\":\"\"}},\"type\":\"scattergeo\"}],\"scattergl\":[{\"marker\":{\"colorbar\":{\"outlinewidth\":0,\"ticks\":\"\"}},\"type\":\"scattergl\"}],\"scattermapbox\":[{\"marker\":{\"colorbar\":{\"outlinewidth\":0,\"ticks\":\"\"}},\"type\":\"scattermapbox\"}],\"scatterpolar\":[{\"marker\":{\"colorbar\":{\"outlinewidth\":0,\"ticks\":\"\"}},\"type\":\"scatterpolar\"}],\"scatterpolargl\":[{\"marker\":{\"colorbar\":{\"outlinewidth\":0,\"ticks\":\"\"}},\"type\":\"scatterpolargl\"}],\"scatterternary\":[{\"marker\":{\"colorbar\":{\"outlinewidth\":0,\"ticks\":\"\"}},\"type\":\"scatterternary\"}],\"surface\":[{\"colorbar\":{\"outlinewidth\":0,\"ticks\":\"\"},\"colorscale\":[[0.0,\"#0d0887\"],[0.1111111111111111,\"#46039f\"],[0.2222222222222222,\"#7201a8\"],[0.3333333333333333,\"#9c179e\"],[0.4444444444444444,\"#bd3786\"],[0.5555555555555556,\"#d8576b\"],[0.6666666666666666,\"#ed7953\"],[0.7777777777777778,\"#fb9f3a\"],[0.8888888888888888,\"#fdca26\"],[1.0,\"#f0f921\"]],\"type\":\"surface\"}],\"table\":[{\"cells\":{\"fill\":{\"color\":\"#EBF0F8\"},\"line\":{\"color\":\"white\"}},\"header\":{\"fill\":{\"color\":\"#C8D4E3\"},\"line\":{\"color\":\"white\"}},\"type\":\"table\"}]},\"layout\":{\"annotationdefaults\":{\"arrowcolor\":\"#2a3f5f\",\"arrowhead\":0,\"arrowwidth\":1},\"autotypenumbers\":\"strict\",\"coloraxis\":{\"colorbar\":{\"outlinewidth\":0,\"ticks\":\"\"}},\"colorscale\":{\"diverging\":[[0,\"#8e0152\"],[0.1,\"#c51b7d\"],[0.2,\"#de77ae\"],[0.3,\"#f1b6da\"],[0.4,\"#fde0ef\"],[0.5,\"#f7f7f7\"],[0.6,\"#e6f5d0\"],[0.7,\"#b8e186\"],[0.8,\"#7fbc41\"],[0.9,\"#4d9221\"],[1,\"#276419\"]],\"sequential\":[[0.0,\"#0d0887\"],[0.1111111111111111,\"#46039f\"],[0.2222222222222222,\"#7201a8\"],[0.3333333333333333,\"#9c179e\"],[0.4444444444444444,\"#bd3786\"],[0.5555555555555556,\"#d8576b\"],[0.6666666666666666,\"#ed7953\"],[0.7777777777777778,\"#fb9f3a\"],[0.8888888888888888,\"#fdca26\"],[1.0,\"#f0f921\"]],\"sequentialminus\":[[0.0,\"#0d0887\"],[0.1111111111111111,\"#46039f\"],[0.2222222222222222,\"#7201a8\"],[0.3333333333333333,\"#9c179e\"],[0.4444444444444444,\"#bd3786\"],[0.5555555555555556,\"#d8576b\"],[0.6666666666666666,\"#ed7953\"],[0.7777777777777778,\"#fb9f3a\"],[0.8888888888888888,\"#fdca26\"],[1.0,\"#f0f921\"]]},\"colorway\":[\"#636efa\",\"#EF553B\",\"#00cc96\",\"#ab63fa\",\"#FFA15A\",\"#19d3f3\",\"#FF6692\",\"#B6E880\",\"#FF97FF\",\"#FECB52\"],\"font\":{\"color\":\"#2a3f5f\"},\"geo\":{\"bgcolor\":\"white\",\"lakecolor\":\"white\",\"landcolor\":\"#E5ECF6\",\"showlakes\":true,\"showland\":true,\"subunitcolor\":\"white\"},\"hoverlabel\":{\"align\":\"left\"},\"hovermode\":\"closest\",\"mapbox\":{\"style\":\"light\"},\"paper_bgcolor\":\"white\",\"plot_bgcolor\":\"#E5ECF6\",\"polar\":{\"angularaxis\":{\"gridcolor\":\"white\",\"linecolor\":\"white\",\"ticks\":\"\"},\"bgcolor\":\"#E5ECF6\",\"radialaxis\":{\"gridcolor\":\"white\",\"linecolor\":\"white\",\"ticks\":\"\"}},\"scene\":{\"xaxis\":{\"backgroundcolor\":\"#E5ECF6\",\"gridcolor\":\"white\",\"gridwidth\":2,\"linecolor\":\"white\",\"showbackground\":true,\"ticks\":\"\",\"zerolinecolor\":\"white\"},\"yaxis\":{\"backgroundcolor\":\"#E5ECF6\",\"gridcolor\":\"white\",\"gridwidth\":2,\"linecolor\":\"white\",\"showbackground\":true,\"ticks\":\"\",\"zerolinecolor\":\"white\"},\"zaxis\":{\"backgroundcolor\":\"#E5ECF6\",\"gridcolor\":\"white\",\"gridwidth\":2,\"linecolor\":\"white\",\"showbackground\":true,\"ticks\":\"\",\"zerolinecolor\":\"white\"}},\"shapedefaults\":{\"line\":{\"color\":\"#2a3f5f\"}},\"ternary\":{\"aaxis\":{\"gridcolor\":\"white\",\"linecolor\":\"white\",\"ticks\":\"\"},\"baxis\":{\"gridcolor\":\"white\",\"linecolor\":\"white\",\"ticks\":\"\"},\"bgcolor\":\"#E5ECF6\",\"caxis\":{\"gridcolor\":\"white\",\"linecolor\":\"white\",\"ticks\":\"\"}},\"title\":{\"x\":0.05},\"xaxis\":{\"automargin\":true,\"gridcolor\":\"white\",\"linecolor\":\"white\",\"ticks\":\"\",\"title\":{\"standoff\":15},\"zerolinecolor\":\"white\",\"zerolinewidth\":2},\"yaxis\":{\"automargin\":true,\"gridcolor\":\"white\",\"linecolor\":\"white\",\"ticks\":\"\",\"title\":{\"standoff\":15},\"zerolinecolor\":\"white\",\"zerolinewidth\":2}}},\"xaxis\":{\"anchor\":\"y\",\"domain\":[0.0,1.0],\"title\":{\"text\":\"Player\"}},\"yaxis\":{\"anchor\":\"x\",\"domain\":[0.0,1.0],\"title\":{\"text\":\"value\"}},\"legend\":{\"title\":{\"text\":\"variable\"},\"tracegroupgap\":0},\"title\":{\"text\":\"Big 5 Leagues: All Progressions: Top 25\"},\"barmode\":\"relative\"},                        {\"responsive\": true}                    ).then(function(){\n",
       "                            \n",
       "var gd = document.getElementById('399831fa-f2c9-4376-a4f6-411881d6b9b8');\n",
       "var x = new MutationObserver(function (mutations, observer) {{\n",
       "        var display = window.getComputedStyle(gd).display;\n",
       "        if (!display || display === 'none') {{\n",
       "            console.log([gd, 'removed!']);\n",
       "            Plotly.purge(gd);\n",
       "            observer.disconnect();\n",
       "        }}\n",
       "}});\n",
       "\n",
       "// Listen for the removal of the full notebook cells\n",
       "var notebookContainer = gd.closest('#notebook-container');\n",
       "if (notebookContainer) {{\n",
       "    x.observe(notebookContainer, {childList: true});\n",
       "}}\n",
       "\n",
       "// Listen for the clearing of the current output cell\n",
       "var outputEl = gd.closest('.output');\n",
       "if (outputEl) {{\n",
       "    x.observe(outputEl, {childList: true});\n",
       "}}\n",
       "\n",
       "                        })                };                });            </script>        </div>"
      ]
     },
     "metadata": {},
     "output_type": "display_data"
    }
   ],
   "source": [
    "progtot_df = pd.merge(box18_df, final3rd_df)\n",
    "progtot_df['progtot'] = progtot_df['Carry18'] + progtot_df['Pass18'] + progtot_df['Pass3rd'] + progtot_df['Carry3rd']\n",
    "progtot_df.sort_values(by=['progtot'], inplace=True, ascending=False)\n",
    "progtot25_df = progtot_df.head(25)\n",
    "progtot25_df['Progressions p90'] = progtot25_df['progtot'] / progtot25_df['90s']\n",
    "progtot25_df['Progressions p90'] = progtot25_df['Progressions p90'].round(decimals = 3)\n",
    "progtot25_df.rename(columns = {'Carry18':'Carries into 18yard Box', 'Pass18':'Passes into 18yard Box', 'Pass3rd':'Passes into Final 3rd','Carry3rd':'Carries into Final 3rd'}, inplace = True)\n",
    "fig = px.bar(progtot25_df, x=\"Player\", y=[\"Carries into 18yard Box\", \"Passes into 18yard Box\", \"Carries into Final 3rd\", \"Passes into Final 3rd\"], hover_data=['Progressions p90'], color_discrete_sequence=px.colors.qualitative.Dark2, title=\"Big 5 Leagues: All Progressions: Top 25\")\n",
    "fig.show()"
   ]
  },
  {
   "cell_type": "markdown",
   "id": "9833da48",
   "metadata": {},
   "source": [
    "## The 2021/22 Progressor Award goes to...\n",
    "\n",
    "Such an award would require a much more rigorous analysis than I have provided here. We have looked exclusively at quantity of progressions made. I believe the next step in this work would be to investigate the quality of progressions made. I have a few ideas for this, including weighting progressions according to whether or not they were part of a a shot/goal ending sequence. Maybe next year. Nonetheless, there are a few players that I would like to highlight as particularly accomplished progressors.\n",
    "\n",
    "### João Cancelo\n",
    "\n",
    "A top progressor, both into the final third and the penalty box, Cancelo is the man to beat. He tops our table for overall progressions and he can do both, carries and passes. This season, Cancelo was one of the most important attacking threats in a side with the best choice of elite attackers in Europe (surely?). And he did it all from fullback!\n",
    "\n",
    "### Vinícius Júnior\n",
    "\n",
    "Vini Jr truly had a season to remember, a key player in Real's successful La Liga campaign and scoring the winner in the Champions League final. Vini Jr was also the best around at getting the ball into the box. A natural goalscorer like him knows that putting the ball in the box is key to winning titles. \n",
    "\n",
    "### Kylian Mbappé\n",
    "\n",
    "Mbappé has been doing it for so long that it's easy to take him for granted. No matter how you cut it, he's one of the best in the world. He gets the ball into the box almost as much as Vini Jr and, considering he is a typical forward, he has decent involvement in final third progression too. He gets a mention for his high xA, indicative of a progressor-creator, a two-in-one threat. "
   ]
  }
 ],
 "metadata": {
  "kernelspec": {
   "display_name": "Python 3",
   "language": "python",
   "name": "python3"
  },
  "language_info": {
   "codemirror_mode": {
    "name": "ipython",
    "version": 3
   },
   "file_extension": ".py",
   "mimetype": "text/x-python",
   "name": "python",
   "nbconvert_exporter": "python",
   "pygments_lexer": "ipython3",
   "version": "3.8.8"
  }
 },
 "nbformat": 4,
 "nbformat_minor": 5
}
